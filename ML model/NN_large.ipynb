{
 "cells": [
  {
   "cell_type": "code",
   "execution_count": 1,
   "metadata": {},
   "outputs": [],
   "source": [
    "import torch\n",
    "import torch.nn as nn\n",
    "import torch.optim as optim\n",
    "from torch.utils.data import DataLoader, TensorDataset\n",
    "from sklearn.model_selection import train_test_split\n",
    "import pandas as pd\n",
    "import matplotlib.pyplot as plt\n",
    "import numpy as np\n",
    "import time\n",
    "import torch.quantization\n",
    "from tqdm import tqdm \n",
    "from torch.nn.utils import prune\n",
    "# import hls4ml"
   ]
  },
  {
   "cell_type": "code",
   "execution_count": 1,
   "metadata": {},
   "outputs": [
    {
     "name": "stdout",
     "output_type": "stream",
     "text": [
      "\u001b[31mERROR: Could not find a version that satisfies the requirement hsl4ml (from versions: none)\u001b[0m\u001b[31m\n",
      "\u001b[0m\u001b[31mERROR: No matching distribution found for hsl4ml\u001b[0m\u001b[31m\n",
      "\u001b[0mNote: you may need to restart the kernel to use updated packages.\n"
     ]
    }
   ],
   "source": []
  },
  {
   "cell_type": "code",
   "execution_count": 2,
   "metadata": {},
   "outputs": [],
   "source": [
    "from matplotlib import font_manager\n",
    "from cycler import cycler\n",
    "from matplotlib.font_manager import FontProperties\n",
    "font_path = '/vols/cms/hw423/Acc/Fonts/ImperialSansText-Regular.ttf'\n",
    "font_manager.fontManager.addfont(font_path)  # 添加字体路径\n",
    "font_name = font_manager.FontProperties(fname=font_path).get_name()  # 获取字体名称\n",
    "plt.rcParams['font.family'] = font_name \n",
    "plt.rcParams['axes.prop_cycle'] = cycler(color=['#0000CD', '#7B68EE', '#000080', '#C71585', '#9467bd'])\n",
    "plt.rcParams['figure.facecolor'] ='#F5F5F5'\n",
    "plt.rcParams['axes.facecolor'] = '#F5F5F5'"
   ]
  },
  {
   "cell_type": "code",
   "execution_count": 3,
   "metadata": {},
   "outputs": [],
   "source": [
    "def AUC(model,test_loader):\n",
    "    model.eval()\n",
    "    y_pre = []\n",
    "    y_labe = []\n",
    "    with torch.no_grad():\n",
    "        correct = 0\n",
    "        total = 0\n",
    "        for inputs, labels in test_loader:\n",
    "            outputs = model(inputs)\n",
    "            y_pre=np.append(y_pre,outputs.numpy())\n",
    "            y_labe=np.append(y_labe,labels.numpy())\n",
    "    from sklearn.metrics import roc_auc_score\n",
    "    auc = roc_auc_score(y_labe, y_pre)\n",
    "    print(f'AUC = {auc}')"
   ]
  },
  {
   "cell_type": "markdown",
   "metadata": {},
   "source": [
    "# Original Model"
   ]
  },
  {
   "cell_type": "code",
   "execution_count": 1,
   "metadata": {},
   "outputs": [],
   "source": [
    "import pandas as pd"
   ]
  },
  {
   "cell_type": "code",
   "execution_count": 3,
   "metadata": {},
   "outputs": [
    {
     "data": {
      "text/html": [
       "<div>\n",
       "<style scoped>\n",
       "    .dataframe tbody tr th:only-of-type {\n",
       "        vertical-align: middle;\n",
       "    }\n",
       "\n",
       "    .dataframe tbody tr th {\n",
       "        vertical-align: top;\n",
       "    }\n",
       "\n",
       "    .dataframe thead th {\n",
       "        text-align: right;\n",
       "    }\n",
       "</style>\n",
       "<table border=\"1\" class=\"dataframe\">\n",
       "  <thead>\n",
       "    <tr style=\"text-align: right;\">\n",
       "      <th></th>\n",
       "      <th>leadPhotonEn</th>\n",
       "      <th>leadPhotonMass</th>\n",
       "      <th>leadPhotonPt</th>\n",
       "      <th>leadPhotonEta</th>\n",
       "      <th>leadPhotonPhi</th>\n",
       "      <th>leadPhotonIDMVA</th>\n",
       "      <th>leadPhotonSigmaE</th>\n",
       "      <th>leadPhotonHoE</th>\n",
       "      <th>leadPhotonPfRelIsoAll</th>\n",
       "      <th>leadPhotonPfRelIsoChg</th>\n",
       "      <th>...</th>\n",
       "      <th>leadJetDiphoDEta</th>\n",
       "      <th>subleadJetDiphoDPhi</th>\n",
       "      <th>subleadJetDiphoDEta</th>\n",
       "      <th>nSoftJets</th>\n",
       "      <th>metPt</th>\n",
       "      <th>metPhi</th>\n",
       "      <th>metSumET</th>\n",
       "      <th>metSignificance</th>\n",
       "      <th>weight</th>\n",
       "      <th>proc</th>\n",
       "    </tr>\n",
       "  </thead>\n",
       "  <tbody>\n",
       "    <tr>\n",
       "      <th>1111356</th>\n",
       "      <td>77.388908</td>\n",
       "      <td>0.000001</td>\n",
       "      <td>57.133667</td>\n",
       "      <td>0.818970</td>\n",
       "      <td>-1.590332</td>\n",
       "      <td>0.914551</td>\n",
       "      <td>0.937500</td>\n",
       "      <td>0.000000</td>\n",
       "      <td>0.027066</td>\n",
       "      <td>0.027066</td>\n",
       "      <td>...</td>\n",
       "      <td>-1.645295</td>\n",
       "      <td>0.412073</td>\n",
       "      <td>-0.237702</td>\n",
       "      <td>6.0</td>\n",
       "      <td>22.016317</td>\n",
       "      <td>-0.238159</td>\n",
       "      <td>1211.0</td>\n",
       "      <td>0.869141</td>\n",
       "      <td>1.312993e-06</td>\n",
       "      <td>0</td>\n",
       "    </tr>\n",
       "    <tr>\n",
       "      <th>708637</th>\n",
       "      <td>129.196991</td>\n",
       "      <td>-0.000003</td>\n",
       "      <td>129.048645</td>\n",
       "      <td>0.047943</td>\n",
       "      <td>1.322998</td>\n",
       "      <td>0.972168</td>\n",
       "      <td>1.296875</td>\n",
       "      <td>0.000000</td>\n",
       "      <td>0.000000</td>\n",
       "      <td>0.000000</td>\n",
       "      <td>...</td>\n",
       "      <td>0.605590</td>\n",
       "      <td>2.341702</td>\n",
       "      <td>0.726195</td>\n",
       "      <td>6.0</td>\n",
       "      <td>77.595505</td>\n",
       "      <td>0.022762</td>\n",
       "      <td>775.5</td>\n",
       "      <td>21.265625</td>\n",
       "      <td>9.591657e-11</td>\n",
       "      <td>6</td>\n",
       "    </tr>\n",
       "    <tr>\n",
       "      <th>846317</th>\n",
       "      <td>129.661087</td>\n",
       "      <td>0.000002</td>\n",
       "      <td>124.301880</td>\n",
       "      <td>-0.292603</td>\n",
       "      <td>-2.690918</td>\n",
       "      <td>0.744141</td>\n",
       "      <td>1.562500</td>\n",
       "      <td>0.015930</td>\n",
       "      <td>0.021015</td>\n",
       "      <td>0.021015</td>\n",
       "      <td>...</td>\n",
       "      <td>-1.327674</td>\n",
       "      <td>0.620501</td>\n",
       "      <td>0.540246</td>\n",
       "      <td>6.0</td>\n",
       "      <td>17.334482</td>\n",
       "      <td>1.477539</td>\n",
       "      <td>1763.0</td>\n",
       "      <td>0.518555</td>\n",
       "      <td>1.260631e-06</td>\n",
       "      <td>0</td>\n",
       "    </tr>\n",
       "    <tr>\n",
       "      <th>2577373</th>\n",
       "      <td>89.011086</td>\n",
       "      <td>0.000001</td>\n",
       "      <td>89.006615</td>\n",
       "      <td>-0.010021</td>\n",
       "      <td>-2.511719</td>\n",
       "      <td>0.708984</td>\n",
       "      <td>0.890625</td>\n",
       "      <td>0.000000</td>\n",
       "      <td>0.000000</td>\n",
       "      <td>0.000000</td>\n",
       "      <td>...</td>\n",
       "      <td>-999.000000</td>\n",
       "      <td>-999.000000</td>\n",
       "      <td>-999.000000</td>\n",
       "      <td>6.0</td>\n",
       "      <td>20.119852</td>\n",
       "      <td>0.106323</td>\n",
       "      <td>1245.0</td>\n",
       "      <td>0.977051</td>\n",
       "      <td>7.116355e-06</td>\n",
       "      <td>0</td>\n",
       "    </tr>\n",
       "    <tr>\n",
       "      <th>213346</th>\n",
       "      <td>155.278717</td>\n",
       "      <td>0.000000</td>\n",
       "      <td>147.924973</td>\n",
       "      <td>-0.314026</td>\n",
       "      <td>2.483398</td>\n",
       "      <td>0.963379</td>\n",
       "      <td>1.531250</td>\n",
       "      <td>0.000000</td>\n",
       "      <td>0.008058</td>\n",
       "      <td>0.008058</td>\n",
       "      <td>...</td>\n",
       "      <td>-2.512229</td>\n",
       "      <td>-1.419967</td>\n",
       "      <td>3.073708</td>\n",
       "      <td>6.0</td>\n",
       "      <td>108.228378</td>\n",
       "      <td>-1.519043</td>\n",
       "      <td>2620.0</td>\n",
       "      <td>8.085938</td>\n",
       "      <td>6.632386e-11</td>\n",
       "      <td>6</td>\n",
       "    </tr>\n",
       "    <tr>\n",
       "      <th>...</th>\n",
       "      <td>...</td>\n",
       "      <td>...</td>\n",
       "      <td>...</td>\n",
       "      <td>...</td>\n",
       "      <td>...</td>\n",
       "      <td>...</td>\n",
       "      <td>...</td>\n",
       "      <td>...</td>\n",
       "      <td>...</td>\n",
       "      <td>...</td>\n",
       "      <td>...</td>\n",
       "      <td>...</td>\n",
       "      <td>...</td>\n",
       "      <td>...</td>\n",
       "      <td>...</td>\n",
       "      <td>...</td>\n",
       "      <td>...</td>\n",
       "      <td>...</td>\n",
       "      <td>...</td>\n",
       "      <td>...</td>\n",
       "      <td>...</td>\n",
       "    </tr>\n",
       "    <tr>\n",
       "      <th>667971</th>\n",
       "      <td>73.866203</td>\n",
       "      <td>0.000000</td>\n",
       "      <td>73.475899</td>\n",
       "      <td>-0.103027</td>\n",
       "      <td>-1.945801</td>\n",
       "      <td>0.977539</td>\n",
       "      <td>0.757812</td>\n",
       "      <td>0.000000</td>\n",
       "      <td>0.000000</td>\n",
       "      <td>0.000000</td>\n",
       "      <td>...</td>\n",
       "      <td>1.846709</td>\n",
       "      <td>-2.697640</td>\n",
       "      <td>2.885161</td>\n",
       "      <td>6.0</td>\n",
       "      <td>33.445145</td>\n",
       "      <td>-2.115723</td>\n",
       "      <td>2037.0</td>\n",
       "      <td>1.334961</td>\n",
       "      <td>9.410649e-11</td>\n",
       "      <td>6</td>\n",
       "    </tr>\n",
       "    <tr>\n",
       "      <th>316710</th>\n",
       "      <td>107.925034</td>\n",
       "      <td>0.000000</td>\n",
       "      <td>72.095215</td>\n",
       "      <td>-0.959717</td>\n",
       "      <td>-2.927734</td>\n",
       "      <td>0.838379</td>\n",
       "      <td>1.453125</td>\n",
       "      <td>0.011169</td>\n",
       "      <td>0.017436</td>\n",
       "      <td>0.001089</td>\n",
       "      <td>...</td>\n",
       "      <td>-999.000000</td>\n",
       "      <td>-999.000000</td>\n",
       "      <td>-999.000000</td>\n",
       "      <td>6.0</td>\n",
       "      <td>19.165186</td>\n",
       "      <td>-2.899414</td>\n",
       "      <td>1018.0</td>\n",
       "      <td>1.063477</td>\n",
       "      <td>9.897219e-08</td>\n",
       "      <td>1</td>\n",
       "    </tr>\n",
       "    <tr>\n",
       "      <th>298067</th>\n",
       "      <td>149.264282</td>\n",
       "      <td>0.000002</td>\n",
       "      <td>89.225029</td>\n",
       "      <td>-1.103271</td>\n",
       "      <td>1.434570</td>\n",
       "      <td>0.954590</td>\n",
       "      <td>3.406250</td>\n",
       "      <td>0.000000</td>\n",
       "      <td>0.000000</td>\n",
       "      <td>0.000000</td>\n",
       "      <td>...</td>\n",
       "      <td>-999.000000</td>\n",
       "      <td>-999.000000</td>\n",
       "      <td>-999.000000</td>\n",
       "      <td>6.0</td>\n",
       "      <td>39.433796</td>\n",
       "      <td>-2.859375</td>\n",
       "      <td>753.5</td>\n",
       "      <td>4.476562</td>\n",
       "      <td>1.483928e-08</td>\n",
       "      <td>2</td>\n",
       "    </tr>\n",
       "    <tr>\n",
       "      <th>2053454</th>\n",
       "      <td>112.139229</td>\n",
       "      <td>-0.000002</td>\n",
       "      <td>111.939842</td>\n",
       "      <td>0.059677</td>\n",
       "      <td>-3.135254</td>\n",
       "      <td>0.981445</td>\n",
       "      <td>1.375000</td>\n",
       "      <td>0.009338</td>\n",
       "      <td>0.007979</td>\n",
       "      <td>0.000000</td>\n",
       "      <td>...</td>\n",
       "      <td>0.912704</td>\n",
       "      <td>-0.989709</td>\n",
       "      <td>-2.197648</td>\n",
       "      <td>6.0</td>\n",
       "      <td>50.148216</td>\n",
       "      <td>2.472168</td>\n",
       "      <td>2754.0</td>\n",
       "      <td>2.589844</td>\n",
       "      <td>1.436982e-06</td>\n",
       "      <td>0</td>\n",
       "    </tr>\n",
       "    <tr>\n",
       "      <th>646554</th>\n",
       "      <td>354.755737</td>\n",
       "      <td>0.000008</td>\n",
       "      <td>102.843002</td>\n",
       "      <td>1.909668</td>\n",
       "      <td>2.664062</td>\n",
       "      <td>0.968750</td>\n",
       "      <td>8.500000</td>\n",
       "      <td>0.029602</td>\n",
       "      <td>0.024516</td>\n",
       "      <td>0.000000</td>\n",
       "      <td>...</td>\n",
       "      <td>-4.302818</td>\n",
       "      <td>-999.000000</td>\n",
       "      <td>-999.000000</td>\n",
       "      <td>6.0</td>\n",
       "      <td>32.015461</td>\n",
       "      <td>-1.243408</td>\n",
       "      <td>1444.0</td>\n",
       "      <td>1.923828</td>\n",
       "      <td>2.535550e-06</td>\n",
       "      <td>0</td>\n",
       "    </tr>\n",
       "  </tbody>\n",
       "</table>\n",
       "<p>60000 rows × 143 columns</p>\n",
       "</div>"
      ],
      "text/plain": [
       "         leadPhotonEn  leadPhotonMass  leadPhotonPt  leadPhotonEta  \\\n",
       "1111356     77.388908        0.000001     57.133667       0.818970   \n",
       "708637     129.196991       -0.000003    129.048645       0.047943   \n",
       "846317     129.661087        0.000002    124.301880      -0.292603   \n",
       "2577373     89.011086        0.000001     89.006615      -0.010021   \n",
       "213346     155.278717        0.000000    147.924973      -0.314026   \n",
       "...               ...             ...           ...            ...   \n",
       "667971      73.866203        0.000000     73.475899      -0.103027   \n",
       "316710     107.925034        0.000000     72.095215      -0.959717   \n",
       "298067     149.264282        0.000002     89.225029      -1.103271   \n",
       "2053454    112.139229       -0.000002    111.939842       0.059677   \n",
       "646554     354.755737        0.000008    102.843002       1.909668   \n",
       "\n",
       "         leadPhotonPhi  leadPhotonIDMVA  leadPhotonSigmaE  leadPhotonHoE  \\\n",
       "1111356      -1.590332         0.914551          0.937500       0.000000   \n",
       "708637        1.322998         0.972168          1.296875       0.000000   \n",
       "846317       -2.690918         0.744141          1.562500       0.015930   \n",
       "2577373      -2.511719         0.708984          0.890625       0.000000   \n",
       "213346        2.483398         0.963379          1.531250       0.000000   \n",
       "...                ...              ...               ...            ...   \n",
       "667971       -1.945801         0.977539          0.757812       0.000000   \n",
       "316710       -2.927734         0.838379          1.453125       0.011169   \n",
       "298067        1.434570         0.954590          3.406250       0.000000   \n",
       "2053454      -3.135254         0.981445          1.375000       0.009338   \n",
       "646554        2.664062         0.968750          8.500000       0.029602   \n",
       "\n",
       "         leadPhotonPfRelIsoAll  leadPhotonPfRelIsoChg  ...  leadJetDiphoDEta  \\\n",
       "1111356               0.027066               0.027066  ...         -1.645295   \n",
       "708637                0.000000               0.000000  ...          0.605590   \n",
       "846317                0.021015               0.021015  ...         -1.327674   \n",
       "2577373               0.000000               0.000000  ...       -999.000000   \n",
       "213346                0.008058               0.008058  ...         -2.512229   \n",
       "...                        ...                    ...  ...               ...   \n",
       "667971                0.000000               0.000000  ...          1.846709   \n",
       "316710                0.017436               0.001089  ...       -999.000000   \n",
       "298067                0.000000               0.000000  ...       -999.000000   \n",
       "2053454               0.007979               0.000000  ...          0.912704   \n",
       "646554                0.024516               0.000000  ...         -4.302818   \n",
       "\n",
       "         subleadJetDiphoDPhi  subleadJetDiphoDEta  nSoftJets       metPt  \\\n",
       "1111356             0.412073            -0.237702        6.0   22.016317   \n",
       "708637              2.341702             0.726195        6.0   77.595505   \n",
       "846317              0.620501             0.540246        6.0   17.334482   \n",
       "2577373          -999.000000          -999.000000        6.0   20.119852   \n",
       "213346             -1.419967             3.073708        6.0  108.228378   \n",
       "...                      ...                  ...        ...         ...   \n",
       "667971             -2.697640             2.885161        6.0   33.445145   \n",
       "316710           -999.000000          -999.000000        6.0   19.165186   \n",
       "298067           -999.000000          -999.000000        6.0   39.433796   \n",
       "2053454            -0.989709            -2.197648        6.0   50.148216   \n",
       "646554           -999.000000          -999.000000        6.0   32.015461   \n",
       "\n",
       "           metPhi  metSumET  metSignificance        weight  proc  \n",
       "1111356 -0.238159    1211.0         0.869141  1.312993e-06     0  \n",
       "708637   0.022762     775.5        21.265625  9.591657e-11     6  \n",
       "846317   1.477539    1763.0         0.518555  1.260631e-06     0  \n",
       "2577373  0.106323    1245.0         0.977051  7.116355e-06     0  \n",
       "213346  -1.519043    2620.0         8.085938  6.632386e-11     6  \n",
       "...           ...       ...              ...           ...   ...  \n",
       "667971  -2.115723    2037.0         1.334961  9.410649e-11     6  \n",
       "316710  -2.899414    1018.0         1.063477  9.897219e-08     1  \n",
       "298067  -2.859375     753.5         4.476562  1.483928e-08     2  \n",
       "2053454  2.472168    2754.0         2.589844  1.436982e-06     0  \n",
       "646554  -1.243408    1444.0         1.923828  2.535550e-06     0  \n",
       "\n",
       "[60000 rows x 143 columns]"
      ]
     },
     "execution_count": 3,
     "metadata": {},
     "output_type": "execute_result"
    }
   ],
   "source": [
    "df = pd.read_parquet('/workspaces/Acc-Higgs-HLS4ML/Acc/df.parquet', engine=\"pyarrow\")\n",
    "df"
   ]
  },
  {
   "cell_type": "code",
   "execution_count": 4,
   "metadata": {},
   "outputs": [],
   "source": [
    "batch = 1024\n",
    "num_epochs = 40\n",
    "layers = [64,32,16]\n",
    "lr = 0.0005\n",
    "df = pd.read_parquet('df.parquet')\n",
    "X = pd.read_parquet('x.parquet').values  \n",
    "df['proc'] = df['proc'].apply(lambda x: 1 if x != 0 else 0)\n",
    "y = df['proc'].values  \n",
    "\n",
    "X_tensor = torch.tensor(X, dtype=torch.float32)\n",
    "y_tensor = torch.tensor(y, dtype=torch.float32)\n",
    "\n",
    "X_train, X_test, y_train, y_test = train_test_split(X_tensor, y_tensor, test_size=0.2, random_state=42)\n",
    "\n",
    "train_data = TensorDataset(X_train, y_train)\n",
    "test_data = TensorDataset(X_test, y_test)\n",
    "\n",
    "train_loader = DataLoader(train_data, batch_size=batch, shuffle=True)\n",
    "test_loader = DataLoader(test_data, batch_size=batch, shuffle=False)\n",
    "\n",
    "\n",
    "class BinaryClassificationModel(nn.Module):\n",
    "    def __init__(self):\n",
    "        super(BinaryClassificationModel, self).__init__()\n",
    "        self.layer0 = nn.Linear(X.shape[1], layers[0])\n",
    "        self.layer1 = nn.Linear(layers[0], layers[1])\n",
    "        self.layer2 = nn.Linear(layers[1], layers[2])\n",
    "        self.layer3 = nn.Linear(layers[2],1)\n",
    "        self.sigmoid = nn.Sigmoid()\n",
    "    \n",
    "    def forward(self, x):\n",
    "        x = torch.relu(self.layer0(x))\n",
    "        x = torch.relu(self.layer1(x))\n",
    "        x = torch.relu(self.layer2(x))\n",
    "        x = self.sigmoid(self.layer3(x))\n",
    "        return x\n",
    "\n",
    "# class BinaryClassificationModel(nn.Module):\n",
    "#     def __init__(self,n_features =X.shape[1],nodes=layers,output_nodes = 1):\n",
    "#         super(BinaryClassificationModel, self).__init__()\n",
    "#         n_nodes = [n_features] + nodes + [output_nodes]\n",
    "#         self.layers = nn.ModuleList()\n",
    "#         for i in range(len(n_nodes)-1):\n",
    "#             self.layers.append(nn.Linear(n_nodes[i], n_nodes[i+1]))\n",
    "#             self.layers.append(nn.ReLU())\n",
    "\n",
    "#     def forward(self, x):\n",
    "#         out = self.layers[0](x)\n",
    "#         for layer in self.layers[1:]:\n",
    "#             out = layer(out)\n",
    "#         return torch.sigmoid(out)"
   ]
  },
  {
   "cell_type": "code",
   "execution_count": 5,
   "metadata": {},
   "outputs": [
    {
     "name": "stderr",
     "output_type": "stream",
     "text": [
      "100%|██████████| 40/40 [03:23<00:00,  5.09s/it, train_loss=0.173]\n"
     ]
    }
   ],
   "source": [
    "model = BinaryClassificationModel()\n",
    "\n",
    "criterion = nn.BCELoss()\n",
    "optimizer = optim.Adam(model.parameters(), lr=lr, weight_decay=1e-5)\n",
    "\n",
    "losses = []\n",
    "stt = time.time()\n",
    "with tqdm(range(num_epochs)) as t:\n",
    "    for epoch in t:\n",
    "        for inputs, labels in train_loader:\n",
    "            outputs = model(inputs)\n",
    "            loss = criterion(outputs.squeeze(), labels)\n",
    "            \n",
    "            optimizer.zero_grad()\n",
    "            loss.backward()\n",
    "            \n",
    "            optimizer.step()\n",
    "        losses.append(loss)\n",
    "        t.set_postfix(train_loss=loss.item())\n"
   ]
  },
  {
   "cell_type": "code",
   "execution_count": 6,
   "metadata": {},
   "outputs": [],
   "source": [
    "torch.save(model.state_dict(), '/vols/cms/hw423/Acc/model.pth')"
   ]
  },
  {
   "cell_type": "code",
   "execution_count": 7,
   "metadata": {},
   "outputs": [
    {
     "data": {
      "text/plain": [
       "<All keys matched successfully>"
      ]
     },
     "execution_count": 7,
     "metadata": {},
     "output_type": "execute_result"
    }
   ],
   "source": [
    "model = BinaryClassificationModel()\n",
    "model.load_state_dict(torch.load('/vols/cms/hw423/Acc/model.pth'))"
   ]
  },
  {
   "cell_type": "code",
   "execution_count": 8,
   "metadata": {},
   "outputs": [
    {
     "name": "stdout",
     "output_type": "stream",
     "text": [
      "Accuracy: 0.9186666666666666\n",
      "Predict time: 0.4676640033721924\n"
     ]
    }
   ],
   "source": [
    "\n",
    "model.eval()\n",
    "y_pre = []\n",
    "T = []\n",
    "for _ in range(200):\n",
    "    times = 0\n",
    "    with torch.no_grad():\n",
    "        correct = 0\n",
    "        total = 0\n",
    "        for inputs, labels in test_loader:\n",
    "            stt= time.time()\n",
    "            outputs = model(inputs)\n",
    "            ent = time.time()\n",
    "            times+=ent-stt\n",
    "            predicted = (outputs.squeeze() > 0.5).float()\n",
    "            total += labels.size(0)\n",
    "            correct += (predicted == labels).sum().item()\n",
    "            y_pre.append(predicted)\n",
    "        T.append(times)\n",
    "    \n",
    "T= np.array(T)\n",
    "accuracy0 = correct / total\n",
    "\n",
    "print(f'Accuracy: {accuracy0}')\n",
    "print(f'Predict time: {times}')"
   ]
  },
  {
   "cell_type": "code",
   "execution_count": 12,
   "metadata": {},
   "outputs": [
    {
     "data": {
      "text/plain": [
       "(array([ 1.,  1.,  1.,  7., 27., 42., 37., 12., 14., 10., 12., 13., 10.,\n",
       "         5.,  1.,  2.,  0.,  2.,  1.,  2.]),\n",
       " array([0.24279618, 0.28043581, 0.31807544, 0.35571507, 0.3933547 ,\n",
       "        0.43099433, 0.46863396, 0.50627359, 0.54391322, 0.58155285,\n",
       "        0.61919248, 0.65683211, 0.69447174, 0.73211137, 0.769751  ,\n",
       "        0.80739063, 0.84503026, 0.88266989, 0.92030952, 0.95794915,\n",
       "        0.99558878]),\n",
       " <BarContainer object of 20 artists>)"
      ]
     },
     "execution_count": 12,
     "metadata": {},
     "output_type": "execute_result"
    },
    {
     "data": {
      "image/png": "[encoded data removed]",
      "text/plain": [
       "<Figure size 640x480 with 1 Axes>"
      ]
     },
     "metadata": {},
     "output_type": "display_data"
    }
   ],
   "source": [
    "plt.hist(T,bins=20)\n",
    "# plt.xlim(0,)"
   ]
  },
  {
   "cell_type": "markdown",
   "metadata": {},
   "source": []
  },
  {
   "cell_type": "code",
   "execution_count": 10,
   "metadata": {},
   "outputs": [
    {
     "data": {
      "text/plain": [
       "0.5296251630783081"
      ]
     },
     "execution_count": 10,
     "metadata": {},
     "output_type": "execute_result"
    }
   ],
   "source": [
    "np.mean(T)"
   ]
  },
  {
   "cell_type": "code",
   "execution_count": 13,
   "metadata": {},
   "outputs": [
    {
     "name": "stdout",
     "output_type": "stream",
     "text": [
      "AUC = 0.9663144247674361\n"
     ]
    }
   ],
   "source": [
    "y_pre = []\n",
    "y_labe = []\n",
    "with torch.no_grad():\n",
    "    correct = 0\n",
    "    total = 0\n",
    "    for inputs, labels in test_loader:\n",
    "        outputs = model(inputs)\n",
    "        y_pre=np.append(y_pre,outputs.numpy())\n",
    "        y_labe=np.append(y_labe,labels.numpy())\n",
    "from sklearn.metrics import roc_auc_score\n",
    "auc0 = roc_auc_score(y_labe, y_pre)\n",
    "print(f'AUC = {auc0}')"
   ]
  },
  {
   "cell_type": "code",
   "execution_count": 14,
   "metadata": {},
   "outputs": [
    {
     "data": {
      "image/png": "[encoded data removed]",
      "text/plain": [
       "<Figure size 640x480 with 1 Axes>"
      ]
     },
     "metadata": {},
     "output_type": "display_data"
    }
   ],
   "source": [
    "import matplotlib.pyplot as plt\n",
    "lss = []\n",
    "for i in range(len(losses)):\n",
    "    lss.append(losses[i].detach())\n",
    "plt.plot(lss)\n",
    "plt.title('BCE Loss')\n",
    "plt.savefig('Loss.pdf')"
   ]
  },
  {
   "cell_type": "markdown",
   "metadata": {},
   "source": [
    "# Post-Pruning"
   ]
  },
  {
   "cell_type": "code",
   "execution_count": 20,
   "metadata": {},
   "outputs": [],
   "source": [
    "for module in model.modules():\n",
    "    if isinstance(module, torch.nn.Linear):\n",
    "        prune.l1_unstructured(module, name='weight', amount=0.3)\n",
    "for module in model.modules():\n",
    "    if isinstance(module, torch.nn.Linear):\n",
    "        prune.remove(module, 'weight')"
   ]
  },
  {
   "cell_type": "markdown",
   "metadata": {},
   "source": [
    "# Post Quantisation"
   ]
  },
  {
   "cell_type": "code",
   "execution_count": 11,
   "metadata": {},
   "outputs": [],
   "source": [
    "# model.eval()\n",
    "# quantized_model = torch.quantization.quantize_dynamic(\n",
    "#     model,  \n",
    "#     {nn.Linear},  \n",
    "#     dtype=torch.float16\n",
    "# )\n",
    "# quantized_model.eval()\n",
    "# correct = 0\n",
    "# total = 0\n",
    "\n",
    "# with torch.no_grad():\n",
    "#     for inputs, labels in test_loader:\n",
    "#         outputs = quantized_model(inputs)\n",
    "#         predicted = (outputs.squeeze() > 0.5).float()\n",
    "#         total += labels.size(0)\n",
    "#         correct += (predicted == labels).sum().item()\n",
    "\n",
    "# accuracy1 = correct / total"
   ]
  },
  {
   "cell_type": "code",
   "execution_count": 16,
   "metadata": {},
   "outputs": [
    {
     "name": "stdout",
     "output_type": "stream",
     "text": [
      "Accuracy = 0.9093333333333333\n",
      "Predict time: 0.008082389831542969\n"
     ]
    }
   ],
   "source": [
    "model.eval()\n",
    "quantized_model = torch.quantization.quantize_dynamic(\n",
    "    model,  \n",
    "    {nn.Linear},  \n",
    "    dtype=torch.qint8\n",
    ")\n",
    "quantized_model.eval()\n",
    "QT = []\n",
    "for _ in range(200):\n",
    "    correct = 0\n",
    "    total = 0\n",
    "    Qtimes = 0\n",
    "    with torch.no_grad():\n",
    "        for inputs, labels in test_loader:\n",
    "            stt = time.time()\n",
    "            outputs = quantized_model(inputs)\n",
    "            ent = time.time()\n",
    "            Qtimes+=ent-stt\n",
    "            predicted = (outputs.squeeze() > 0.5).float()\n",
    "            total += labels.size(0)\n",
    "            correct += (predicted == labels).sum().item()\n",
    "    QT.append(Qtimes)\n",
    "QT=np.array(QT)\n",
    "accuracy2 = correct / total\n",
    "print(f'Accuracy = {accuracy2}')\n",
    "print(f'Predict time: {Qtimes}')"
   ]
  },
  {
   "cell_type": "code",
   "execution_count": 22,
   "metadata": {},
   "outputs": [
    {
     "name": "stdout",
     "output_type": "stream",
     "text": [
      "Layer 0 | Name: layer0 | Layer Type: <class 'torch.ao.nn.quantized.dynamic.modules.linear.Linear'>\n",
      "--------------------------------------------------------------\n",
      "Layer 1 | Name: layer1 | Layer Type: <class 'torch.ao.nn.quantized.dynamic.modules.linear.Linear'>\n",
      "--------------------------------------------------------------\n",
      "Layer 2 | Name: layer2 | Layer Type: <class 'torch.ao.nn.quantized.dynamic.modules.linear.Linear'>\n",
      "--------------------------------------------------------------\n",
      "Layer 3 | Name: layer3 | Layer Type: <class 'torch.ao.nn.quantized.dynamic.modules.linear.Linear'>\n",
      "--------------------------------------------------------------\n",
      "Layer 4 | Name: sigmoid | Layer Type: <class 'torch.nn.modules.activation.Sigmoid'>\n",
      "--------------------------------------------------------------\n"
     ]
    }
   ],
   "source": [
    "def print_model_details(model):\n",
    "    for idx, (name, layer) in enumerate(model.named_children()):\n",
    "        print(f\"Layer {idx} | Name: {name} | Layer Type: {type(layer)}\")\n",
    "        # 打印层的参数\n",
    "        for param_name, param in layer.named_parameters():\n",
    "            print(f\"    Param: {param_name} | Size: {param.size()} | Values : {param[:2]}\") # 打印部分参数值作为示例\n",
    "        print(\"--------------------------------------------------------------\")\n",
    "print_model_details(quantized_model)"
   ]
  },
  {
   "cell_type": "code",
   "execution_count": 18,
   "metadata": {},
   "outputs": [
    {
     "name": "stdout",
     "output_type": "stream",
     "text": [
      "AUC = 0.961492843531896\n"
     ]
    }
   ],
   "source": [
    "AUC(quantized_model,test_loader)"
   ]
  },
  {
   "cell_type": "code",
   "execution_count": 24,
   "metadata": {},
   "outputs": [
    {
     "data": {
      "image/png": "[encoded data removed]",
      "text/plain": [
       "<Figure size 640x480 with 1 Axes>"
      ]
     },
     "metadata": {},
     "output_type": "display_data"
    }
   ],
   "source": [
    "a,b,_= plt.hist(QT[QT<0.03],bins=20,density =False,label = 'Quantised')\n",
    "# plt.hist(T,bins=30,density = False, label = 'Unquantised')\n",
    "# plt.xlim(0.006,0.05)\n",
    "# plt.xscale('log')\n",
    "plt.title('Inference time')\n",
    "plt.xlabel('time')\n",
    "plt.ylabel('Frequency')\n",
    "plt.legend()\n",
    "plt.savefig('vt.pdf')"
   ]
  },
  {
   "cell_type": "code",
   "execution_count": 29,
   "metadata": {},
   "outputs": [
    {
     "data": {
      "text/plain": [
       "0.9842412626645862"
      ]
     },
     "execution_count": 29,
     "metadata": {},
     "output_type": "execute_result"
    }
   ],
   "source": [
    "1-np.mean(QT)/np.mean(T)"
   ]
  },
  {
   "cell_type": "code",
   "execution_count": 28,
   "metadata": {},
   "outputs": [
    {
     "data": {
      "text/plain": [
       "0.5296251630783081"
      ]
     },
     "execution_count": 28,
     "metadata": {},
     "output_type": "execute_result"
    }
   ],
   "source": [
    "np.mean(T)"
   ]
  },
  {
   "cell_type": "code",
   "execution_count": 25,
   "metadata": {},
   "outputs": [
    {
     "data": {
      "image/png": "[encoded data removed]",
      "text/plain": [
       "<Figure size 640x480 with 1 Axes>"
      ]
     },
     "metadata": {},
     "output_type": "display_data"
    }
   ],
   "source": [
    "plt.hist([],bins=100,density =False)\n",
    "plt.hist(T,bins=20,density = False, label = 'Unquantised')\n",
    "# plt.xlim(0,0.2)\n",
    "# plt.xscale('log')\n",
    "plt.title('Inference time')\n",
    "plt.legend()\n",
    "plt.ylabel('Frequency')\n",
    "plt.xlabel('time')\n",
    "plt.savefig('vt_u.pdf')"
   ]
  },
  {
   "cell_type": "code",
   "execution_count": 49,
   "metadata": {},
   "outputs": [
    {
     "data": {
      "text/plain": [
       "<matplotlib.collections.PathCollection at 0x7fbdc2d5c150>"
      ]
     },
     "execution_count": 49,
     "metadata": {},
     "output_type": "execute_result"
    },
    {
     "data": {
      "image/png": "[encoded data removed]",
      "text/plain": [
       "<Figure size 640x480 with 1 Axes>"
      ]
     },
     "metadata": {},
     "output_type": "display_data"
    }
   ],
   "source": [
    "plt.scatter([8,16,32],[accuracy2,accuracy1,accuracy0])"
   ]
  },
  {
   "cell_type": "code",
   "execution_count": 30,
   "metadata": {},
   "outputs": [
    {
     "name": "stdout",
     "output_type": "stream",
     "text": [
      "model: fp32 \t Size(KB): 48.911\n",
      "model: int8 \t Size(KB): 17.077\n",
      "2.86 smaller\n"
     ]
    }
   ],
   "source": [
    "import os\n",
    "def model_size(model, label=' '):\n",
    "    torch.save(model.state_dict(),\"/vols/cms/hw423/Acc/mymodel.p\")\n",
    "    size = os.path.getsize(\"/vols/cms/hw423/Acc/mymodel.p\")\n",
    "    print(\"model:\",label,'\\t','Size(KB):',size/1e3)\n",
    "    os.remove(\"/vols/cms/hw423/Acc/mymodel.p\")\n",
    "    return size\n",
    "# compare the size\n",
    "f = model_size(model, \"fp32\")\n",
    "q= model_size(quantized_model, \"int8\")\n",
    "print(\"{0:.2f} smaller\".format(f/q))"
   ]
  },
  {
   "cell_type": "code",
   "execution_count": null,
   "metadata": {},
   "outputs": [],
   "source": []
  },
  {
   "cell_type": "code",
   "execution_count": 78,
   "metadata": {},
   "outputs": [
    {
     "data": {
      "text/plain": [
       "BinaryClassificationModel(\n",
       "  (layer0): DynamicQuantizedLinear(in_features=140, out_features=64, dtype=torch.qint8, qscheme=torch.per_tensor_affine)\n",
       "  (layer1): DynamicQuantizedLinear(in_features=64, out_features=32, dtype=torch.qint8, qscheme=torch.per_tensor_affine)\n",
       "  (layer2): DynamicQuantizedLinear(in_features=32, out_features=16, dtype=torch.qint8, qscheme=torch.per_tensor_affine)\n",
       "  (layer3): DynamicQuantizedLinear(in_features=16, out_features=1, dtype=torch.qint8, qscheme=torch.per_tensor_affine)\n",
       "  (sigmoid): Sigmoid()\n",
       ")"
      ]
     },
     "execution_count": 78,
     "metadata": {},
     "output_type": "execute_result"
    }
   ],
   "source": [
    "quantized_model"
   ]
  },
  {
   "cell_type": "markdown",
   "metadata": {},
   "source": [
    "# Quantisation-Aware "
   ]
  },
  {
   "cell_type": "code",
   "execution_count": 82,
   "metadata": {},
   "outputs": [
    {
     "name": "stderr",
     "output_type": "stream",
     "text": [
      "/vols/cms/hw423/env/envs/env/lib/python3.11/site-packages/torch/ao/quantization/observer.py:214: UserWarning: Please use quant_min and quant_max to specify the range for observers.                     reduce_range will be deprecated in a future release of PyTorch.\n",
      "  warnings.warn(\n"
     ]
    }
   ],
   "source": [
    "batch = 1024\n",
    "num_epochs = 80\n",
    "layers = [64,32,16]\n",
    "lr = 0.0002\n",
    "df = pd.read_parquet('df.parquet')\n",
    "X = pd.read_parquet('x.parquet').values  \n",
    "df['proc'] = df['proc'].apply(lambda x: 1 if x != 0 else 0)\n",
    "y = df['proc'].values  \n",
    "\n",
    "X_tensor = torch.tensor(X, dtype=torch.float32)\n",
    "y_tensor = torch.tensor(y, dtype=torch.float32)\n",
    "\n",
    "X_train, X_test, y_train, y_test = train_test_split(X_tensor, y_tensor, test_size=0.2, random_state=42)\n",
    "\n",
    "train_data = TensorDataset(X_train, y_train)\n",
    "test_data = TensorDataset(X_test, y_test)\n",
    "\n",
    "train_loader = DataLoader(train_data, batch_size=batch, shuffle=True)\n",
    "test_loader = DataLoader(test_data, batch_size=batch, shuffle=False)\n",
    "\n",
    "\n",
    "class BinaryClassificationModelQ(nn.Module):\n",
    "    def __init__(self, num_features):\n",
    "        super(BinaryClassificationModelQ, self).__init__()\n",
    "        self.quant = torch.quantization.QuantStub()\n",
    "        self.layer0 = nn.Linear(num_features, layers[0])\n",
    "        self.layer1 = nn.Linear(layers[0], layers[1])\n",
    "        self.layer2 = nn.Linear(layers[1], 1)\n",
    "        self.sigmoid = nn.Sigmoid()\n",
    "        self.dequant = torch.quantization.DeQuantStub()\n",
    "\n",
    "    def forward(self, x):\n",
    "        x = self.quant(x)\n",
    "        x = torch.relu(self.layer0(x))\n",
    "        x = self.layer1(x)\n",
    "        x = torch.relu(x)\n",
    "        x = self.sigmoid(self.layer2(x))\n",
    "        x = self.dequant(x)\n",
    "        return x\n",
    "    \n",
    "modelQ = BinaryClassificationModelQ(X.shape[1])\n",
    "modelQ.qconfig = torch.quantization.get_default_qat_qconfig('fbgemm')\n",
    "torch.quantization.prepare_qat(modelQ, inplace=True)\n",
    "\n",
    "def Quantrain(model):\n",
    "    criterion = nn.BCELoss()\n",
    "    optimizer = optim.Adam(model.parameters(), lr=lr, weight_decay=1e-5)\n",
    "    losses = []\n",
    "    # for layer, name in parameters_to_prune:\n",
    "    #     prune.l1_unstructured(layer, name=name, amount=pruning_amount)\n",
    "    with tqdm(range(num_epochs)) as t:\n",
    "        for epoch in t:\n",
    "            for inputs, labels in train_loader:\n",
    "                outputs= model(inputs)\n",
    "                loss = criterion(outputs.squeeze(), labels)\n",
    "                optimizer.zero_grad()\n",
    "                loss.backward()\n",
    "                optimizer.step()\n",
    "            losses.append(loss)\n",
    "            t.set_postfix(train_loss=loss.item())\n",
    "\n",
    "    return losses, model\n",
    "\n",
    "def Acc(model):\n",
    "    model.eval()\n",
    "    model = torch.quantization.convert(model, inplace=True)\n",
    "    y_pre = []\n",
    "\n",
    "    with torch.no_grad():\n",
    "        correct = 0\n",
    "        total = 0\n",
    "        for inputs, labels in test_loader:\n",
    "            outputs = model(inputs)\n",
    "            predicted = (outputs.squeeze() > 0.5).float()\n",
    "            total += labels.size(0)\n",
    "            correct += (predicted == labels).sum().item()\n",
    "            y_pre.append(predicted)\n",
    "            \n",
    "    accuracy = correct / total\n",
    "    return accuracy\n"
   ]
  },
  {
   "cell_type": "code",
   "execution_count": 83,
   "metadata": {},
   "outputs": [
    {
     "name": "stderr",
     "output_type": "stream",
     "text": [
      "100%|██████████| 80/80 [15:09<00:00, 11.37s/it, train_loss=0.32] \n"
     ]
    }
   ],
   "source": [
    "losess, modelQ = Quantrain(modelQ)"
   ]
  },
  {
   "cell_type": "code",
   "execution_count": 84,
   "metadata": {},
   "outputs": [],
   "source": [
    "lossss = np.array([losess[i].detach().numpy() for i in range(len(losess))])"
   ]
  },
  {
   "cell_type": "code",
   "execution_count": 94,
   "metadata": {},
   "outputs": [
    {
     "data": {
      "image/png": "[encoded data removed]",
      "text/plain": [
       "<Figure size 640x480 with 1 Axes>"
      ]
     },
     "metadata": {},
     "output_type": "display_data"
    }
   ],
   "source": [
    "plt.plot(lossss)\n",
    "plt.title('BCE Loss')\n",
    "plt.savefig('Loss_QAT.pdf')"
   ]
  },
  {
   "cell_type": "code",
   "execution_count": 86,
   "metadata": {},
   "outputs": [
    {
     "data": {
      "text/plain": [
       "BinaryClassificationModelQ(\n",
       "  (quant): Quantize(scale=tensor([0.3100]), zero_point=tensor([27]), dtype=torch.quint8)\n",
       "  (layer0): QuantizedLinear(in_features=140, out_features=64, scale=0.17194029688835144, zero_point=53, qscheme=torch.per_channel_affine)\n",
       "  (layer1): QuantizedLinear(in_features=64, out_features=32, scale=0.1375756710767746, zero_point=55, qscheme=torch.per_channel_affine)\n",
       "  (layer2): QuantizedLinear(in_features=32, out_features=1, scale=0.14846271276474, zero_point=33, qscheme=torch.per_channel_affine)\n",
       "  (sigmoid): Sigmoid()\n",
       "  (dequant): DeQuantize()\n",
       ")"
      ]
     },
     "execution_count": 86,
     "metadata": {},
     "output_type": "execute_result"
    }
   ],
   "source": [
    "modelQ.eval()\n",
    "modelQ.qconfig = torch.quantization.get_default_qconfig('fbgemm')\n",
    "model_qat_prepared = torch.quantization.prepare(modelQ, inplace=False)\n",
    "quantizedA_model = torch.quantization.convert(model_qat_prepared, inplace=False)\n",
    "quantizedA_model.eval()"
   ]
  },
  {
   "cell_type": "code",
   "execution_count": 87,
   "metadata": {},
   "outputs": [
    {
     "name": "stdout",
     "output_type": "stream",
     "text": [
      "Accuracy = 0.8654166666666666\n",
      "Predict time: 0.005354404449462891\n"
     ]
    }
   ],
   "source": [
    "# model.eval()\n",
    "# quantizedA_model = torch.quantization.quantize_dynamic(\n",
    "#     modelQ,  \n",
    "#     {nn.Linear},  \n",
    "#     dtype=torch.qint8\n",
    "# )\n",
    "quantizedA_model.eval()\n",
    "QAT = []\n",
    "for _ in range(200):\n",
    "    correct = 0\n",
    "    total = 0\n",
    "    QAtimes = 0\n",
    "    with torch.no_grad():\n",
    "        for inputs, labels in test_loader:\n",
    "            stt = time.time()\n",
    "            outputs = quantizedA_model(inputs)\n",
    "            ent = time.time()\n",
    "            QAtimes+=ent-stt\n",
    "            predicted = (outputs.squeeze() > 0.5).float()\n",
    "            total += labels.size(0)\n",
    "            correct += (predicted == labels).sum().item()\n",
    "    QAT.append(QAtimes)\n",
    "QAT=np.array(QAT)\n",
    "accuracy_A = correct / total\n",
    "print(f'Accuracy = {accuracy_A}')\n",
    "print(f'Predict time: {QAtimes}')"
   ]
  },
  {
   "cell_type": "code",
   "execution_count": 92,
   "metadata": {},
   "outputs": [
    {
     "data": {
      "image/png": "[encoded data removed]",
      "text/plain": [
       "<Figure size 640x480 with 1 Axes>"
      ]
     },
     "metadata": {},
     "output_type": "display_data"
    }
   ],
   "source": [
    "a,b,_= plt.hist(QAT[QAT<0.03],bins=20,density =False,label = 'Quantised')\n",
    "# plt.hist(T,bins=30,density = False, label = 'Unquantised')\n",
    "# plt.xlim(0.006,0.05)\n",
    "# plt.xscale('log')\n",
    "plt.title('Inference time')\n",
    "plt.xlabel('time')\n",
    "plt.ylabel('Frequency')\n",
    "plt.legend()\n",
    "plt.savefig('vta.pdf')"
   ]
  },
  {
   "cell_type": "code",
   "execution_count": 91,
   "metadata": {},
   "outputs": [
    {
     "name": "stdout",
     "output_type": "stream",
     "text": [
      "AUC = 0.9336083672341985\n"
     ]
    }
   ],
   "source": [
    "AUC(quantizedA_model,test_loader)"
   ]
  },
  {
   "cell_type": "code",
   "execution_count": null,
   "metadata": {},
   "outputs": [],
   "source": [
    "y_pre = []\n",
    "y_labe = []\n",
    "with torch.no_grad():\n",
    "    correct = 0\n",
    "    total = 0\n",
    "    for inputs, labels in test_loader:\n",
    "        outputs,_,_ = modelAQ(inputs)\n",
    "        y_pre=np.append(y_pre,outputs.numpy())\n",
    "        y_labe=np.append(y_labe,labels.numpy())\n",
    "from sklearn.metrics import roc_auc_score\n",
    "auc = roc_auc_score(y_labe, y_pre)\n",
    "print(f'AUC = {auc}')"
   ]
  },
  {
   "cell_type": "code",
   "execution_count": 51,
   "metadata": {},
   "outputs": [
    {
     "name": "stdout",
     "output_type": "stream",
     "text": [
      "BinaryClassificationModelQ(\n",
      "  (quant): QuantStub(\n",
      "    (activation_post_process): FusedMovingAvgObsFakeQuantize(\n",
      "      fake_quant_enabled=tensor([1]), observer_enabled=tensor([1]), scale=tensor([1.]), zero_point=tensor([0], dtype=torch.int32), dtype=torch.quint8, quant_min=0, quant_max=127, qscheme=torch.per_tensor_affine, reduce_range=True\n",
      "      (activation_post_process): MovingAverageMinMaxObserver(min_val=inf, max_val=-inf)\n",
      "    )\n",
      "  )\n",
      "  (layer0): Linear(\n",
      "    in_features=140, out_features=64, bias=True\n",
      "    (weight_fake_quant): FusedMovingAvgObsFakeQuantize(\n",
      "      fake_quant_enabled=tensor([1]), observer_enabled=tensor([1]), scale=tensor([1.]), zero_point=tensor([0], dtype=torch.int32), dtype=torch.qint8, quant_min=-128, quant_max=127, qscheme=torch.per_channel_symmetric, reduce_range=False\n",
      "      (activation_post_process): MovingAveragePerChannelMinMaxObserver(min_val=tensor([]), max_val=tensor([]))\n",
      "    )\n",
      "    (activation_post_process): FusedMovingAvgObsFakeQuantize(\n",
      "      fake_quant_enabled=tensor([1]), observer_enabled=tensor([1]), scale=tensor([1.]), zero_point=tensor([0], dtype=torch.int32), dtype=torch.quint8, quant_min=0, quant_max=127, qscheme=torch.per_tensor_affine, reduce_range=True\n",
      "      (activation_post_process): MovingAverageMinMaxObserver(min_val=inf, max_val=-inf)\n",
      "    )\n",
      "  )\n",
      "  (layer1): Linear(\n",
      "    in_features=64, out_features=32, bias=True\n",
      "    (weight_fake_quant): FusedMovingAvgObsFakeQuantize(\n",
      "      fake_quant_enabled=tensor([1]), observer_enabled=tensor([1]), scale=tensor([1.]), zero_point=tensor([0], dtype=torch.int32), dtype=torch.qint8, quant_min=-128, quant_max=127, qscheme=torch.per_channel_symmetric, reduce_range=False\n",
      "      (activation_post_process): MovingAveragePerChannelMinMaxObserver(min_val=tensor([]), max_val=tensor([]))\n",
      "    )\n",
      "    (activation_post_process): FusedMovingAvgObsFakeQuantize(\n",
      "      fake_quant_enabled=tensor([1]), observer_enabled=tensor([1]), scale=tensor([1.]), zero_point=tensor([0], dtype=torch.int32), dtype=torch.quint8, quant_min=0, quant_max=127, qscheme=torch.per_tensor_affine, reduce_range=True\n",
      "      (activation_post_process): MovingAverageMinMaxObserver(min_val=inf, max_val=-inf)\n",
      "    )\n",
      "  )\n",
      "  (layer2): Linear(\n",
      "    in_features=32, out_features=1, bias=True\n",
      "    (weight_fake_quant): FusedMovingAvgObsFakeQuantize(\n",
      "      fake_quant_enabled=tensor([1]), observer_enabled=tensor([1]), scale=tensor([1.]), zero_point=tensor([0], dtype=torch.int32), dtype=torch.qint8, quant_min=-128, quant_max=127, qscheme=torch.per_channel_symmetric, reduce_range=False\n",
      "      (activation_post_process): MovingAveragePerChannelMinMaxObserver(min_val=tensor([]), max_val=tensor([]))\n",
      "    )\n",
      "    (activation_post_process): FusedMovingAvgObsFakeQuantize(\n",
      "      fake_quant_enabled=tensor([1]), observer_enabled=tensor([1]), scale=tensor([1.]), zero_point=tensor([0], dtype=torch.int32), dtype=torch.quint8, quant_min=0, quant_max=127, qscheme=torch.per_tensor_affine, reduce_range=True\n",
      "      (activation_post_process): MovingAverageMinMaxObserver(min_val=inf, max_val=-inf)\n",
      "    )\n",
      "  )\n",
      "  (sigmoid): Sigmoid(\n",
      "    (activation_post_process): FixedQParamsFakeQuantize(\n",
      "      fake_quant_enabled=tensor([1], dtype=torch.uint8), observer_enabled=tensor([1], dtype=torch.uint8), scale=tensor([0.0039]), zero_point=tensor([0], dtype=torch.int32), dtype=torch.quint8, quant_min=0, quant_max=255, qscheme=torch.per_tensor_affine\n",
      "      (activation_post_process): FixedQParamsObserver()\n",
      "    )\n",
      "  )\n",
      "  (dequant): DeQuantStub()\n",
      ")\n"
     ]
    }
   ],
   "source": [
    "print(modelQ)"
   ]
  }
 ],
 "metadata": {
  "kernelspec": {
   "display_name": "Python 3",
   "language": "python",
   "name": "python3"
  },
  "language_info": {
   "codemirror_mode": {
    "name": "ipython",
    "version": 3
   },
   "file_extension": ".py",
   "mimetype": "text/x-python",
   "name": "python",
   "nbconvert_exporter": "python",
   "pygments_lexer": "ipython3",
   "version": "3.10.13"
  }
 },
 "nbformat": 4,
 "nbformat_minor": 2
}
