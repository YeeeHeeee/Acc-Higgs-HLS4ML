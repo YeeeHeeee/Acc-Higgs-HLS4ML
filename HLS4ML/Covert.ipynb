{
 "cells": [
  {
   "cell_type": "code",
   "execution_count": 1,
   "metadata": {},
   "outputs": [
    {
     "name": "stderr",
     "output_type": "stream",
     "text": [
      "2024-04-10 14:46:40.936148: I external/local_tsl/tsl/cuda/cudart_stub.cc:32] Could not find cuda drivers on your machine, GPU will not be used.\n",
      "2024-04-10 14:46:40.941754: I external/local_tsl/tsl/cuda/cudart_stub.cc:32] Could not find cuda drivers on your machine, GPU will not be used.\n",
      "2024-04-10 14:46:41.019260: I tensorflow/core/platform/cpu_feature_guard.cc:210] This TensorFlow binary is optimized to use available CPU instructions in performance-critical operations.\n",
      "To enable the following instructions: AVX2 FMA, in other operations, rebuild TensorFlow with the appropriate compiler flags.\n",
      "2024-04-10 14:46:43.537838: W tensorflow/compiler/tf2tensorrt/utils/py_utils.cc:38] TF-TRT Warning: Could not find TensorRT\n"
     ]
    }
   ],
   "source": [
    "import hls4ml"
   ]
  },
  {
   "cell_type": "code",
   "execution_count": 2,
   "metadata": {},
   "outputs": [],
   "source": [
    "import torch\n",
    "import torch.nn as nn\n",
    "import torch.optim as optim\n",
    "from torch.utils.data import DataLoader, TensorDataset\n",
    "from sklearn.model_selection import train_test_split\n",
    "import pandas as pd\n",
    "import matplotlib.pyplot as plt\n",
    "import numpy as np\n",
    "import time\n",
    "import torch.quantization\n",
    "from tqdm import tqdm \n",
    "from torch.nn.utils import prune"
   ]
  },
  {
   "cell_type": "code",
   "execution_count": 4,
   "metadata": {},
   "outputs": [],
   "source": [
    "batch = 1024\n",
    "num_epochs = 40\n",
    "layers = [64,32,16]\n",
    "lr = 0.0005\n",
    "df = pd.read_parquet('/workspaces/Acc-Higgs-HLS4ML/ML model/df.parquet')\n",
    "X = pd.read_parquet('/workspaces/Acc-Higgs-HLS4ML/ML model/x.parquet').values  \n",
    "df['proc'] = df['proc'].apply(lambda x: 1 if x != 0 else 0)\n",
    "y = df['proc'].values  \n",
    "\n",
    "X_tensor = torch.tensor(X, dtype=torch.float32)\n",
    "y_tensor = torch.tensor(y, dtype=torch.float32)\n",
    "\n",
    "X_train, X_test, y_train, y_test = train_test_split(X_tensor, y_tensor, test_size=0.2, random_state=42)\n",
    "\n",
    "train_data = TensorDataset(X_train, y_train)\n",
    "test_data = TensorDataset(X_test, y_test)\n",
    "\n",
    "train_loader = DataLoader(train_data, batch_size=batch, shuffle=True)\n",
    "test_loader = DataLoader(test_data, batch_size=batch, shuffle=False)\n"
   ]
  },
  {
   "cell_type": "code",
   "execution_count": 5,
   "metadata": {},
   "outputs": [
    {
     "data": {
      "text/plain": [
       "140"
      ]
     },
     "execution_count": 5,
     "metadata": {},
     "output_type": "execute_result"
    }
   ],
   "source": [
    "X.shape[1]"
   ]
  },
  {
   "cell_type": "code",
   "execution_count": 6,
   "metadata": {},
   "outputs": [],
   "source": [
    "class BinaryClassificationModel(nn.Module):\n",
    "    def __init__(self):\n",
    "        super(BinaryClassificationModel, self).__init__()\n",
    "        self.layer0 = nn.Linear(X.shape[1], layers[0])\n",
    "        self.layer1 = nn.Linear(layers[0], layers[1])\n",
    "        self.layer2 = nn.Linear(layers[1], layers[2])\n",
    "        self.layer3 = nn.Linear(layers[2], 1)\n",
    "        self.sigmoid = nn.Sigmoid()\n",
    "    \n",
    "    def forward(self, x):\n",
    "        timings = {}\n",
    "\n",
    "        start_time = time.time()\n",
    "        x = torch.relu(self.layer0(x))\n",
    "        x = torch.relu(self.layer1(x))\n",
    "        x = torch.relu(self.layer2(x))\n",
    "        timings['fc_time'] = time.time() - start_time\n",
    "\n",
    "        x = self.sigmoid(self.layer3(x))\n",
    "        \n",
    "        return x, timings['fc_time']\n",
    "model = BinaryClassificationModel()"
   ]
  },
  {
   "cell_type": "code",
   "execution_count": 21,
   "metadata": {},
   "outputs": [
    {
     "data": {
      "text/plain": [
       "<All keys matched successfully>"
      ]
     },
     "execution_count": 21,
     "metadata": {},
     "output_type": "execute_result"
    }
   ],
   "source": [
    "model = BinaryClassificationModel()\n",
    "model.load_state_dict(torch.load('/workspaces/Acc-Higgs-HLS4ML/ML model/model.pth'))"
   ]
  },
  {
   "cell_type": "code",
   "execution_count": 25,
   "metadata": {},
   "outputs": [],
   "source": [
    "y_torch = model(X_tensor)"
   ]
  },
  {
   "cell_type": "code",
   "execution_count": 8,
   "metadata": {},
   "outputs": [],
   "source": [
    "import plotting"
   ]
  },
  {
   "cell_type": "code",
   "execution_count": 9,
   "metadata": {},
   "outputs": [
    {
     "name": "stdout",
     "output_type": "stream",
     "text": [
      "-----------------------------------\n",
      "Configuration\n",
      "Model: {'Precision': 'ap_fixed<16,6>', 'ReuseFactor': 1, 'InputsChannelLast': False, 'TransposeOutputs': True, 'Strategy': 'Latency'}\n",
      "-----------------------------------\n",
      "Interpreting Model ...\n",
      "Topology:\n",
      "Layer name: layer0, layer type: Dense, input shape: [[None, 140]]\n",
      "Layer name: relu, layer type: Activation, input shape: [[None, 64]]\n",
      "Layer name: layer1, layer type: Dense, input shape: [[None, 64]]\n",
      "Layer name: relu_1, layer type: Activation, input shape: [[None, 32]]\n",
      "Layer name: layer2, layer type: Dense, input shape: [[None, 32]]\n",
      "Layer name: relu_2, layer type: Activation, input shape: [[None, 16]]\n",
      "Layer name: layer3, layer type: Dense, input shape: [[None, 16]]\n",
      "Layer name: sigmoid, layer type: Activation, input shape: [[None, 1]]\n",
      "Creating HLS model\n"
     ]
    }
   ],
   "source": [
    "# convert model to FPGA using hls4ml\n",
    "config = hls4ml.utils.config.config_from_pytorch_model(model)\n",
    "print(\"-----------------------------------\")\n",
    "print(\"Configuration\")\n",
    "def print_dict(d):\n",
    "    for key, value in d.items():\n",
    "        print(f\"{key}: {value}\")\n",
    "print_dict(config)\n",
    "print(\"-----------------------------------\")\n",
    "hls_model = hls4ml.converters.convert_from_pytorch_model(\n",
    "    model, \n",
    "    input_shape=(None, 140),\n",
    "    hls_config=config, \n",
    "    output_dir='/workspaces/Acc-Higgs-HLS4ML/HLS4ML/hls4ml_original_model', \n",
    "    part='xcu250-figd2104-2L-e'\n",
    ")"
   ]
  },
  {
   "cell_type": "code",
   "execution_count": 13,
   "metadata": {},
   "outputs": [],
   "source": [
    "import pydot"
   ]
  },
  {
   "cell_type": "code",
   "execution_count": 16,
   "metadata": {},
   "outputs": [
    {
     "name": "stdout",
     "output_type": "stream",
     "text": [
      "<hls4ml.model.graph.HLSConfig object at 0x7f010cd42650>\n"
     ]
    }
   ],
   "source": [
    "# Print the model configuration\n",
    "print(hls_model.config)\n"
   ]
  },
  {
   "cell_type": "code",
   "execution_count": 17,
   "metadata": {},
   "outputs": [
    {
     "name": "stdout",
     "output_type": "stream",
     "text": [
      "Writing HLS project\n",
      "Done\n"
     ]
    }
   ],
   "source": [
    "# complie and predict\n",
    "hls_model.compile()\n",
    "X_test = np.ascontiguousarray(X_test)\n",
    "y_hls = hls_model.predict(X_test)"
   ]
  },
  {
   "cell_type": "code",
   "execution_count": 18,
   "metadata": {},
   "outputs": [],
   "source": [
    "from sklearn.metrics import accuracy_score"
   ]
  },
  {
   "cell_type": "code",
   "execution_count": 43,
   "metadata": {},
   "outputs": [
    {
     "name": "stdout",
     "output_type": "stream",
     "text": [
      "tensor([[ True, False, False,  ...,  True, False, False],\n",
      "        [False,  True,  True,  ..., False,  True,  True],\n",
      "        [False,  True,  True,  ..., False,  True,  True],\n",
      "        ...,\n",
      "        [ True, False, False,  ...,  True, False, False],\n",
      "        [False,  True,  True,  ..., False,  True,  True],\n",
      "        [False,  True,  True,  ..., False,  True,  True]])\n",
      "566732\n",
      "tensor([[ True, False, False,  ...,  True,  True, False],\n",
      "        [False,  True,  True,  ..., False, False,  True],\n",
      "        [False,  True,  True,  ..., False, False,  True],\n",
      "        ...,\n",
      "        [ True, False, False,  ...,  True,  True, False],\n",
      "        [ True, False, False,  ...,  True,  True, False],\n",
      "        [False,  True,  True,  ..., False, False,  True]])\n",
      "1117398\n",
      "tensor([[ True, False, False,  ...,  True, False,  True],\n",
      "        [False,  True,  True,  ..., False,  True, False],\n",
      "        [False,  True,  True,  ..., False,  True, False],\n",
      "        ...,\n",
      "        [ True, False, False,  ...,  True, False,  True],\n",
      "        [False,  True,  True,  ..., False,  True, False],\n",
      "        [ True, False, False,  ...,  True, False,  True]])\n",
      "1681686\n",
      "tensor([[ True, False, False,  ..., False, False, False],\n",
      "        [False,  True,  True,  ...,  True,  True,  True],\n",
      "        [False,  True,  True,  ...,  True,  True,  True],\n",
      "        ...,\n",
      "        [False,  True,  True,  ...,  True,  True,  True],\n",
      "        [False,  True,  True,  ...,  True,  True,  True],\n",
      "        [False,  True,  True,  ...,  True,  True,  True]])\n",
      "2248354\n",
      "tensor([[ True, False,  True,  ...,  True,  True,  True],\n",
      "        [False,  True, False,  ..., False, False, False],\n",
      "        [ True, False,  True,  ...,  True,  True,  True],\n",
      "        ...,\n",
      "        [False,  True, False,  ..., False, False, False],\n",
      "        [ True, False,  True,  ...,  True,  True,  True],\n",
      "        [ True, False,  True,  ...,  True,  True,  True]])\n",
      "2821320\n",
      "tensor([[False,  True,  True,  ..., False,  True,  True],\n",
      "        [False,  True,  True,  ..., False,  True,  True],\n",
      "        [False,  True,  True,  ..., False,  True,  True],\n",
      "        ...,\n",
      "        [ True, False, False,  ...,  True, False, False],\n",
      "        [False,  True,  True,  ..., False,  True,  True],\n",
      "        [False,  True,  True,  ..., False,  True,  True]])\n",
      "3372744\n",
      "tensor([[ True, False, False,  ..., False, False, False],\n",
      "        [False,  True,  True,  ...,  True,  True,  True],\n",
      "        [False,  True,  True,  ...,  True,  True,  True],\n",
      "        ...,\n",
      "        [False,  True,  True,  ...,  True,  True,  True],\n",
      "        [False,  True,  True,  ...,  True,  True,  True],\n",
      "        [False,  True,  True,  ...,  True,  True,  True]])\n",
      "3945804\n",
      "tensor([[ True, False, False,  ..., False, False, False],\n",
      "        [ True, False, False,  ..., False, False, False],\n",
      "        [False,  True,  True,  ...,  True,  True,  True],\n",
      "        ...,\n",
      "        [False,  True,  True,  ...,  True,  True,  True],\n",
      "        [False,  True,  True,  ...,  True,  True,  True],\n",
      "        [False,  True,  True,  ...,  True,  True,  True]])\n",
      "4515356\n",
      "tensor([[ True, False,  True,  ...,  True, False, False],\n",
      "        [False,  True, False,  ..., False,  True,  True],\n",
      "        [ True, False,  True,  ...,  True, False, False],\n",
      "        ...,\n",
      "        [ True, False,  True,  ...,  True, False, False],\n",
      "        [False,  True, False,  ..., False,  True,  True],\n",
      "        [False,  True, False,  ..., False,  True,  True]])\n",
      "5077696\n",
      "tensor([[ True, False, False,  ...,  True, False, False],\n",
      "        [False,  True,  True,  ..., False,  True,  True],\n",
      "        [ True, False, False,  ...,  True, False, False],\n",
      "        ...,\n",
      "        [False,  True,  True,  ..., False,  True,  True],\n",
      "        [False,  True,  True,  ..., False,  True,  True],\n",
      "        [False,  True,  True,  ..., False,  True,  True]])\n",
      "5649584\n",
      "tensor([[ True,  True, False,  ...,  True,  True, False],\n",
      "        [ True,  True, False,  ...,  True,  True, False],\n",
      "        [False, False,  True,  ..., False, False,  True],\n",
      "        ...,\n",
      "        [ True,  True, False,  ...,  True,  True, False],\n",
      "        [ True,  True, False,  ...,  True,  True, False],\n",
      "        [False, False,  True,  ..., False, False,  True]])\n",
      "6206284\n",
      "tensor([[ True, False,  True,  ...,  True,  True,  True],\n",
      "        [False,  True, False,  ..., False, False, False],\n",
      "        [ True, False,  True,  ...,  True,  True,  True],\n",
      "        ...,\n",
      "        [ True, False,  True,  ...,  True,  True,  True],\n",
      "        [ True, False,  True,  ...,  True,  True,  True],\n",
      "        [ True, False,  True,  ...,  True,  True,  True]])\n",
      "6496662\n"
     ]
    }
   ],
   "source": [
    "model.eval()\n",
    "y_pre = []\n",
    "\n",
    "with torch.no_grad():\n",
    "    correct = 0\n",
    "    total = 0\n",
    "    for inputs, labels in test_loader:\n",
    "        outputs, _ = model(inputs)\n",
    "        predicted = (outputs > 0.5).float()\n",
    "        total += labels.size(0)\n",
    "        print(predicted == labels)\n",
    "        correct += (predicted == labels).sum().item()\n",
    "        print(correct)\n",
    "        y_pre.append(predicted)\n",
    "accuracy0 = correct / total\n"
   ]
  },
  {
   "cell_type": "code",
   "execution_count": 34,
   "metadata": {},
   "outputs": [
    {
     "name": "stdout",
     "output_type": "stream",
     "text": [
      "Pytorch Accuracy: 541.3885\n"
     ]
    }
   ],
   "source": [
    "# compare \n",
    "print(\"Pytorch Accuracy: {}\".format(accuracy0))"
   ]
  },
  {
   "cell_type": "code",
   "execution_count": null,
   "metadata": {},
   "outputs": [],
   "source": []
  }
 ],
 "metadata": {
  "kernelspec": {
   "display_name": "Python 3",
   "language": "python",
   "name": "python3"
  },
  "language_info": {
   "codemirror_mode": {
    "name": "ipython",
    "version": 3
   },
   "file_extension": ".py",
   "mimetype": "text/x-python",
   "name": "python",
   "nbconvert_exporter": "python",
   "pygments_lexer": "ipython3",
   "version": "3.10.13"
  }
 },
 "nbformat": 4,
 "nbformat_minor": 2
}
