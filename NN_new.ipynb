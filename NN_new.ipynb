{
 "cells": [
  {
   "cell_type": "code",
   "execution_count": 1,
   "metadata": {},
   "outputs": [],
   "source": [
    "import torch\n",
    "import torch.nn as nn\n",
    "import torch.optim as optim\n",
    "from torch.utils.data import DataLoader, TensorDataset\n",
    "from sklearn.model_selection import train_test_split\n",
    "import pandas as pd\n",
    "import matplotlib.pyplot as plt\n",
    "import numpy as np\n",
    "import time\n",
    "import torch.quantization\n",
    "from tqdm import tqdm \n",
    "from torch.nn.utils import prune\n",
    "# import hls4ml"
   ]
  },
  {
   "cell_type": "code",
   "execution_count": 2,
   "metadata": {},
   "outputs": [],
   "source": [
    "def AUC(model,test_loader):\n",
    "    model.eval()\n",
    "    y_pre = []\n",
    "    y_labe = []\n",
    "    with torch.no_grad():\n",
    "        correct = 0\n",
    "        total = 0\n",
    "        for inputs, labels in test_loader:\n",
    "            outputs = model(inputs)\n",
    "            y_pre=np.append(y_pre,outputs.numpy())\n",
    "            y_labe=np.append(y_labe,labels.numpy())\n",
    "    from sklearn.metrics import roc_auc_score\n",
    "    auc = roc_auc_score(y_labe, y_pre)\n",
    "    print(f'AUC = {auc}')"
   ]
  },
  {
   "cell_type": "markdown",
   "metadata": {},
   "source": [
    "## The original model\n",
    "\n",
    "- Memory Calculation:\n",
    "1. Layer 0:\n",
    "    - Weights: 140 * 32 parameters\n",
    "    - Biases: 32 parameters\n",
    "    - Memory: M0 = (140 * 32 + 32) * 4 = 18048 bytes = 18048/1024 KB = 17.625 KB\n",
    "2. Layer 1: \n",
    "    - Weights: 32 * 16 parameters\n",
    "    - Biases: 16 parameters\n",
    "    - Memory: M1 = (32 * 16 + 16) * 4 = 2112 bytes = 2.0625 KB\n",
    "3. Layer 2:\n",
    "    - Weights: 16 * 1 parameters\n",
    "    - Biases: 1 parameters\n",
    "    - Memory: M2 = (16 * 1 + 1) * 4 = 68 bytes \n",
    "Memory Calculation for Parameters:\n",
    "1. Weights: In each layer is the production of the input and output sizes. For biases, it is the output size of the layer.\n",
    "2. Total Memory: Sum up all weights and biases across all layers and multiply by 4 bytes (for 32-bit precision).\n",
    "\n",
    "M = 18048 + 2112 + 68 bytes = 19.754 KB\n"
   ]
  },
  {
   "cell_type": "code",
   "execution_count": 3,
   "metadata": {},
   "outputs": [
    {
     "name": "stderr",
     "output_type": "stream",
     "text": [
      " 57%|█████▊    | 23/40 [01:42<01:15,  4.46s/it, train_loss=0.232]\n"
     ]
    }
   ],
   "source": [
    "batch = 1024\n",
    "num_epochs = 40\n",
    "layers = [32,16,16]\n",
    "lr = 0.001\n",
    "df = pd.read_parquet('df.parquet')\n",
    "X = pd.read_parquet('x.parquet').values  \n",
    "df['proc'] = df['proc'].apply(lambda x: 1 if x != 0 else 0)\n",
    "y = df['proc'].values  \n",
    "\n",
    "X_tensor = torch.tensor(X, dtype=torch.float32)\n",
    "y_tensor = torch.tensor(y, dtype=torch.float32)\n",
    "\n",
    "X_train, X_test, y_train, y_test = train_test_split(X_tensor, y_tensor, test_size=0.2, random_state=42)\n",
    "\n",
    "train_data = TensorDataset(X_train, y_train)\n",
    "test_data = TensorDataset(X_test, y_test)\n",
    "\n",
    "train_loader = DataLoader(train_data, batch_size=batch, shuffle=True)\n",
    "test_loader = DataLoader(test_data, batch_size=batch, shuffle=False)\n",
    "\n",
    "\n",
    "class BinaryClassificationModel(nn.Module):\n",
    "    def __init__(self):\n",
    "        super(BinaryClassificationModel, self).__init__()\n",
    "        self.layer0 = nn.Linear(X.shape[1], layers[0])\n",
    "        self.layer1 = nn.Linear(layers[0], layers[1])\n",
    "        self.layer2 = nn.Linear(layers[1], 1)\n",
    "        self.sigmoid = nn.Sigmoid()\n",
    "    \n",
    "    def forward(self, x):\n",
    "        x = torch.relu(self.layer0(x))\n",
    "        x = torch.relu(self.layer1(x))\n",
    "        x = self.sigmoid(self.layer2(x))\n",
    "        return x\n",
    "\n",
    "model = BinaryClassificationModel()\n",
    "\n",
    "criterion = nn.BCELoss()\n",
    "optimizer = optim.Adam(model.parameters(), lr=lr)\n",
    "\n",
    "\n",
    "losses = []\n",
    "stt = time.time()\n",
    "with tqdm(range(num_epochs)) as t:\n",
    "    for epoch in t:\n",
    "        for inputs, labels in train_loader:\n",
    "            outputs = model(inputs)\n",
    "            loss = criterion(outputs.squeeze(), labels)\n",
    "            \n",
    "            optimizer.zero_grad()\n",
    "            loss.backward()\n",
    "            \n",
    "            optimizer.step()\n",
    "        losses.append(loss)\n",
    "        # print(f'Epoch {epoch+1}, Estimate:{dtt}, Loss: {loss.item()}')\n",
    "        t.set_postfix(train_loss=loss.item())\n",
    "\n",
    "\n",
    "model.eval()\n",
    "y_pre = []\n",
    "\n",
    "with torch.no_grad():\n",
    "    correct = 0\n",
    "    total = 0\n",
    "    for inputs, labels in test_loader:\n",
    "        outputs = model(inputs)\n",
    "        predicted = (outputs.squeeze() > 0.5).float()\n",
    "        total += labels.size(0)\n",
    "        correct += (predicted == labels).sum().item()\n",
    "        y_pre.append(predicted)\n",
    "        \n",
    "accuracy = correct / total\n",
    "print(f'Accuracy: {accuracy}')"
   ]
  },
  {
   "cell_type": "code",
   "execution_count": 22,
   "metadata": {},
   "outputs": [
    {
     "data": {
      "text/plain": [
       "(array([  69.,   52.,   64.,   62.,   95.,  131.,  256.,  472., 1116.,\n",
       "        5162.]),\n",
       " array([4.03692975e-04, 1.00363324e-01, 2.00322954e-01, 3.00282585e-01,\n",
       "        4.00242216e-01, 5.00201846e-01, 6.00161477e-01, 7.00121108e-01,\n",
       "        8.00080739e-01, 9.00040369e-01, 1.00000000e+00]),\n",
       " <BarContainer object of 10 artists>)"
      ]
     },
     "execution_count": 22,
     "metadata": {},
     "output_type": "execute_result"
    },
    {
     "data": {
      "image/png": "[encoded data removed]",
      "text/plain": [
       "<Figure size 640x480 with 1 Axes>"
      ]
     },
     "metadata": {},
     "output_type": "display_data"
    }
   ],
   "source": [
    "plt.hist(y_pre[y_test==0])\n",
    "plt.hist(y_pre[y_test==1])"
   ]
  },
  {
   "cell_type": "code",
   "execution_count": 14,
   "metadata": {},
   "outputs": [
    {
     "name": "stdout",
     "output_type": "stream",
     "text": [
      "AUC = 0.965540333696719\n"
     ]
    }
   ],
   "source": [
    "y_pre = []\n",
    "y_labe = []\n",
    "with torch.no_grad():\n",
    "    correct = 0\n",
    "    total = 0\n",
    "    for inputs, labels in test_loader:\n",
    "        outputs = model(inputs)\n",
    "        y_pre=np.append(y_pre,outputs.numpy())\n",
    "        y_labe=np.append(y_labe,labels.numpy())\n",
    "from sklearn.metrics import roc_auc_score\n",
    "auc = roc_auc_score(y_labe, y_pre)\n",
    "print(f'AUC = {auc}')"
   ]
  },
  {
   "cell_type": "code",
   "execution_count": null,
   "metadata": {},
   "outputs": [],
   "source": [
    "import matplotlib.pyplot as plt\n",
    "lss = []\n",
    "for i in range(len(losses)):\n",
    "    lss.append(losses[i].detach())\n",
    "plt.plot(lss)"
   ]
  },
  {
   "cell_type": "markdown",
   "metadata": {},
   "source": [
    "## Quantized\n"
   ]
  },
  {
   "cell_type": "code",
   "execution_count": 22,
   "metadata": {},
   "outputs": [
    {
     "name": "stderr",
     "output_type": "stream",
     "text": [
      "/vols/cms/hw423/env/envs/env/lib/python3.11/site-packages/torch/ao/quantization/observer.py:214: UserWarning: Please use quant_min and quant_max to specify the range for observers.                     reduce_range will be deprecated in a future release of PyTorch.\n",
      "  warnings.warn(\n"
     ]
    }
   ],
   "source": [
    "batch = 1024\n",
    "num_epochs = 40\n",
    "layers = [32,16,16]\n",
    "lr = 0.001\n",
    "df = pd.read_parquet('df.parquet')\n",
    "X = pd.read_parquet('x.parquet').values  \n",
    "df['proc'] = df['proc'].apply(lambda x: 1 if x != 0 else 0)\n",
    "y = df['proc'].values  \n",
    "\n",
    "X_tensor = torch.tensor(X, dtype=torch.float32)\n",
    "y_tensor = torch.tensor(y, dtype=torch.float32)\n",
    "\n",
    "X_train, X_test, y_train, y_test = train_test_split(X_tensor, y_tensor, test_size=0.2, random_state=42)\n",
    "\n",
    "train_data = TensorDataset(X_train, y_train)\n",
    "test_data = TensorDataset(X_test, y_test)\n",
    "\n",
    "train_loader = DataLoader(train_data, batch_size=batch, shuffle=True)\n",
    "test_loader = DataLoader(test_data, batch_size=batch, shuffle=False)\n",
    "\n",
    "class BitMask(nn.Module):\n",
    "    def __init__(self, size, mask=None):\n",
    "        super(BitMask, self).__init__()\n",
    "        if mask is None:\n",
    "            self.mask = torch.ones(size, dtype=torch.float32)\n",
    "        else:\n",
    "            assert mask.size() == size\n",
    "            self.mask = mask\n",
    "\n",
    "    def forward(self, x):\n",
    "        return x * self.mask\n",
    "    \n",
    "\n",
    "\n",
    "\n",
    "class BinaryClassificationModelQ(nn.Module):\n",
    "    def __init__(self, num_features, mask_size=None, mask=None):\n",
    "        super(BinaryClassificationModelQ, self).__init__()\n",
    "        self.quant = torch.quantization.QuantStub()\n",
    "        self.layer0 = nn.Linear(num_features, layers[0])\n",
    "        self.layer1 = nn.Linear(layers[0], layers[1])\n",
    "        self.bitmask = BitMask(mask_size or layers[1], mask)\n",
    "        self.layer2 = nn.Linear(layers[1], 1)\n",
    "        self.sigmoid = nn.Sigmoid()\n",
    "        self.dequant = torch.quantization.DeQuantStub()\n",
    "\n",
    "    def forward(self, x):\n",
    "        x = self.quant(x)\n",
    "        x = torch.relu(self.layer0(x))\n",
    "        x = self.layer1(x)\n",
    "        x = self.bitmask(x)\n",
    "        x = torch.relu(x)\n",
    "        x = self.sigmoid(self.layer2(x))\n",
    "        x = self.dequant(x)\n",
    "        return x\n",
    "modelQ = BinaryClassificationModelQ(X.shape[1])\n",
    "\n",
    "modelQ.qconfig = torch.quantization.get_default_qat_qconfig('fbgemm')\n",
    "torch.quantization.prepare_qat(modelQ, inplace=True)\n",
    "\n",
    "\n",
    "def Quantrain(model):\n",
    "    criterion = nn.BCELoss()\n",
    "    optimizer = optim.Adam(model.parameters(), lr=lr, weight_decay=1e-5)\n",
    "    losses = []\n",
    "    stt = time.time()\n",
    "    # for layer, name in parameters_to_prune:\n",
    "    #     prune.l1_unstructured(layer, name=name, amount=pruning_amount)\n",
    "    with tqdm(range(num_epochs)) as t:\n",
    "        for epoch in t:\n",
    "            for inputs, labels in train_loader:\n",
    "                outputs = model(inputs)\n",
    "                loss = criterion(outputs.squeeze(), labels)\n",
    "                optimizer.zero_grad()\n",
    "                loss.backward()\n",
    "                optimizer.step()\n",
    "            \n",
    "            losses.append(loss)\n",
    "            t.set_postfix(train_loss=loss.item())\n",
    "            \n",
    "    \n",
    "    return losses, model\n",
    "\n",
    "def Acc(model):\n",
    "    model.eval()\n",
    "    model = torch.quantization.convert(model, inplace=True)\n",
    "    y_pre = []\n",
    "\n",
    "    with torch.no_grad():\n",
    "        correct = 0\n",
    "        total = 0\n",
    "        for inputs, labels in test_loader:\n",
    "            outputs = model(inputs)\n",
    "            predicted = (outputs.squeeze() > 0.5).float()\n",
    "            total += labels.size(0)\n",
    "            correct += (predicted == labels).sum().item()\n",
    "            y_pre.append(predicted)\n",
    "            \n",
    "    accuracy = correct / total\n",
    "    return accuracy"
   ]
  },
  {
   "cell_type": "code",
   "execution_count": 23,
   "metadata": {},
   "outputs": [
    {
     "name": "stderr",
     "output_type": "stream",
     "text": [
      "100%|██████████| 40/40 [03:42<00:00,  5.57s/it, train_loss=0.327]\n"
     ]
    }
   ],
   "source": [
    "losess, modelQ = Quantrain(modelQ)"
   ]
  },
  {
   "cell_type": "code",
   "execution_count": 25,
   "metadata": {},
   "outputs": [
    {
     "name": "stdout",
     "output_type": "stream",
     "text": [
      "AUC = 0.9261048830997973\n"
     ]
    }
   ],
   "source": [
    "y_pre = []\n",
    "y_labe = []\n",
    "with torch.no_grad():\n",
    "    correct = 0\n",
    "    total = 0\n",
    "    for inputs, labels in test_loader:\n",
    "        outputs = modelQ(inputs)\n",
    "        y_pre=np.append(y_pre,outputs.numpy())\n",
    "        y_labe=np.append(y_labe,labels.numpy())\n",
    "from sklearn.metrics import roc_auc_score\n",
    "auc = roc_auc_score(y_labe, y_pre)\n",
    "print(f'AUC = {auc}')"
   ]
  },
  {
   "cell_type": "code",
   "execution_count": 7,
   "metadata": {},
   "outputs": [
    {
     "name": "stdout",
     "output_type": "stream",
     "text": [
      "AUC = 0.8322178750209352\n"
     ]
    }
   ],
   "source": [
    "y_pre = []\n",
    "y_labe = []\n",
    "with torch.no_grad():\n",
    "    correct = 0\n",
    "    total = 0\n",
    "    for inputs, labels in test_loader:\n",
    "        outputs = modelQ(inputs)\n",
    "        y_pre=np.append(y_pre,outputs.numpy())\n",
    "        y_labe=np.append(y_labe,labels.numpy())\n",
    "from sklearn.metrics import roc_auc_score\n",
    "auc = roc_auc_score(y_labe, y_pre)\n",
    "print(f'AUC = {auc}')"
   ]
  },
  {
   "cell_type": "code",
   "execution_count": null,
   "metadata": {},
   "outputs": [],
   "source": []
  },
  {
   "cell_type": "code",
   "execution_count": 8,
   "metadata": {},
   "outputs": [
    {
     "data": {
      "text/plain": [
       "(array([  11.,   69.,  178.,  266.,  725.,  837.,  958.,  810.,  918.,\n",
       "        2707.]),\n",
       " array([0.06640625, 0.159375  , 0.25234375, 0.3453125 , 0.43828125,\n",
       "        0.53125   , 0.62421875, 0.7171875 , 0.81015625, 0.903125  ,\n",
       "        0.99609375]),\n",
       " <BarContainer object of 10 artists>)"
      ]
     },
     "execution_count": 8,
     "metadata": {},
     "output_type": "execute_result"
    },
    {
     "data": {
      "image/png": "[encoded data removed]",
      "text/plain": [
       "<Figure size 640x480 with 1 Axes>"
      ]
     },
     "metadata": {},
     "output_type": "display_data"
    }
   ],
   "source": [
    "plt.hist(y_pre[y_test==0])\n",
    "plt.hist(y_pre[y_test==1])"
   ]
  },
  {
   "cell_type": "code",
   "execution_count": null,
   "metadata": {},
   "outputs": [],
   "source": []
  },
  {
   "cell_type": "code",
   "execution_count": 18,
   "metadata": {},
   "outputs": [
    {
     "data": {
      "text/plain": [
       "[<matplotlib.lines.Line2D at 0x7f3434717c10>]"
      ]
     },
     "execution_count": 18,
     "metadata": {},
     "output_type": "execute_result"
    },
    {
     "data": {
      "image/png": "[encoded data removed]",
      "text/plain": [
       "<Figure size 640x480 with 1 Axes>"
      ]
     },
     "metadata": {},
     "output_type": "display_data"
    }
   ],
   "source": [
    "import matplotlib.pyplot as plt\n",
    "lss = []\n",
    "for i in range(len(losess)):\n",
    "    lss.append(losess[i].detach())\n",
    "plt.title('Quantised model')\n",
    "plt.ylim(0,1)\n",
    "plt.plot(lss)"
   ]
  },
  {
   "cell_type": "code",
   "execution_count": 24,
   "metadata": {},
   "outputs": [
    {
     "data": {
      "text/plain": [
       "[<matplotlib.lines.Line2D at 0x7f3436370b50>]"
      ]
     },
     "execution_count": 24,
     "metadata": {},
     "output_type": "execute_result"
    },
    {
     "data": {
      "image/png": "[encoded data removed]",
      "text/plain": [
       "<Figure size 640x480 with 1 Axes>"
      ]
     },
     "metadata": {},
     "output_type": "display_data"
    }
   ],
   "source": [
    "import matplotlib.pyplot as plt\n",
    "lss = []\n",
    "for i in range(len(losess)):\n",
    "    lss.append(losess[i].detach())\n",
    "plt.title('Quantised model with bitmask')\n",
    "plt.ylim(0,1)\n",
    "plt.plot(lss)"
   ]
  },
  {
   "cell_type": "code",
   "execution_count": 26,
   "metadata": {},
   "outputs": [
    {
     "data": {
      "text/plain": [
       "(array([  10.,   23.,   47.,  209.,  345.,  750.,  911.,  859., 1071.,\n",
       "        3254.]),\n",
       " array([0.01171875, 0.11015625, 0.20859375, 0.30703125, 0.40546875,\n",
       "        0.50390625, 0.60234375, 0.70078125, 0.79921875, 0.89765625,\n",
       "        0.99609375]),\n",
       " <BarContainer object of 10 artists>)"
      ]
     },
     "execution_count": 26,
     "metadata": {},
     "output_type": "execute_result"
    },
    {
     "data": {
      "image/png": "[encoded data removed]",
      "text/plain": [
       "<Figure size 640x480 with 1 Axes>"
      ]
     },
     "metadata": {},
     "output_type": "display_data"
    }
   ],
   "source": [
    "plt.hist(y_pre[y_test==0])\n",
    "plt.hist(y_pre[y_test==1])"
   ]
  },
  {
   "cell_type": "code",
   "execution_count": 26,
   "metadata": {},
   "outputs": [
    {
     "name": "stdout",
     "output_type": "stream",
     "text": [
      "AUC = 0.9175262363312993\n"
     ]
    }
   ],
   "source": [
    "AUC(modelQ,test_loader)"
   ]
  },
  {
   "cell_type": "code",
   "execution_count": 48,
   "metadata": {},
   "outputs": [
    {
     "name": "stdout",
     "output_type": "stream",
     "text": [
      "BinaryClassificationModelQ(\n",
      "  (quant): Quantize(scale=tensor([0.3081]), zero_point=tensor([27]), dtype=torch.quint8)\n",
      "  (layer0): QuantizedLinear(in_features=140, out_features=32, scale=0.18849492073059082, zero_point=60, qscheme=torch.per_channel_affine)\n",
      "  (layer1): QuantizedLinear(in_features=32, out_features=16, scale=0.12984374165534973, zero_point=49, qscheme=torch.per_channel_affine)\n",
      "  (layer2): QuantizedLinear(in_features=16, out_features=1, scale=0.1536165326833725, zero_point=28, qscheme=torch.per_channel_affine)\n",
      "  (sigmoid): Sigmoid()\n",
      "  (dequant): DeQuantize()\n",
      ")\n"
     ]
    }
   ],
   "source": [
    "print(modelQ)"
   ]
  },
  {
   "cell_type": "code",
   "execution_count": 59,
   "metadata": {},
   "outputs": [
    {
     "name": "stdout",
     "output_type": "stream",
     "text": [
      "model: fp32 \t Size(KB): 22.167\n",
      "model: int8 \t Size(KB): 11.881\n",
      "1.87 times smaller\n"
     ]
    }
   ],
   "source": [
    "import os\n",
    "def model_size(model, label=' '):\n",
    "    torch.save(model.state_dict(),\"/vols/cms/hw423/Acc/mymodel.p\")\n",
    "    size = os.path.getsize(\"/vols/cms/hw423/Acc/mymodel.p\")\n",
    "    print(\"model:\",label,'\\t','Size(KB):',size/1e3)\n",
    "    os.remove(\"/vols/cms/hw423/Acc/mymodel.p\")\n",
    "    return size\n",
    "# compare the size\n",
    "f = model_size(model, \"fp32\")\n",
    "q= model_size(modelQ, \"int8\")\n",
    "print(\"{0:.2f} times smaller\".format(f/q))"
   ]
  },
  {
   "cell_type": "code",
   "execution_count": 68,
   "metadata": {},
   "outputs": [
    {
     "name": "stderr",
     "output_type": "stream",
     "text": [
      "/vols/cms/hw423/env/envs/env/lib/python3.11/site-packages/torch/ao/quantization/observer.py:214: UserWarning: Please use quant_min and quant_max to specify the range for observers.                     reduce_range will be deprecated in a future release of PyTorch.\n",
      "  warnings.warn(\n"
     ]
    },
    {
     "name": "stderr",
     "output_type": "stream",
     "text": [
      "100%|██████████| 40/40 [04:15<00:00,  6.38s/it, train_loss=0.434]\n"
     ]
    },
    {
     "ename": "AttributeError",
     "evalue": "'Linear' object has no attribute 'weight_mask'",
     "output_type": "error",
     "traceback": [
      "\u001b[0;31m---------------------------------------------------------------------------\u001b[0m",
      "\u001b[0;31mAttributeError\u001b[0m                            Traceback (most recent call last)",
      "Cell \u001b[0;32mIn[68], line 48\u001b[0m\n\u001b[1;32m     46\u001b[0m total \u001b[38;5;241m=\u001b[39m \u001b[38;5;241m0\u001b[39m\n\u001b[1;32m     47\u001b[0m \u001b[38;5;28;01mfor\u001b[39;00m inputs, labels \u001b[38;5;129;01min\u001b[39;00m test_loader:\n\u001b[0;32m---> 48\u001b[0m     outputs \u001b[38;5;241m=\u001b[39m \u001b[43mmodel\u001b[49m\u001b[43m(\u001b[49m\u001b[43minputs\u001b[49m\u001b[43m)\u001b[49m\n\u001b[1;32m     49\u001b[0m     predicted \u001b[38;5;241m=\u001b[39m (outputs\u001b[38;5;241m.\u001b[39msqueeze() \u001b[38;5;241m>\u001b[39m \u001b[38;5;241m0.5\u001b[39m)\u001b[38;5;241m.\u001b[39mfloat()\n\u001b[1;32m     50\u001b[0m     total \u001b[38;5;241m+\u001b[39m\u001b[38;5;241m=\u001b[39m labels\u001b[38;5;241m.\u001b[39msize(\u001b[38;5;241m0\u001b[39m)\n",
      "File \u001b[0;32m/vols/cms/hw423/env/envs/env/lib/python3.11/site-packages/torch/nn/modules/module.py:1501\u001b[0m, in \u001b[0;36mModule._call_impl\u001b[0;34m(self, *args, **kwargs)\u001b[0m\n\u001b[1;32m   1496\u001b[0m \u001b[38;5;66;03m# If we don't have any hooks, we want to skip the rest of the logic in\u001b[39;00m\n\u001b[1;32m   1497\u001b[0m \u001b[38;5;66;03m# this function, and just call forward.\u001b[39;00m\n\u001b[1;32m   1498\u001b[0m \u001b[38;5;28;01mif\u001b[39;00m \u001b[38;5;129;01mnot\u001b[39;00m (\u001b[38;5;28mself\u001b[39m\u001b[38;5;241m.\u001b[39m_backward_hooks \u001b[38;5;129;01mor\u001b[39;00m \u001b[38;5;28mself\u001b[39m\u001b[38;5;241m.\u001b[39m_backward_pre_hooks \u001b[38;5;129;01mor\u001b[39;00m \u001b[38;5;28mself\u001b[39m\u001b[38;5;241m.\u001b[39m_forward_hooks \u001b[38;5;129;01mor\u001b[39;00m \u001b[38;5;28mself\u001b[39m\u001b[38;5;241m.\u001b[39m_forward_pre_hooks\n\u001b[1;32m   1499\u001b[0m         \u001b[38;5;129;01mor\u001b[39;00m _global_backward_pre_hooks \u001b[38;5;129;01mor\u001b[39;00m _global_backward_hooks\n\u001b[1;32m   1500\u001b[0m         \u001b[38;5;129;01mor\u001b[39;00m _global_forward_hooks \u001b[38;5;129;01mor\u001b[39;00m _global_forward_pre_hooks):\n\u001b[0;32m-> 1501\u001b[0m     \u001b[38;5;28;01mreturn\u001b[39;00m \u001b[43mforward_call\u001b[49m\u001b[43m(\u001b[49m\u001b[38;5;241;43m*\u001b[39;49m\u001b[43margs\u001b[49m\u001b[43m,\u001b[49m\u001b[43m \u001b[49m\u001b[38;5;241;43m*\u001b[39;49m\u001b[38;5;241;43m*\u001b[39;49m\u001b[43mkwargs\u001b[49m\u001b[43m)\u001b[49m\n\u001b[1;32m   1502\u001b[0m \u001b[38;5;66;03m# Do not call functions when jit is used\u001b[39;00m\n\u001b[1;32m   1503\u001b[0m full_backward_hooks, non_full_backward_hooks \u001b[38;5;241m=\u001b[39m [], []\n",
      "Cell \u001b[0;32mIn[62], line 33\u001b[0m, in \u001b[0;36mBinaryClassificationModelQ.forward\u001b[0;34m(self, x)\u001b[0m\n\u001b[1;32m     31\u001b[0m \u001b[38;5;28;01mdef\u001b[39;00m \u001b[38;5;21mforward\u001b[39m(\u001b[38;5;28mself\u001b[39m, x):\n\u001b[1;32m     32\u001b[0m     x \u001b[38;5;241m=\u001b[39m \u001b[38;5;28mself\u001b[39m\u001b[38;5;241m.\u001b[39mquant(x)\n\u001b[0;32m---> 33\u001b[0m     x \u001b[38;5;241m=\u001b[39m torch\u001b[38;5;241m.\u001b[39mrelu(\u001b[38;5;28;43mself\u001b[39;49m\u001b[38;5;241;43m.\u001b[39;49m\u001b[43mlayer0\u001b[49m\u001b[43m(\u001b[49m\u001b[43mx\u001b[49m\u001b[43m)\u001b[49m)\n\u001b[1;32m     34\u001b[0m     x \u001b[38;5;241m=\u001b[39m torch\u001b[38;5;241m.\u001b[39mrelu(\u001b[38;5;28mself\u001b[39m\u001b[38;5;241m.\u001b[39mlayer1(x))\n\u001b[1;32m     35\u001b[0m     x \u001b[38;5;241m=\u001b[39m \u001b[38;5;28mself\u001b[39m\u001b[38;5;241m.\u001b[39msigmoid(\u001b[38;5;28mself\u001b[39m\u001b[38;5;241m.\u001b[39mlayer2(x))\n",
      "File \u001b[0;32m/vols/cms/hw423/env/envs/env/lib/python3.11/site-packages/torch/nn/modules/module.py:1527\u001b[0m, in \u001b[0;36mModule._call_impl\u001b[0;34m(self, *args, **kwargs)\u001b[0m\n\u001b[1;32m   1522\u001b[0m             \u001b[38;5;28;01mraise\u001b[39;00m \u001b[38;5;167;01mRuntimeError\u001b[39;00m(\n\u001b[1;32m   1523\u001b[0m                 \u001b[38;5;124m\"\u001b[39m\u001b[38;5;124mforward pre-hook must return None or a tuple \u001b[39m\u001b[38;5;124m\"\u001b[39m\n\u001b[1;32m   1524\u001b[0m                 \u001b[38;5;124mf\u001b[39m\u001b[38;5;124m\"\u001b[39m\u001b[38;5;124mof (new_args, new_kwargs), but got \u001b[39m\u001b[38;5;132;01m{\u001b[39;00mresult\u001b[38;5;132;01m}\u001b[39;00m\u001b[38;5;124m.\u001b[39m\u001b[38;5;124m\"\u001b[39m\n\u001b[1;32m   1525\u001b[0m             )\n\u001b[1;32m   1526\u001b[0m \u001b[38;5;28;01melse\u001b[39;00m:\n\u001b[0;32m-> 1527\u001b[0m     result \u001b[38;5;241m=\u001b[39m \u001b[43mhook\u001b[49m\u001b[43m(\u001b[49m\u001b[38;5;28;43mself\u001b[39;49m\u001b[43m,\u001b[49m\u001b[43m \u001b[49m\u001b[43margs\u001b[49m\u001b[43m)\u001b[49m\n\u001b[1;32m   1528\u001b[0m     \u001b[38;5;28;01mif\u001b[39;00m result \u001b[38;5;129;01mis\u001b[39;00m \u001b[38;5;129;01mnot\u001b[39;00m \u001b[38;5;28;01mNone\u001b[39;00m:\n\u001b[1;32m   1529\u001b[0m         \u001b[38;5;28;01mif\u001b[39;00m \u001b[38;5;129;01mnot\u001b[39;00m \u001b[38;5;28misinstance\u001b[39m(result, \u001b[38;5;28mtuple\u001b[39m):\n",
      "File \u001b[0;32m/vols/cms/hw423/env/envs/env/lib/python3.11/site-packages/torch/nn/utils/prune.py:33\u001b[0m, in \u001b[0;36mBasePruningMethod.__call__\u001b[0;34m(self, module, inputs)\u001b[0m\n\u001b[1;32m     23\u001b[0m \u001b[38;5;28;01mdef\u001b[39;00m \u001b[38;5;21m__call__\u001b[39m(\u001b[38;5;28mself\u001b[39m, module, inputs):\n\u001b[1;32m     24\u001b[0m \u001b[38;5;250m    \u001b[39m\u001b[38;5;124mr\u001b[39m\u001b[38;5;124;03m\"\"\"Multiplies the mask (stored in ``module[name + '_mask']``)\u001b[39;00m\n\u001b[1;32m     25\u001b[0m \u001b[38;5;124;03m    into the original tensor (stored in ``module[name + '_orig']``)\u001b[39;00m\n\u001b[1;32m     26\u001b[0m \u001b[38;5;124;03m    and stores the result into ``module[name]`` by using\u001b[39;00m\n\u001b[0;32m   (...)\u001b[0m\n\u001b[1;32m     31\u001b[0m \u001b[38;5;124;03m        inputs: not used.\u001b[39;00m\n\u001b[1;32m     32\u001b[0m \u001b[38;5;124;03m    \"\"\"\u001b[39;00m\n\u001b[0;32m---> 33\u001b[0m     \u001b[38;5;28msetattr\u001b[39m(module, \u001b[38;5;28mself\u001b[39m\u001b[38;5;241m.\u001b[39m_tensor_name, \u001b[38;5;28;43mself\u001b[39;49m\u001b[38;5;241;43m.\u001b[39;49m\u001b[43mapply_mask\u001b[49m\u001b[43m(\u001b[49m\u001b[43mmodule\u001b[49m\u001b[43m)\u001b[49m)\n",
      "File \u001b[0;32m/vols/cms/hw423/env/envs/env/lib/python3.11/site-packages/torch/nn/utils/prune.py:72\u001b[0m, in \u001b[0;36mBasePruningMethod.apply_mask\u001b[0;34m(self, module)\u001b[0m\n\u001b[1;32m     67\u001b[0m \u001b[38;5;66;03m# to carry out the multiplication, the mask needs to have been computed,\u001b[39;00m\n\u001b[1;32m     68\u001b[0m \u001b[38;5;66;03m# so the pruning method must know what tensor it's operating on\u001b[39;00m\n\u001b[1;32m     69\u001b[0m \u001b[38;5;28;01massert\u001b[39;00m \u001b[38;5;28mself\u001b[39m\u001b[38;5;241m.\u001b[39m_tensor_name \u001b[38;5;129;01mis\u001b[39;00m \u001b[38;5;129;01mnot\u001b[39;00m \u001b[38;5;28;01mNone\u001b[39;00m, \u001b[38;5;124m\"\u001b[39m\u001b[38;5;124mModule \u001b[39m\u001b[38;5;132;01m{}\u001b[39;00m\u001b[38;5;124m has to be pruned\u001b[39m\u001b[38;5;124m\"\u001b[39m\u001b[38;5;241m.\u001b[39mformat(\n\u001b[1;32m     70\u001b[0m     module\n\u001b[1;32m     71\u001b[0m )  \u001b[38;5;66;03m# this gets set in apply()\u001b[39;00m\n\u001b[0;32m---> 72\u001b[0m mask \u001b[38;5;241m=\u001b[39m \u001b[38;5;28mgetattr\u001b[39m(module, \u001b[38;5;28mself\u001b[39m\u001b[38;5;241m.\u001b[39m_tensor_name \u001b[38;5;241m+\u001b[39m \u001b[38;5;124m\"\u001b[39m\u001b[38;5;124m_mask\u001b[39m\u001b[38;5;124m\"\u001b[39m)\n\u001b[1;32m     73\u001b[0m orig \u001b[38;5;241m=\u001b[39m \u001b[38;5;28mgetattr\u001b[39m(module, \u001b[38;5;28mself\u001b[39m\u001b[38;5;241m.\u001b[39m_tensor_name \u001b[38;5;241m+\u001b[39m \u001b[38;5;124m\"\u001b[39m\u001b[38;5;124m_orig\u001b[39m\u001b[38;5;124m\"\u001b[39m)\n\u001b[1;32m     74\u001b[0m pruned_tensor \u001b[38;5;241m=\u001b[39m mask\u001b[38;5;241m.\u001b[39mto(dtype\u001b[38;5;241m=\u001b[39morig\u001b[38;5;241m.\u001b[39mdtype) \u001b[38;5;241m*\u001b[39m orig\n",
      "File \u001b[0;32m/vols/cms/hw423/env/envs/env/lib/python3.11/site-packages/torch/nn/modules/module.py:1614\u001b[0m, in \u001b[0;36mModule.__getattr__\u001b[0;34m(self, name)\u001b[0m\n\u001b[1;32m   1612\u001b[0m     \u001b[38;5;28;01mif\u001b[39;00m name \u001b[38;5;129;01min\u001b[39;00m modules:\n\u001b[1;32m   1613\u001b[0m         \u001b[38;5;28;01mreturn\u001b[39;00m modules[name]\n\u001b[0;32m-> 1614\u001b[0m \u001b[38;5;28;01mraise\u001b[39;00m \u001b[38;5;167;01mAttributeError\u001b[39;00m(\u001b[38;5;124m\"\u001b[39m\u001b[38;5;124m'\u001b[39m\u001b[38;5;132;01m{}\u001b[39;00m\u001b[38;5;124m'\u001b[39m\u001b[38;5;124m object has no attribute \u001b[39m\u001b[38;5;124m'\u001b[39m\u001b[38;5;132;01m{}\u001b[39;00m\u001b[38;5;124m'\u001b[39m\u001b[38;5;124m\"\u001b[39m\u001b[38;5;241m.\u001b[39mformat(\n\u001b[1;32m   1615\u001b[0m     \u001b[38;5;28mtype\u001b[39m(\u001b[38;5;28mself\u001b[39m)\u001b[38;5;241m.\u001b[39m\u001b[38;5;18m__name__\u001b[39m, name))\n",
      "\u001b[0;31mAttributeError\u001b[0m: 'Linear' object has no attribute 'weight_mask'"
     ]
    }
   ],
   "source": [
    "model = BinaryClassificationModelQ(X.shape[1])\n",
    "model.train()\n",
    "\n",
    "model.qconfig = torch.quantization.get_default_qat_qconfig('fbgemm')\n",
    "torch.quantization.prepare_qat(model, inplace=True)\n",
    "criterion = nn.BCELoss()\n",
    "optimizer = optim.Adam(model.parameters(), lr=lr, weight_decay=1e-5)\n",
    "losses = []\n",
    "stt = time.time()\n",
    "# for layer, name in parameters_to_prune:\n",
    "#     prune.l1_unstructured(layer, name=name, amount=pruning_amount)\n",
    "with tqdm(range(num_epochs)) as t:\n",
    "    for epoch in t:\n",
    "        for inputs, labels in train_loader:\n",
    "            outputs = model(inputs)\n",
    "            loss = criterion(outputs.squeeze(), labels)\n",
    "            optimizer.zero_grad()\n",
    "            loss.backward()\n",
    "            optimizer.step()\n",
    "        \n",
    "        losses.append(loss)\n",
    "        t.set_postfix(train_loss=loss.item())\n",
    "        \n",
    "\n",
    "        # est = time.time()\n",
    "        # print(f'Epoch {epoch+1}, Estimate:{(est-stt)/(epoch+1)*(num_epochs-epoch-1)}, Loss: {loss.item()}')\n",
    "    parameters_to_prune = (\n",
    "        (model.layer0, 'weight'),\n",
    "        (model.layer1, 'weight'),\n",
    "        (model.layer2, 'weight'),\n",
    "    )\n",
    "    prune.global_unstructured(\n",
    "        parameters_to_prune,\n",
    "        pruning_method=prune.L1Unstructured,\n",
    "        amount=0.2,\n",
    "    )\n",
    "# model.eval()\n",
    "# for layer, name in parameters_to_prune:\n",
    "#     prune.remove(layer, name)\n",
    "model.eval()\n",
    "model = torch.quantization.convert(model, inplace=True)\n",
    "y_pre = []\n",
    "\n",
    "with torch.no_grad():\n",
    "    correct = 0\n",
    "    total = 0\n",
    "    for inputs, labels in test_loader:\n",
    "        outputs = model(inputs)\n",
    "        predicted = (outputs.squeeze() > 0.5).float()\n",
    "        total += labels.size(0)\n",
    "        correct += (predicted == labels).sum().item()\n",
    "        y_pre.append(predicted)\n",
    "        \n",
    "accuracy = correct / total\n",
    "print(f'Accuracy: {accuracy}')"
   ]
  },
  {
   "cell_type": "code",
   "execution_count": null,
   "metadata": {},
   "outputs": [],
   "source": []
  },
  {
   "cell_type": "code",
   "execution_count": 72,
   "metadata": {},
   "outputs": [
    {
     "name": "stdout",
     "output_type": "stream",
     "text": [
      "剪枝未应用于layer_name\n"
     ]
    }
   ],
   "source": [
    "if hasattr(model.layer2, 'weight_mask'):\n",
    "    print(\"剪枝成功应用于layer_name\")\n",
    "else:\n",
    "    print(\"剪枝未应用于layer_name\")"
   ]
  }
 ],
 "metadata": {
  "kernelspec": {
   "display_name": "Python 3",
   "language": "python",
   "name": "python3"
  },
  "language_info": {
   "codemirror_mode": {
    "name": "ipython",
    "version": 3
   },
   "file_extension": ".py",
   "mimetype": "text/x-python",
   "name": "python",
   "nbconvert_exporter": "python",
   "pygments_lexer": "ipython3",
   "version": "3.11.5"
  }
 },
 "nbformat": 4,
 "nbformat_minor": 2
}
