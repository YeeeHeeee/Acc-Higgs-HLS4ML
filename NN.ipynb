{
 "cells": [
  {
   "cell_type": "code",
   "execution_count": null,
   "metadata": {},
   "outputs": [
    {
     "ename": "",
     "evalue": "",
     "output_type": "error",
     "traceback": [
      "\u001b[1;31mFailed to start the Kernel. \n",
      "\u001b[1;31mUnable to start Kernel 'env (Python 3.11.5)' due to a timeout waiting for the ports to get used. \n",
      "\u001b[1;31mView Jupyter <a href='command:jupyter.viewOutput'>log</a> for further details."
     ]
    }
   ],
   "source": [
    "import torch\n",
    "import torch.nn as nn\n",
    "import torch.optim as optim\n",
    "from torch.utils.data import DataLoader, TensorDataset\n",
    "from sklearn.model_selection import train_test_split\n",
    "import pandas as pd\n",
    "import matplotlib.pyplot as plt\n",
    "import numpy as np\n",
    "import time\n",
    "import torch.quantization\n",
    "from tqdm import tqdm \n",
    "from torch.nn.utils import prune\n",
    "# import hls4ml"
   ]
  },
  {
   "cell_type": "code",
   "execution_count": 2,
   "metadata": {},
   "outputs": [],
   "source": [
    "from matplotlib import font_manager\n",
    "from cycler import cycler\n",
    "from matplotlib.font_manager import FontProperties\n",
    "font_path = '/vols/cms/hw423/Acc/Fonts/ImperialSansText-Regular.ttf'\n",
    "font_manager.fontManager.addfont(font_path)  # 添加字体路径\n",
    "font_name = font_manager.FontProperties(fname=font_path).get_name()  # 获取字体名称\n",
    "plt.rcParams['font.family'] = font_name \n",
    "plt.rcParams['axes.prop_cycle'] = cycler(color=['#0000CD', '#7B68EE', '#000080', '#C71585', '#9467bd'])\n",
    "plt.rcParams['figure.facecolor'] ='#F5F5F5'\n",
    "plt.rcParams['axes.facecolor'] = '#F5F5F5'"
   ]
  },
  {
   "cell_type": "code",
   "execution_count": 3,
   "metadata": {},
   "outputs": [],
   "source": [
    "def AUC(model,test_loader):\n",
    "    model.eval()\n",
    "    y_pre = []\n",
    "    y_labe = []\n",
    "    with torch.no_grad():\n",
    "        correct = 0\n",
    "        total = 0\n",
    "        for inputs, labels in test_loader:\n",
    "            outputs = model(inputs)\n",
    "            y_pre=np.append(y_pre,outputs.numpy())\n",
    "            y_labe=np.append(y_labe,labels.numpy())\n",
    "    from sklearn.metrics import roc_auc_score\n",
    "    auc = roc_auc_score(y_labe, y_pre)\n",
    "    print(f'AUC = {auc}')"
   ]
  },
  {
   "cell_type": "markdown",
   "metadata": {},
   "source": [
    "# Un-modified Model\n",
    "\n",
    "- Memory Calculation:\n",
    "1. Layer 0:\n",
    "    - Weights: 140 * 32 parameters\n",
    "    - Biases: 32 parameters\n",
    "    - Memory: M0 = (140 * 32 + 32) * 4 = 18048 bytes = 18048/1024 KB = 17.625 KB\n",
    "2. Layer 1: \n",
    "    - Weights: 32 * 16 parameters\n",
    "    - Biases: 16 parameters\n",
    "    - Memory: M1 = (32 * 16 + 16) * 4 = 2112 bytes = 2.0625 KB\n",
    "3. Layer 2:\n",
    "    - Weights: 16 * 1 parameters\n",
    "    - Biases: 1 parameters\n",
    "    - Memory: M2 = (16 * 1 + 1) * 4 = 68 bytes \n",
    "Memory Calculation for Parameters:\n",
    "1. Weights: In each layer is the production of the input and output sizes. For biases, it is the output size of the layer.\n",
    "2. Total Memory: Sum up all weights and biases across all layers and multiply by 4 bytes (for 32-bit precision).\n",
    "\n",
    "M = 18048 + 2112 + 68 bytes = 19.754 KB\n"
   ]
  },
  {
   "cell_type": "code",
   "execution_count": 5,
   "metadata": {},
   "outputs": [],
   "source": [
    "batch = 512"
   ]
  },
  {
   "cell_type": "code",
   "execution_count": 6,
   "metadata": {},
   "outputs": [],
   "source": [
    "df = pd.read_parquet('df.parquet')\n",
    "X = pd.read_parquet('x.parquet').values  \n",
    "df['proc'] = df['proc'].apply(lambda x: 1 if x != 0 else 0)\n",
    "y = df['proc'].values  \n",
    "\n",
    "X_tensor = torch.tensor(X, dtype=torch.float32)\n",
    "y_tensor = torch.tensor(y, dtype=torch.float32)\n",
    "\n",
    "X_train, X_test, y_train, y_test = train_test_split(X_tensor, y_tensor, test_size=0.2, random_state=42)\n",
    "\n",
    "train_data = TensorDataset(X_train, y_train)\n",
    "test_data = TensorDataset(X_test, y_test)\n",
    "\n",
    "train_loader = DataLoader(train_data, batch_size=batch, shuffle=True)\n",
    "test_loader = DataLoader(test_data, batch_size=batch, shuffle=False)\n"
   ]
  },
  {
   "cell_type": "code",
   "execution_count": 7,
   "metadata": {},
   "outputs": [],
   "source": [
    "num_epochs = 20\n",
    "layers = [1024, 512, 128]\n",
    "lr = 0.001"
   ]
  },
  {
   "cell_type": "code",
   "execution_count": 8,
   "metadata": {},
   "outputs": [],
   "source": [
    "class BinaryClassificationModel(nn.Module):\n",
    "    def __init__(self):\n",
    "        super(BinaryClassificationModel, self).__init__()\n",
    "        self.layer0 = nn.Linear(X.shape[1], layers[0])\n",
    "        self.layer1 = nn.Linear(layers[0], layers[1])\n",
    "        self.layer2 = nn.Linear(layers[1], layers[2])\n",
    "        self.layer3 = nn.Linear(layers[2], 1)\n",
    "        self.sigmoid = nn.Sigmoid()\n",
    "    \n",
    "    def forward(self, x):\n",
    "        timings = {}\n",
    "\n",
    "        start_time = time.time()\n",
    "        x = torch.relu(self.layer0(x))\n",
    "        x = torch.relu(self.layer1(x))\n",
    "        x = torch.relu(self.layer2(x))\n",
    "        timings['fc_time'] = time.time() - start_time\n",
    "\n",
    "        x = self.sigmoid(self.layer3(x))\n",
    "        \n",
    "        return x, timings['fc_time']\n",
    "model = BinaryClassificationModel()"
   ]
  },
  {
   "cell_type": "code",
   "execution_count": 9,
   "metadata": {},
   "outputs": [],
   "source": [
    "def train_model(model, train_loader, lr=0.001, num_epochs=50):\n",
    "    model.train()\n",
    "    criterion = nn.BCELoss()  # Combines Sigmoid + BCELoss\n",
    "    optimizer = optim.Adam(model.parameters(), lr=lr, weight_decay=1e-5)\n",
    "    losses = []\n",
    "    timing = {'fc_time': 0}\n",
    "\n",
    "    for epoch in tqdm(range(num_epochs), desc=\"Epochs\"):\n",
    "        epoch_loss = 0\n",
    "        for inputs, labels in tqdm(train_loader, desc=\"Training\", leave=False):\n",
    "            optimizer.zero_grad()\n",
    "            \n",
    "            outputs, fc_time = model(inputs)\n",
    "            \n",
    "            # Accumulate the timing information\n",
    "            timing['fc_time'] += fc_time\n",
    "\n",
    "            # Compute loss\n",
    "            loss = criterion(outputs.squeeze(), labels.float())\n",
    "            loss.backward()\n",
    "            optimizer.step()\n",
    "            epoch_loss += loss.item()\n",
    "\n",
    "        losses.append(epoch_loss / len(train_loader))\n",
    "        # print(f\"Epoch {epoch+1}, Loss: {epoch_loss / len(train_loader)}\")\n",
    "    \n",
    "    return losses, timing, model"
   ]
  },
  {
   "cell_type": "code",
   "execution_count": 25,
   "metadata": {},
   "outputs": [
    {
     "name": "stderr",
     "output_type": "stream",
     "text": [
      "Epochs: 100%|██████████| 20/20 [25:50<00:00, 77.51s/it] \n"
     ]
    }
   ],
   "source": [
    "# Train the model\n",
    "losses, timing, model = train_model(model, train_loader, lr=0.001, num_epochs=20)"
   ]
  },
  {
   "cell_type": "code",
   "execution_count": 26,
   "metadata": {},
   "outputs": [
    {
     "data": {
      "text/plain": [
       "{'fc_time': 502.9939477443695}"
      ]
     },
     "execution_count": 26,
     "metadata": {},
     "output_type": "execute_result"
    }
   ],
   "source": [
    "timing"
   ]
  },
  {
   "cell_type": "code",
   "execution_count": 27,
   "metadata": {},
   "outputs": [],
   "source": [
    "# save the model\n",
    "torch.save(model.state_dict(), 'model.pth')"
   ]
  },
  {
   "cell_type": "code",
   "execution_count": 72,
   "metadata": {},
   "outputs": [
    {
     "data": {
      "text/plain": [
       "<All keys matched successfully>"
      ]
     },
     "execution_count": 72,
     "metadata": {},
     "output_type": "execute_result"
    }
   ],
   "source": [
    "# Assuming `BinaryClassificationModel` is defined and accessible\n",
    "model = BinaryClassificationModel()\n",
    "\n",
    "# Load the model state dictionary\n",
    "model.load_state_dict(torch.load('model.pth'))"
   ]
  },
  {
   "cell_type": "code",
   "execution_count": 74,
   "metadata": {},
   "outputs": [
    {
     "name": "stdout",
     "output_type": "stream",
     "text": [
      "<All keys matched successfully>\n"
     ]
    }
   ],
   "source": []
  },
  {
   "cell_type": "code",
   "execution_count": 29,
   "metadata": {},
   "outputs": [
    {
     "name": "stdout",
     "output_type": "stream",
     "text": [
      "Accuracy: 0.91575\n",
      "Predict time: 6.018877029418945\n"
     ]
    }
   ],
   "source": [
    "model.eval()\n",
    "y_pre = []\n",
    "T = []\n",
    "for _ in range(200):\n",
    "    times = 0\n",
    "    with torch.no_grad():\n",
    "        correct = 0\n",
    "        total = 0\n",
    "        for inputs, labels in test_loader:\n",
    "            stt= time.time()\n",
    "            outputs, _ = model(inputs)\n",
    "            ent = time.time()\n",
    "            times+=ent-stt\n",
    "            predicted = (outputs.squeeze() > 0.5).float()\n",
    "            total += labels.size(0)\n",
    "            correct += (predicted == labels).sum().item()\n",
    "            y_pre.append(predicted)\n",
    "        T.append(times)\n",
    "T= np.array(T)\n",
    "accuracy0 = correct / total\n",
    "\n",
    "print(f'Accuracy: {accuracy0}')\n",
    "print(f'Predict time: {times}')"
   ]
  },
  {
   "cell_type": "code",
   "execution_count": 31,
   "metadata": {},
   "outputs": [
    {
     "data": {
      "image/png": "[encoded data removed]",
      "text/plain": [
       "<Figure size 640x480 with 1 Axes>"
      ]
     },
     "metadata": {},
     "output_type": "display_data"
    }
   ],
   "source": [
    "plt.hist([],bins=100,density =False)\n",
    "plt.hist(T,bins=20,density = False, label = 'Unquantised')\n",
    "# plt.xlim(0,0.2)\n",
    "# plt.xscale('log')\n",
    "plt.title('Inference time')\n",
    "plt.legend()\n",
    "plt.ylabel('Frequency')\n",
    "plt.xlabel('time')\n",
    "plt.savefig('vt_u.pdf')"
   ]
  },
  {
   "cell_type": "code",
   "execution_count": 21,
   "metadata": {},
   "outputs": [
    {
     "name": "stdout",
     "output_type": "stream",
     "text": [
      "AUC = 0.9651988481557991\n"
     ]
    }
   ],
   "source": [
    "y_pre = []\n",
    "y_labe = []\n",
    "with torch.no_grad():\n",
    "    correct = 0\n",
    "    total = 0\n",
    "    for inputs, labels in test_loader:\n",
    "        outputs, _ = model(inputs)\n",
    "        y_pre=np.append(y_pre,outputs.numpy())\n",
    "        y_labe=np.append(y_labe,labels.numpy())\n",
    "from sklearn.metrics import roc_auc_score\n",
    "auc = roc_auc_score(y_labe, y_pre)\n",
    "print(f'AUC = {auc}')"
   ]
  },
  {
   "cell_type": "code",
   "execution_count": 25,
   "metadata": {},
   "outputs": [
    {
     "data": {
      "image/png": "[encoded data removed]",
      "text/plain": [
       "<Figure size 640x480 with 1 Axes>"
      ]
     },
     "metadata": {},
     "output_type": "display_data"
    }
   ],
   "source": [
    "import matplotlib.pyplot as plt\n",
    "lss = []\n",
    "for i in range(len(losses)):\n",
    "    lss.append(losses[i])\n",
    "plt.plot(lss)\n",
    "plt.title('BCE Loss')\n",
    "plt.savefig('Loss.pdf')"
   ]
  },
  {
   "cell_type": "markdown",
   "metadata": {},
   "source": [
    "## PTQ"
   ]
  },
  {
   "cell_type": "code",
   "execution_count": 9,
   "metadata": {},
   "outputs": [],
   "source": [
    "model_ptq = BinaryClassificationModel()"
   ]
  },
  {
   "cell_type": "code",
   "execution_count": 12,
   "metadata": {},
   "outputs": [
    {
     "name": "stderr",
     "output_type": "stream",
     "text": [
      "Epochs: 100%|██████████| 20/20 [17:28<00:00, 52.43s/it]\n"
     ]
    }
   ],
   "source": [
    "# Train the model\n",
    "losses, timing, model_p = train_model(model_ptq, train_loader, lr=0.001, num_epochs=20)"
   ]
  },
  {
   "cell_type": "code",
   "execution_count": 13,
   "metadata": {},
   "outputs": [],
   "source": [
    "# save the model\n",
    "torch.save(model_p.state_dict(), 'model_p.pth')"
   ]
  },
  {
   "cell_type": "code",
   "execution_count": 10,
   "metadata": {},
   "outputs": [
    {
     "data": {
      "text/plain": [
       "<All keys matched successfully>"
      ]
     },
     "execution_count": 10,
     "metadata": {},
     "output_type": "execute_result"
    }
   ],
   "source": [
    "model_p = BinaryClassificationModel()\n",
    "\n",
    "# Load the model state dictionary\n",
    "model_p.load_state_dict(torch.load('model_p.pth'))"
   ]
  },
  {
   "cell_type": "code",
   "execution_count": 11,
   "metadata": {},
   "outputs": [
    {
     "data": {
      "text/plain": [
       "BinaryClassificationModel(\n",
       "  (layer0): Linear(in_features=140, out_features=1024, bias=True)\n",
       "  (layer1): Linear(in_features=1024, out_features=512, bias=True)\n",
       "  (layer2): Linear(in_features=512, out_features=128, bias=True)\n",
       "  (layer3): Linear(in_features=128, out_features=1, bias=True)\n",
       "  (sigmoid): Sigmoid()\n",
       ")"
      ]
     },
     "execution_count": 11,
     "metadata": {},
     "output_type": "execute_result"
    }
   ],
   "source": [
    "model_p"
   ]
  },
  {
   "cell_type": "code",
   "execution_count": 16,
   "metadata": {},
   "outputs": [],
   "source": [
    "model_p.eval()\n",
    "quantized_model = torch.quantization.quantize_dynamic(\n",
    "    model_p,  \n",
    "    {nn.Linear},  \n",
    "    dtype=torch.qint8\n",
    ")\n",
    "quantized_model.eval()\n",
    "QT = []"
   ]
  },
  {
   "cell_type": "code",
   "execution_count": 19,
   "metadata": {},
   "outputs": [
    {
     "name": "stdout",
     "output_type": "stream",
     "text": [
      "Accuracy = 0.9083333333333333\n",
      "Predict time: 0.030799388885498047\n"
     ]
    }
   ],
   "source": [
    "\n",
    "for _ in range(200):\n",
    "    correct = 0\n",
    "    total = 0\n",
    "    Qtimes = 0\n",
    "    with torch.no_grad():\n",
    "        for inputs, labels in test_loader:\n",
    "            stt = time.time()\n",
    "            outputs, _  = quantized_model(inputs)\n",
    "            ent = time.time()\n",
    "            Qtimes+=ent-stt\n",
    "            predicted = (outputs.squeeze() > 0.5).float()\n",
    "            total += labels.size(0)\n",
    "            correct += (predicted == labels).sum().item()\n",
    "    QT.append(Qtimes)\n",
    "QT=np.array(QT)\n",
    "accuracy2 = correct / total\n",
    "print(f'Accuracy = {accuracy2}')\n",
    "print(f'Predict time: {Qtimes}')"
   ]
  },
  {
   "cell_type": "code",
   "execution_count": 20,
   "metadata": {},
   "outputs": [
    {
     "data": {
      "image/png": "[encoded data removed]",
      "text/plain": [
       "<Figure size 640x480 with 1 Axes>"
      ]
     },
     "metadata": {},
     "output_type": "display_data"
    }
   ],
   "source": [
    "a,b,_= plt.hist(QT[QT<0.05],bins=50,density =False,label = 'Quantised')\n",
    "# plt.hist(T,bins=b,density = False, label = 'Unquantised')\n",
    "# plt.xlim(0.006,0.05)\n",
    "# plt.xscale('log')\n",
    "plt.title('Inference time')\n",
    "plt.xlabel('time')\n",
    "plt.ylabel('Frequency')\n",
    "plt.legend()\n",
    "plt.savefig('vt.pdf')"
   ]
  },
  {
   "cell_type": "code",
   "execution_count": 12,
   "metadata": {},
   "outputs": [],
   "source": [
    "def AUC(model,test_loader):\n",
    "    model.eval()\n",
    "    y_pre = []\n",
    "    y_labe = []\n",
    "    with torch.no_grad():\n",
    "        correct = 0\n",
    "        total = 0\n",
    "        for inputs, labels in test_loader:\n",
    "            outputs, _ = model(inputs)\n",
    "            y_pre=np.append(y_pre,outputs.numpy())\n",
    "            y_labe=np.append(y_labe,labels.numpy())\n",
    "    from sklearn.metrics import roc_auc_score\n",
    "    auc = roc_auc_score(y_labe, y_pre)\n",
    "    print(f'AUC = {auc}')"
   ]
  },
  {
   "cell_type": "code",
   "execution_count": 13,
   "metadata": {},
   "outputs": [
    {
     "name": "stdout",
     "output_type": "stream",
     "text": [
      "AUC = 0.9660662181765065\n"
     ]
    }
   ],
   "source": [
    "AUC(model_p,test_loader)"
   ]
  },
  {
   "cell_type": "code",
   "execution_count": 17,
   "metadata": {},
   "outputs": [
    {
     "data": {
      "text/plain": [
       "BinaryClassificationModel(\n",
       "  (layer0): DynamicQuantizedLinear(in_features=140, out_features=1024, dtype=torch.qint8, qscheme=torch.per_tensor_affine)\n",
       "  (layer1): DynamicQuantizedLinear(in_features=1024, out_features=512, dtype=torch.qint8, qscheme=torch.per_tensor_affine)\n",
       "  (layer2): DynamicQuantizedLinear(in_features=512, out_features=128, dtype=torch.qint8, qscheme=torch.per_tensor_affine)\n",
       "  (layer3): DynamicQuantizedLinear(in_features=128, out_features=1, dtype=torch.qint8, qscheme=torch.per_tensor_affine)\n",
       "  (sigmoid): Sigmoid()\n",
       ")"
      ]
     },
     "execution_count": 17,
     "metadata": {},
     "output_type": "execute_result"
    }
   ],
   "source": [
    "quantized_model"
   ]
  },
  {
   "cell_type": "code",
   "execution_count": 71,
   "metadata": {},
   "outputs": [
    {
     "data": {
      "text/plain": [
       "45.50390625"
      ]
     },
     "execution_count": 71,
     "metadata": {},
     "output_type": "execute_result"
    }
   ],
   "source": [
    "# Define the number of features for each Linear layer\n",
    "in_features = [140, 64, 32, 16]\n",
    "out_features = [64, 32, 16, 1]\n",
    "\n",
    "# Calculate the total memory for weights (in bytes)\n",
    "# Since these are not quantized, we assume float32, which is 4 bytes per weight\n",
    "total_weights_memory = sum(in_f * out_f * 4 for in_f, out_f in zip(in_features, out_features))\n",
    "\n",
    "# Calculate the total memory for biases (in bytes)\n",
    "# Each bias also uses 4 bytes (for float32)\n",
    "total_biases_memory = sum(out_f * 4 for out_f in out_features)\n",
    "\n",
    "# Total memory used by the model (in bytes)\n",
    "total_model_memory_bytes = total_weights_memory + total_biases_memory\n",
    "\n",
    "total_model_memory_bytes / 1024"
   ]
  },
  {
   "cell_type": "code",
   "execution_count": null,
   "metadata": {},
   "outputs": [],
   "source": []
  },
  {
   "cell_type": "code",
   "execution_count": null,
   "metadata": {},
   "outputs": [],
   "source": []
  },
  {
   "cell_type": "markdown",
   "metadata": {},
   "source": [
    "## QAT"
   ]
  },
  {
   "cell_type": "code",
   "execution_count": 44,
   "metadata": {},
   "outputs": [],
   "source": [
    "num_epochs = 20\n",
    "layers = [64, 32, 16]"
   ]
  },
  {
   "cell_type": "code",
   "execution_count": 53,
   "metadata": {},
   "outputs": [
    {
     "name": "stderr",
     "output_type": "stream",
     "text": [
      "/vols/cms/yhe4823/Acc/env/envs/env/lib/python3.11/site-packages/torch/ao/quantization/observer.py:214: UserWarning: Please use quant_min and quant_max to specify the range for observers.                     reduce_range will be deprecated in a future release of PyTorch.\n",
      "  warnings.warn(\n"
     ]
    },
    {
     "data": {
      "text/plain": [
       "BinaryClassificationModelQ(\n",
       "  (quant): QuantStub(\n",
       "    (activation_post_process): FusedMovingAvgObsFakeQuantize(\n",
       "      fake_quant_enabled=tensor([1]), observer_enabled=tensor([1]), scale=tensor([1.]), zero_point=tensor([0], dtype=torch.int32), dtype=torch.quint8, quant_min=0, quant_max=127, qscheme=torch.per_tensor_affine, reduce_range=True\n",
       "      (activation_post_process): MovingAverageMinMaxObserver(min_val=inf, max_val=-inf)\n",
       "    )\n",
       "  )\n",
       "  (layer0): Linear(\n",
       "    in_features=140, out_features=64, bias=True\n",
       "    (weight_fake_quant): FusedMovingAvgObsFakeQuantize(\n",
       "      fake_quant_enabled=tensor([1]), observer_enabled=tensor([1]), scale=tensor([1.]), zero_point=tensor([0], dtype=torch.int32), dtype=torch.qint8, quant_min=-128, quant_max=127, qscheme=torch.per_channel_symmetric, reduce_range=False\n",
       "      (activation_post_process): MovingAveragePerChannelMinMaxObserver(min_val=tensor([]), max_val=tensor([]))\n",
       "    )\n",
       "    (activation_post_process): FusedMovingAvgObsFakeQuantize(\n",
       "      fake_quant_enabled=tensor([1]), observer_enabled=tensor([1]), scale=tensor([1.]), zero_point=tensor([0], dtype=torch.int32), dtype=torch.quint8, quant_min=0, quant_max=127, qscheme=torch.per_tensor_affine, reduce_range=True\n",
       "      (activation_post_process): MovingAverageMinMaxObserver(min_val=inf, max_val=-inf)\n",
       "    )\n",
       "  )\n",
       "  (layer1): Linear(\n",
       "    in_features=64, out_features=32, bias=True\n",
       "    (weight_fake_quant): FusedMovingAvgObsFakeQuantize(\n",
       "      fake_quant_enabled=tensor([1]), observer_enabled=tensor([1]), scale=tensor([1.]), zero_point=tensor([0], dtype=torch.int32), dtype=torch.qint8, quant_min=-128, quant_max=127, qscheme=torch.per_channel_symmetric, reduce_range=False\n",
       "      (activation_post_process): MovingAveragePerChannelMinMaxObserver(min_val=tensor([]), max_val=tensor([]))\n",
       "    )\n",
       "    (activation_post_process): FusedMovingAvgObsFakeQuantize(\n",
       "      fake_quant_enabled=tensor([1]), observer_enabled=tensor([1]), scale=tensor([1.]), zero_point=tensor([0], dtype=torch.int32), dtype=torch.quint8, quant_min=0, quant_max=127, qscheme=torch.per_tensor_affine, reduce_range=True\n",
       "      (activation_post_process): MovingAverageMinMaxObserver(min_val=inf, max_val=-inf)\n",
       "    )\n",
       "  )\n",
       "  (layer2): Linear(\n",
       "    in_features=32, out_features=16, bias=True\n",
       "    (weight_fake_quant): FusedMovingAvgObsFakeQuantize(\n",
       "      fake_quant_enabled=tensor([1]), observer_enabled=tensor([1]), scale=tensor([1.]), zero_point=tensor([0], dtype=torch.int32), dtype=torch.qint8, quant_min=-128, quant_max=127, qscheme=torch.per_channel_symmetric, reduce_range=False\n",
       "      (activation_post_process): MovingAveragePerChannelMinMaxObserver(min_val=tensor([]), max_val=tensor([]))\n",
       "    )\n",
       "    (activation_post_process): FusedMovingAvgObsFakeQuantize(\n",
       "      fake_quant_enabled=tensor([1]), observer_enabled=tensor([1]), scale=tensor([1.]), zero_point=tensor([0], dtype=torch.int32), dtype=torch.quint8, quant_min=0, quant_max=127, qscheme=torch.per_tensor_affine, reduce_range=True\n",
       "      (activation_post_process): MovingAverageMinMaxObserver(min_val=inf, max_val=-inf)\n",
       "    )\n",
       "  )\n",
       "  (layer3): Linear(\n",
       "    in_features=16, out_features=1, bias=True\n",
       "    (weight_fake_quant): FusedMovingAvgObsFakeQuantize(\n",
       "      fake_quant_enabled=tensor([1]), observer_enabled=tensor([1]), scale=tensor([1.]), zero_point=tensor([0], dtype=torch.int32), dtype=torch.qint8, quant_min=-128, quant_max=127, qscheme=torch.per_channel_symmetric, reduce_range=False\n",
       "      (activation_post_process): MovingAveragePerChannelMinMaxObserver(min_val=tensor([]), max_val=tensor([]))\n",
       "    )\n",
       "    (activation_post_process): FusedMovingAvgObsFakeQuantize(\n",
       "      fake_quant_enabled=tensor([1]), observer_enabled=tensor([1]), scale=tensor([1.]), zero_point=tensor([0], dtype=torch.int32), dtype=torch.quint8, quant_min=0, quant_max=127, qscheme=torch.per_tensor_affine, reduce_range=True\n",
       "      (activation_post_process): MovingAverageMinMaxObserver(min_val=inf, max_val=-inf)\n",
       "    )\n",
       "  )\n",
       "  (sigmoid): Sigmoid(\n",
       "    (activation_post_process): FixedQParamsFakeQuantize(\n",
       "      fake_quant_enabled=tensor([1], dtype=torch.uint8), observer_enabled=tensor([1], dtype=torch.uint8), scale=tensor([0.0039]), zero_point=tensor([0], dtype=torch.int32), dtype=torch.quint8, quant_min=0, quant_max=255, qscheme=torch.per_tensor_affine\n",
       "      (activation_post_process): FixedQParamsObserver()\n",
       "    )\n",
       "  )\n",
       "  (dequant): DeQuantStub()\n",
       ")"
      ]
     },
     "execution_count": 53,
     "metadata": {},
     "output_type": "execute_result"
    }
   ],
   "source": [
    "class BinaryClassificationModelQ(nn.Module):\n",
    "    def __init__(self):\n",
    "        super(BinaryClassificationModelQ, self).__init__()\n",
    "        self.quant = torch.quantization.QuantStub()\n",
    "        self.layer0 = nn.Linear(X.shape[1], layers[0])\n",
    "        self.layer1 = nn.Linear(layers[0], layers[1])\n",
    "        self.layer2 = nn.Linear(layers[1], layers[2])\n",
    "        self.layer3 = nn.Linear(layers[2], 1)\n",
    "        self.sigmoid = nn.Sigmoid()\n",
    "        self.dequant = torch.quantization.DeQuantStub()\n",
    "    \n",
    "    def forward(self, x):\n",
    "        timings = {}\n",
    "        \n",
    "        start_time = time.time()\n",
    "        x = self.quant(x)\n",
    "        timings['quant_time'] = time.time() - start_time\n",
    "\n",
    "        start_time = time.time()\n",
    "        x = torch.relu(self.layer0(x))\n",
    "        x = torch.relu(self.layer1(x))\n",
    "        x = torch.relu(self.layer2(x))\n",
    "        timings['fc_time'] = time.time() - start_time\n",
    "\n",
    "        start_time = time.time()\n",
    "        x = self.sigmoid(self.layer3(x))\n",
    "        x = self.dequant(x)\n",
    "        timings['dequant_time'] = time.time() - start_time\n",
    "\n",
    "        return x, timings['quant_time'], timings['fc_time'], timings['dequant_time']\n",
    "\n",
    "modelQ = BinaryClassificationModelQ()\n",
    "modelQ.qconfig = torch.quantization.get_default_qat_qconfig('fbgemm')\n",
    "torch.quantization.prepare_qat(modelQ, inplace=True)\n"
   ]
  },
  {
   "cell_type": "code",
   "execution_count": 60,
   "metadata": {},
   "outputs": [],
   "source": [
    "def train_model(model, train_loader, lr=0.001, num_epochs=50):\n",
    "    model.train()\n",
    "    criterion = nn.BCELoss()  # Combines Sigmoid + BCELoss\n",
    "    optimizer = optim.Adam(model.parameters(), lr=lr, weight_decay=1e-5)\n",
    "    losses = []\n",
    "    timing = {'quant_time': 0, 'fc_time': 0, 'dequant_time': 0}\n",
    "\n",
    "    for epoch in tqdm(range(num_epochs), desc=\"Epochs\"):\n",
    "        epoch_loss = 0\n",
    "        for inputs, labels in tqdm(train_loader, desc=\"Training\", leave=False):\n",
    "            optimizer.zero_grad()\n",
    "            \n",
    "            outputs, quant_time, fc_time,dequant_time = model(inputs)\n",
    "            \n",
    "            # Accumulate the timing information\n",
    "            timing['quant_time'] += quant_time\n",
    "            timing['fc_time'] += fc_time\n",
    "            timing['dequant_time'] += dequant_time\n",
    "\n",
    "            # Compute loss\n",
    "            loss = criterion(outputs.squeeze(), labels.float())\n",
    "            loss.backward()\n",
    "            optimizer.step()\n",
    "            epoch_loss += loss.item()\n",
    "\n",
    "        losses.append(epoch_loss / len(train_loader))\n",
    "        print(f\"Epoch {epoch+1}, Loss: {epoch_loss / len(train_loader)}\")\n",
    "    \n",
    "    return losses, timing, model"
   ]
  },
  {
   "cell_type": "code",
   "execution_count": 50,
   "metadata": {},
   "outputs": [
    {
     "name": "stderr",
     "output_type": "stream",
     "text": [
      "Epochs:   5%|▌         | 1/20 [00:30<09:41, 30.60s/it]"
     ]
    },
    {
     "name": "stdout",
     "output_type": "stream",
     "text": [
      "Epoch 1, Loss: 0.6770993889646327\n"
     ]
    },
    {
     "name": "stderr",
     "output_type": "stream",
     "text": [
      "Epochs:  10%|█         | 2/20 [00:58<08:45, 29.19s/it]"
     ]
    },
    {
     "name": "stdout",
     "output_type": "stream",
     "text": [
      "Epoch 2, Loss: 0.6300197364167964\n"
     ]
    },
    {
     "name": "stderr",
     "output_type": "stream",
     "text": [
      "Epochs:  15%|█▌        | 3/20 [01:27<08:13, 29.03s/it]"
     ]
    },
    {
     "name": "stdout",
     "output_type": "stream",
     "text": [
      "Epoch 3, Loss: 0.5529150414340039\n"
     ]
    },
    {
     "name": "stderr",
     "output_type": "stream",
     "text": [
      "Epochs:  20%|██        | 4/20 [01:57<07:47, 29.23s/it]"
     ]
    },
    {
     "name": "stdout",
     "output_type": "stream",
     "text": [
      "Epoch 4, Loss: 0.5231283563882747\n"
     ]
    },
    {
     "name": "stderr",
     "output_type": "stream",
     "text": [
      "Epochs:  25%|██▌       | 5/20 [02:17<06:28, 25.88s/it]"
     ]
    },
    {
     "name": "stdout",
     "output_type": "stream",
     "text": [
      "Epoch 5, Loss: 0.5116599833077573\n"
     ]
    },
    {
     "name": "stderr",
     "output_type": "stream",
     "text": [
      "Epochs:  30%|███       | 6/20 [02:34<05:22, 23.05s/it]"
     ]
    },
    {
     "name": "stdout",
     "output_type": "stream",
     "text": [
      "Epoch 6, Loss: 0.511191650590998\n"
     ]
    },
    {
     "name": "stderr",
     "output_type": "stream",
     "text": [
      "Epochs:  35%|███▌      | 7/20 [02:54<04:45, 21.93s/it]"
     ]
    },
    {
     "name": "stdout",
     "output_type": "stream",
     "text": [
      "Epoch 7, Loss: 0.5050710065567747\n"
     ]
    },
    {
     "name": "stderr",
     "output_type": "stream",
     "text": [
      "Epochs:  40%|████      | 8/20 [03:10<04:02, 20.18s/it]"
     ]
    },
    {
     "name": "stdout",
     "output_type": "stream",
     "text": [
      "Epoch 8, Loss: 0.5006748726393314\n"
     ]
    },
    {
     "name": "stderr",
     "output_type": "stream",
     "text": [
      "Epochs:  45%|████▌     | 9/20 [03:29<03:36, 19.66s/it]"
     ]
    },
    {
     "name": "stdout",
     "output_type": "stream",
     "text": [
      "Epoch 9, Loss: 0.4960322785884776\n"
     ]
    },
    {
     "name": "stderr",
     "output_type": "stream",
     "text": [
      "Epochs:  50%|█████     | 10/20 [03:47<03:12, 19.23s/it]"
     ]
    },
    {
     "name": "stdout",
     "output_type": "stream",
     "text": [
      "Epoch 10, Loss: 0.4920148599020978\n"
     ]
    },
    {
     "name": "stderr",
     "output_type": "stream",
     "text": [
      "Epochs:  55%|█████▌    | 11/20 [04:05<02:48, 18.75s/it]"
     ]
    },
    {
     "name": "stdout",
     "output_type": "stream",
     "text": [
      "Epoch 11, Loss: 0.48331573161673036\n"
     ]
    },
    {
     "name": "stderr",
     "output_type": "stream",
     "text": [
      "Epochs:  60%|██████    | 12/20 [04:24<02:32, 19.06s/it]"
     ]
    },
    {
     "name": "stdout",
     "output_type": "stream",
     "text": [
      "Epoch 12, Loss: 0.460729274343937\n"
     ]
    },
    {
     "name": "stderr",
     "output_type": "stream",
     "text": [
      "Epochs:  65%|██████▌   | 13/20 [04:42<02:10, 18.64s/it]"
     ]
    },
    {
     "name": "stdout",
     "output_type": "stream",
     "text": [
      "Epoch 13, Loss: 0.42578001035020707\n"
     ]
    },
    {
     "name": "stderr",
     "output_type": "stream",
     "text": [
      "Epochs:  70%|███████   | 14/20 [04:59<01:48, 18.16s/it]"
     ]
    },
    {
     "name": "stdout",
     "output_type": "stream",
     "text": [
      "Epoch 14, Loss: 0.364459198840121\n"
     ]
    },
    {
     "name": "stderr",
     "output_type": "stream",
     "text": [
      "Epochs:  75%|███████▌  | 15/20 [05:17<01:30, 18.01s/it]"
     ]
    },
    {
     "name": "stdout",
     "output_type": "stream",
     "text": [
      "Epoch 15, Loss: 0.3236592754404596\n"
     ]
    },
    {
     "name": "stderr",
     "output_type": "stream",
     "text": [
      "Epochs:  80%|████████  | 16/20 [05:34<01:11, 17.80s/it]"
     ]
    },
    {
     "name": "stdout",
     "output_type": "stream",
     "text": [
      "Epoch 16, Loss: 0.3008267732059702\n"
     ]
    },
    {
     "name": "stderr",
     "output_type": "stream",
     "text": [
      "Epochs:  85%|████████▌ | 17/20 [05:52<00:53, 17.82s/it]"
     ]
    },
    {
     "name": "stdout",
     "output_type": "stream",
     "text": [
      "Epoch 17, Loss: 0.27787219796408996\n"
     ]
    },
    {
     "name": "stderr",
     "output_type": "stream",
     "text": [
      "Epochs:  90%|█████████ | 18/20 [06:11<00:36, 18.12s/it]"
     ]
    },
    {
     "name": "stdout",
     "output_type": "stream",
     "text": [
      "Epoch 18, Loss: 1.5259761778598135\n"
     ]
    },
    {
     "name": "stderr",
     "output_type": "stream",
     "text": [
      "Epochs:  95%|█████████▌| 19/20 [06:28<00:17, 17.82s/it]"
     ]
    },
    {
     "name": "stdout",
     "output_type": "stream",
     "text": [
      "Epoch 19, Loss: 2.071602241790041\n"
     ]
    },
    {
     "name": "stderr",
     "output_type": "stream",
     "text": [
      "Epochs: 100%|██████████| 20/20 [06:45<00:00, 20.28s/it]\n"
     ]
    },
    {
     "name": "stdout",
     "output_type": "stream",
     "text": [
      "Epoch 20, Loss: 2.071371963683595\n"
     ]
    }
   ],
   "source": [
    "# Train the model\n",
    "losses, timing, model_qat = train_model(modelQ, train_loader, lr=0.001, num_epochs=20)"
   ]
  },
  {
   "cell_type": "code",
   "execution_count": 51,
   "metadata": {},
   "outputs": [
    {
     "name": "stdout",
     "output_type": "stream",
     "text": [
      "{'quant_time': 55.34764337539673, 'fc_time': 153.7611107826233, 'dequant_time': 1.524585485458374}\n"
     ]
    }
   ],
   "source": [
    "print(timing)"
   ]
  },
  {
   "cell_type": "code",
   "execution_count": 52,
   "metadata": {},
   "outputs": [],
   "source": [
    "from tqdm import tqdm\n",
    "import torch.nn as nn\n",
    "import torch.optim as optim\n",
    "\n",
    "def train_model(model, train_loader, val_loader, lr=0.001, num_epochs=50, patience=5):\n",
    "    model.train()\n",
    "    criterion = nn.BCELoss()  # Combines Sigmoid + BCELoss\n",
    "    optimizer = optim.Adam(model.parameters(), lr=lr, weight_decay=1e-5)\n",
    "    losses = []\n",
    "    val_losses = []  # To track validation loss for early stopping\n",
    "    timing = {'quant_time': 0, 'fc_time': 0, 'dequant_time': 0}\n",
    "    best_val_loss = float('inf')\n",
    "    epochs_no_improve = 0  # Track epochs with no improvement\n",
    "\n",
    "    for epoch in tqdm(range(num_epochs), desc=\"Epochs\"):\n",
    "        epoch_loss = 0\n",
    "        model.train()  # Ensure model is in training mode\n",
    "        for inputs, labels in tqdm(train_loader, desc=\"Training\", leave=False):\n",
    "            optimizer.zero_grad()\n",
    "            \n",
    "            outputs, quant_time, fc_time,dequant_time = model(inputs)\n",
    "            \n",
    "            # Accumulate the timing information\n",
    "            timing['quant_time'] += quant_time\n",
    "            timing['fc_time'] += fc_time\n",
    "            timing['dequant_time'] += dequant_time\n",
    "\n",
    "            # Compute loss\n",
    "            loss = criterion(outputs.squeeze(), labels.float())\n",
    "            loss.backward()\n",
    "            optimizer.step()\n",
    "            epoch_loss += loss.item()\n",
    "\n",
    "        losses.append(epoch_loss / len(train_loader))\n",
    "        print(f\"Epoch {epoch+1}, Loss: {epoch_loss / len(train_loader)}\")\n",
    "\n",
    "        # Validation phase\n",
    "        model.eval()  # Switch to evaluation mode for validation\n",
    "        val_loss = 0\n",
    "        with torch.no_grad():\n",
    "            for inputs, labels in val_loader:\n",
    "                outputs, _, _, _ = model(inputs)\n",
    "                loss = criterion(outputs.squeeze(), labels.float())\n",
    "                val_loss += loss.item()\n",
    "\n",
    "        avg_val_loss = val_loss / len(val_loader)\n",
    "        val_losses.append(avg_val_loss)\n",
    "        print(f\"Validation Loss: {avg_val_loss}\")\n",
    "\n",
    "        # Check for early stopping\n",
    "        if avg_val_loss < best_val_loss:\n",
    "            best_val_loss = avg_val_loss\n",
    "            epochs_no_improve = 0\n",
    "            # Save the best model\n",
    "            best_model = model\n",
    "        else:\n",
    "            epochs_no_improve += 1\n",
    "            if epochs_no_improve == patience:\n",
    "                print(f\"Early stopping triggered after {epoch + 1} epochs.\")\n",
    "                break  # Stop training\n",
    "\n",
    "    return losses, val_losses, timing, best_model\n"
   ]
  },
  {
   "cell_type": "code",
   "execution_count": 55,
   "metadata": {},
   "outputs": [
    {
     "name": "stderr",
     "output_type": "stream",
     "text": [
      "Epochs:   0%|          | 0/20 [00:00<?, ?it/s]"
     ]
    },
    {
     "name": "stderr",
     "output_type": "stream",
     "text": []
    },
    {
     "name": "stdout",
     "output_type": "stream",
     "text": [
      "Epoch 1, Loss: 0.6632636056301442\n"
     ]
    },
    {
     "name": "stderr",
     "output_type": "stream",
     "text": [
      "Epochs:   5%|▌         | 1/20 [00:20<06:24, 20.22s/it]"
     ]
    },
    {
     "name": "stdout",
     "output_type": "stream",
     "text": [
      "Validation Loss: 0.6749265938997269\n"
     ]
    },
    {
     "name": "stderr",
     "output_type": "stream",
     "text": []
    },
    {
     "name": "stdout",
     "output_type": "stream",
     "text": [
      "Epoch 2, Loss: 0.7317377417645556\n"
     ]
    },
    {
     "name": "stderr",
     "output_type": "stream",
     "text": [
      "Epochs:  10%|█         | 2/20 [00:40<06:03, 20.19s/it]"
     ]
    },
    {
     "name": "stdout",
     "output_type": "stream",
     "text": [
      "Validation Loss: 0.8558924421668053\n"
     ]
    },
    {
     "name": "stderr",
     "output_type": "stream",
     "text": []
    },
    {
     "name": "stdout",
     "output_type": "stream",
     "text": [
      "Epoch 3, Loss: 1.1041346059200612\n"
     ]
    },
    {
     "name": "stderr",
     "output_type": "stream",
     "text": [
      "Epochs:  15%|█▌        | 3/20 [01:03<06:05, 21.52s/it]"
     ]
    },
    {
     "name": "stdout",
     "output_type": "stream",
     "text": [
      "Validation Loss: 1.4638294130563736\n"
     ]
    },
    {
     "name": "stderr",
     "output_type": "stream",
     "text": []
    },
    {
     "name": "stdout",
     "output_type": "stream",
     "text": [
      "Epoch 4, Loss: 1.8746333566117794\n"
     ]
    },
    {
     "name": "stderr",
     "output_type": "stream",
     "text": [
      "Epochs:  20%|██        | 4/20 [01:24<05:41, 21.37s/it]"
     ]
    },
    {
     "name": "stdout",
     "output_type": "stream",
     "text": [
      "Validation Loss: 2.087880219022433\n"
     ]
    },
    {
     "name": "stderr",
     "output_type": "stream",
     "text": []
    },
    {
     "name": "stdout",
     "output_type": "stream",
     "text": [
      "Epoch 5, Loss: 2.07213978691304\n"
     ]
    },
    {
     "name": "stderr",
     "output_type": "stream",
     "text": [
      "Epochs:  25%|██▌       | 5/20 [01:45<05:17, 21.15s/it]"
     ]
    },
    {
     "name": "stdout",
     "output_type": "stream",
     "text": [
      "Validation Loss: 2.0878799011309943\n"
     ]
    },
    {
     "name": "stderr",
     "output_type": "stream",
     "text": []
    },
    {
     "name": "stdout",
     "output_type": "stream",
     "text": [
      "Epoch 6, Loss: 2.071257009151134\n"
     ]
    },
    {
     "name": "stderr",
     "output_type": "stream",
     "text": [
      "Epochs:  25%|██▌       | 5/20 [02:05<06:16, 25.08s/it]"
     ]
    },
    {
     "name": "stdout",
     "output_type": "stream",
     "text": [
      "Validation Loss: 2.087879573305448\n",
      "Early stopping triggered after 6 epochs.\n"
     ]
    },
    {
     "name": "stderr",
     "output_type": "stream",
     "text": [
      "\n"
     ]
    }
   ],
   "source": [
    "L, V, T, B = train_model(modelQ, train_loader, test_loader, lr=0.001, num_epochs=20, patience=5)"
   ]
  },
  {
   "cell_type": "code",
   "execution_count": null,
   "metadata": {},
   "outputs": [],
   "source": []
  },
  {
   "cell_type": "code",
   "execution_count": null,
   "metadata": {},
   "outputs": [],
   "source": []
  },
  {
   "cell_type": "code",
   "execution_count": null,
   "metadata": {},
   "outputs": [],
   "source": []
  },
  {
   "cell_type": "code",
   "execution_count": 23,
   "metadata": {},
   "outputs": [],
   "source": [
    "# save the model\n",
    "torch.save(model_qat.state_dict(), 'model_q.pth')"
   ]
  },
  {
   "cell_type": "code",
   "execution_count": 40,
   "metadata": {},
   "outputs": [
    {
     "ename": "RuntimeError",
     "evalue": "Error(s) in loading state_dict for BinaryClassificationModelQ:\n\tUnexpected key(s) in state_dict: \"quant.activation_post_process.fake_quant_enabled\", \"quant.activation_post_process.observer_enabled\", \"quant.activation_post_process.scale\", \"quant.activation_post_process.zero_point\", \"quant.activation_post_process.activation_post_process.eps\", \"quant.activation_post_process.activation_post_process.min_val\", \"quant.activation_post_process.activation_post_process.max_val\", \"layer0.weight_fake_quant.fake_quant_enabled\", \"layer0.weight_fake_quant.observer_enabled\", \"layer0.weight_fake_quant.scale\", \"layer0.weight_fake_quant.zero_point\", \"layer0.weight_fake_quant.activation_post_process.eps\", \"layer0.weight_fake_quant.activation_post_process.min_val\", \"layer0.weight_fake_quant.activation_post_process.max_val\", \"layer0.activation_post_process.fake_quant_enabled\", \"layer0.activation_post_process.observer_enabled\", \"layer0.activation_post_process.scale\", \"layer0.activation_post_process.zero_point\", \"layer0.activation_post_process.activation_post_process.eps\", \"layer0.activation_post_process.activation_post_process.min_val\", \"layer0.activation_post_process.activation_post_process.max_val\", \"layer1.weight_fake_quant.fake_quant_enabled\", \"layer1.weight_fake_quant.observer_enabled\", \"layer1.weight_fake_quant.scale\", \"layer1.weight_fake_quant.zero_point\", \"layer1.weight_fake_quant.activation_post_process.eps\", \"layer1.weight_fake_quant.activation_post_process.min_val\", \"layer1.weight_fake_quant.activation_post_process.max_val\", \"layer1.activation_post_process.fake_quant_enabled\", \"layer1.activation_post_process.observer_enabled\", \"layer1.activation_post_process.scale\", \"layer1.activation_post_process.zero_point\", \"layer1.activation_post_process.activation_post_process.eps\", \"layer1.activation_post_process.activation_post_process.min_val\", \"layer1.activation_post_process.activation_post_process.max_val\", \"layer2.weight_fake_quant.fake_quant_enabled\", \"layer2.weight_fake_quant.observer_enabled\", \"layer2.weight_fake_quant.scale\", \"layer2.weight_fake_quant.zero_point\", \"layer2.weight_fake_quant.activation_post_process.eps\", \"layer2.weight_fake_quant.activation_post_process.min_val\", \"layer2.weight_fake_quant.activation_post_process.max_val\", \"layer2.activation_post_process.fake_quant_enabled\", \"layer2.activation_post_process.observer_enabled\", \"layer2.activation_post_process.scale\", \"layer2.activation_post_process.zero_point\", \"layer2.activation_post_process.activation_post_process.eps\", \"layer2.activation_post_process.activation_post_process.min_val\", \"layer2.activation_post_process.activation_post_process.max_val\", \"layer3.weight_fake_quant.fake_quant_enabled\", \"layer3.weight_fake_quant.observer_enabled\", \"layer3.weight_fake_quant.scale\", \"layer3.weight_fake_quant.zero_point\", \"layer3.weight_fake_quant.activation_post_process.eps\", \"layer3.weight_fake_quant.activation_post_process.min_val\", \"layer3.weight_fake_quant.activation_post_process.max_val\", \"layer3.activation_post_process.fake_quant_enabled\", \"layer3.activation_post_process.observer_enabled\", \"layer3.activation_post_process.scale\", \"layer3.activation_post_process.zero_point\", \"layer3.activation_post_process.activation_post_process.eps\", \"layer3.activation_post_process.activation_post_process.min_val\", \"layer3.activation_post_process.activation_post_process.max_val\", \"sigmoid.activation_post_process.fake_quant_enabled\", \"sigmoid.activation_post_process.observer_enabled\", \"sigmoid.activation_post_process.scale\", \"sigmoid.activation_post_process.zero_point\", \"sigmoid.activation_post_process.activation_post_process.scale\", \"sigmoid.activation_post_process.activation_post_process.zero_point\". ",
     "output_type": "error",
     "traceback": [
      "\u001b[0;31m---------------------------------------------------------------------------\u001b[0m",
      "\u001b[0;31mRuntimeError\u001b[0m                              Traceback (most recent call last)",
      "Cell \u001b[0;32mIn[40], line 3\u001b[0m\n\u001b[1;32m      1\u001b[0m \u001b[38;5;66;03m# load the model \u001b[39;00m\n\u001b[1;32m      2\u001b[0m model_q \u001b[38;5;241m=\u001b[39m BinaryClassificationModelQ()\n\u001b[0;32m----> 3\u001b[0m \u001b[43mmodel_q\u001b[49m\u001b[38;5;241;43m.\u001b[39;49m\u001b[43mload_state_dict\u001b[49m\u001b[43m(\u001b[49m\u001b[43mtorch\u001b[49m\u001b[38;5;241;43m.\u001b[39;49m\u001b[43mload\u001b[49m\u001b[43m(\u001b[49m\u001b[38;5;124;43m'\u001b[39;49m\u001b[38;5;124;43mmodel_q.pth\u001b[39;49m\u001b[38;5;124;43m'\u001b[39;49m\u001b[43m)\u001b[49m\u001b[43m)\u001b[49m\n",
      "File \u001b[0;32m/vols/cms/yhe4823/Acc/env/envs/env/lib/python3.11/site-packages/torch/nn/modules/module.py:2041\u001b[0m, in \u001b[0;36mModule.load_state_dict\u001b[0;34m(self, state_dict, strict)\u001b[0m\n\u001b[1;32m   2036\u001b[0m         error_msgs\u001b[38;5;241m.\u001b[39minsert(\n\u001b[1;32m   2037\u001b[0m             \u001b[38;5;241m0\u001b[39m, \u001b[38;5;124m'\u001b[39m\u001b[38;5;124mMissing key(s) in state_dict: \u001b[39m\u001b[38;5;132;01m{}\u001b[39;00m\u001b[38;5;124m. \u001b[39m\u001b[38;5;124m'\u001b[39m\u001b[38;5;241m.\u001b[39mformat(\n\u001b[1;32m   2038\u001b[0m                 \u001b[38;5;124m'\u001b[39m\u001b[38;5;124m, \u001b[39m\u001b[38;5;124m'\u001b[39m\u001b[38;5;241m.\u001b[39mjoin(\u001b[38;5;124m'\u001b[39m\u001b[38;5;124m\"\u001b[39m\u001b[38;5;132;01m{}\u001b[39;00m\u001b[38;5;124m\"\u001b[39m\u001b[38;5;124m'\u001b[39m\u001b[38;5;241m.\u001b[39mformat(k) \u001b[38;5;28;01mfor\u001b[39;00m k \u001b[38;5;129;01min\u001b[39;00m missing_keys)))\n\u001b[1;32m   2040\u001b[0m \u001b[38;5;28;01mif\u001b[39;00m \u001b[38;5;28mlen\u001b[39m(error_msgs) \u001b[38;5;241m>\u001b[39m \u001b[38;5;241m0\u001b[39m:\n\u001b[0;32m-> 2041\u001b[0m     \u001b[38;5;28;01mraise\u001b[39;00m \u001b[38;5;167;01mRuntimeError\u001b[39;00m(\u001b[38;5;124m'\u001b[39m\u001b[38;5;124mError(s) in loading state_dict for \u001b[39m\u001b[38;5;132;01m{}\u001b[39;00m\u001b[38;5;124m:\u001b[39m\u001b[38;5;130;01m\\n\u001b[39;00m\u001b[38;5;130;01m\\t\u001b[39;00m\u001b[38;5;132;01m{}\u001b[39;00m\u001b[38;5;124m'\u001b[39m\u001b[38;5;241m.\u001b[39mformat(\n\u001b[1;32m   2042\u001b[0m                        \u001b[38;5;28mself\u001b[39m\u001b[38;5;241m.\u001b[39m\u001b[38;5;18m__class__\u001b[39m\u001b[38;5;241m.\u001b[39m\u001b[38;5;18m__name__\u001b[39m, \u001b[38;5;124m\"\u001b[39m\u001b[38;5;130;01m\\n\u001b[39;00m\u001b[38;5;130;01m\\t\u001b[39;00m\u001b[38;5;124m\"\u001b[39m\u001b[38;5;241m.\u001b[39mjoin(error_msgs)))\n\u001b[1;32m   2043\u001b[0m \u001b[38;5;28;01mreturn\u001b[39;00m _IncompatibleKeys(missing_keys, unexpected_keys)\n",
      "\u001b[0;31mRuntimeError\u001b[0m: Error(s) in loading state_dict for BinaryClassificationModelQ:\n\tUnexpected key(s) in state_dict: \"quant.activation_post_process.fake_quant_enabled\", \"quant.activation_post_process.observer_enabled\", \"quant.activation_post_process.scale\", \"quant.activation_post_process.zero_point\", \"quant.activation_post_process.activation_post_process.eps\", \"quant.activation_post_process.activation_post_process.min_val\", \"quant.activation_post_process.activation_post_process.max_val\", \"layer0.weight_fake_quant.fake_quant_enabled\", \"layer0.weight_fake_quant.observer_enabled\", \"layer0.weight_fake_quant.scale\", \"layer0.weight_fake_quant.zero_point\", \"layer0.weight_fake_quant.activation_post_process.eps\", \"layer0.weight_fake_quant.activation_post_process.min_val\", \"layer0.weight_fake_quant.activation_post_process.max_val\", \"layer0.activation_post_process.fake_quant_enabled\", \"layer0.activation_post_process.observer_enabled\", \"layer0.activation_post_process.scale\", \"layer0.activation_post_process.zero_point\", \"layer0.activation_post_process.activation_post_process.eps\", \"layer0.activation_post_process.activation_post_process.min_val\", \"layer0.activation_post_process.activation_post_process.max_val\", \"layer1.weight_fake_quant.fake_quant_enabled\", \"layer1.weight_fake_quant.observer_enabled\", \"layer1.weight_fake_quant.scale\", \"layer1.weight_fake_quant.zero_point\", \"layer1.weight_fake_quant.activation_post_process.eps\", \"layer1.weight_fake_quant.activation_post_process.min_val\", \"layer1.weight_fake_quant.activation_post_process.max_val\", \"layer1.activation_post_process.fake_quant_enabled\", \"layer1.activation_post_process.observer_enabled\", \"layer1.activation_post_process.scale\", \"layer1.activation_post_process.zero_point\", \"layer1.activation_post_process.activation_post_process.eps\", \"layer1.activation_post_process.activation_post_process.min_val\", \"layer1.activation_post_process.activation_post_process.max_val\", \"layer2.weight_fake_quant.fake_quant_enabled\", \"layer2.weight_fake_quant.observer_enabled\", \"layer2.weight_fake_quant.scale\", \"layer2.weight_fake_quant.zero_point\", \"layer2.weight_fake_quant.activation_post_process.eps\", \"layer2.weight_fake_quant.activation_post_process.min_val\", \"layer2.weight_fake_quant.activation_post_process.max_val\", \"layer2.activation_post_process.fake_quant_enabled\", \"layer2.activation_post_process.observer_enabled\", \"layer2.activation_post_process.scale\", \"layer2.activation_post_process.zero_point\", \"layer2.activation_post_process.activation_post_process.eps\", \"layer2.activation_post_process.activation_post_process.min_val\", \"layer2.activation_post_process.activation_post_process.max_val\", \"layer3.weight_fake_quant.fake_quant_enabled\", \"layer3.weight_fake_quant.observer_enabled\", \"layer3.weight_fake_quant.scale\", \"layer3.weight_fake_quant.zero_point\", \"layer3.weight_fake_quant.activation_post_process.eps\", \"layer3.weight_fake_quant.activation_post_process.min_val\", \"layer3.weight_fake_quant.activation_post_process.max_val\", \"layer3.activation_post_process.fake_quant_enabled\", \"layer3.activation_post_process.observer_enabled\", \"layer3.activation_post_process.scale\", \"layer3.activation_post_process.zero_point\", \"layer3.activation_post_process.activation_post_process.eps\", \"layer3.activation_post_process.activation_post_process.min_val\", \"layer3.activation_post_process.activation_post_process.max_val\", \"sigmoid.activation_post_process.fake_quant_enabled\", \"sigmoid.activation_post_process.observer_enabled\", \"sigmoid.activation_post_process.scale\", \"sigmoid.activation_post_process.zero_point\", \"sigmoid.activation_post_process.activation_post_process.scale\", \"sigmoid.activation_post_process.activation_post_process.zero_point\". "
     ]
    }
   ],
   "source": [
    "# load the model \n",
    "model_q = BinaryClassificationModelQ()\n",
    "model_q.load_state_dict(torch.load('model_q.pth'))"
   ]
  },
  {
   "cell_type": "code",
   "execution_count": null,
   "metadata": {},
   "outputs": [],
   "source": []
  },
  {
   "cell_type": "code",
   "execution_count": 31,
   "metadata": {},
   "outputs": [
    {
     "data": {
      "text/plain": [
       "BinaryClassificationModelQ(\n",
       "  (quant): QuantStub(\n",
       "    (activation_post_process): FusedMovingAvgObsFakeQuantize(\n",
       "      fake_quant_enabled=tensor([1]), observer_enabled=tensor([1]), scale=tensor([0.2662]), zero_point=tensor([30], dtype=torch.int32), dtype=torch.quint8, quant_min=0, quant_max=127, qscheme=torch.per_tensor_affine, reduce_range=True\n",
       "      (activation_post_process): MovingAverageMinMaxObserver(min_val=-8.115145683288574, max_val=25.695375442504883)\n",
       "    )\n",
       "  )\n",
       "  (layer0): Linear(\n",
       "    in_features=140, out_features=1024, bias=True\n",
       "    (weight_fake_quant): FusedMovingAvgObsFakeQuantize(\n",
       "      fake_quant_enabled=tensor([1]), observer_enabled=tensor([1]), scale=tensor([6.1000e-05, 6.1000e-05, 6.1000e-05,  ..., 6.1000e-05, 6.1000e-05,\n",
       "              6.1000e-05]), zero_point=tensor([0, 0, 0,  ..., 0, 0, 0], dtype=torch.int32), dtype=torch.qint8, quant_min=-128, quant_max=127, qscheme=torch.per_channel_symmetric, reduce_range=False\n",
       "      (activation_post_process): MovingAveragePerChannelMinMaxObserver(\n",
       "        min_val=tensor([-3.7869e-31, -7.1353e-31, -2.4794e-03,  ..., -4.9667e-31,\n",
       "                -6.9559e-31, -7.9265e-31]), max_val=tensor([4.6209e-31, 9.3804e-31, 1.0156e-03,  ..., 5.2258e-31, 6.8739e-31,\n",
       "                9.2618e-31])\n",
       "      )\n",
       "    )\n",
       "    (activation_post_process): FusedMovingAvgObsFakeQuantize(\n",
       "      fake_quant_enabled=tensor([1]), observer_enabled=tensor([1]), scale=tensor([0.0485]), zero_point=tensor([0], dtype=torch.int32), dtype=torch.quint8, quant_min=0, quant_max=127, qscheme=torch.per_tensor_affine, reduce_range=True\n",
       "      (activation_post_process): MovingAverageMinMaxObserver(min_val=-1.0672346253265408e-12, max_val=6.155506610870361)\n",
       "    )\n",
       "  )\n",
       "  (layer1): Linear(\n",
       "    in_features=1024, out_features=512, bias=True\n",
       "    (weight_fake_quant): FusedMovingAvgObsFakeQuantize(\n",
       "      fake_quant_enabled=tensor([1]), observer_enabled=tensor([1]), scale=tensor([6.1000e-05, 6.1000e-05, 6.1000e-05, 6.1000e-05, 6.1000e-05, 6.1000e-05,\n",
       "              6.1000e-05, 6.1000e-05, 6.1000e-05, 6.1000e-05, 6.1000e-05, 6.1000e-05,\n",
       "              6.1000e-05, 6.1000e-05, 6.1000e-05, 6.1000e-05, 6.1000e-05, 6.1000e-05,\n",
       "              6.1000e-05, 6.1000e-05, 6.1000e-05, 6.1000e-05, 6.1000e-05, 6.1000e-05,\n",
       "              6.1000e-05, 6.1000e-05, 6.1000e-05, 6.1000e-05, 6.1000e-05, 6.1000e-05,\n",
       "              6.1000e-05, 6.1000e-05, 6.1000e-05, 6.1000e-05, 6.1000e-05, 6.1000e-05,\n",
       "              6.1000e-05, 6.1000e-05, 1.3945e-04, 6.1000e-05, 6.1000e-05, 1.1184e-04,\n",
       "              6.1000e-05, 6.1000e-05, 6.1000e-05, 6.1000e-05, 6.1000e-05, 6.1000e-05,\n",
       "              6.1000e-05, 6.1000e-05, 6.1000e-05, 6.1000e-05, 1.1346e-04, 6.1000e-05,\n",
       "              6.1000e-05, 6.1000e-05, 6.1000e-05, 6.1000e-05, 6.1000e-05, 6.1000e-05,\n",
       "              6.1000e-05, 6.1000e-05, 6.1000e-05, 6.1000e-05, 6.1000e-05, 6.1000e-05,\n",
       "              6.1000e-05, 6.1000e-05, 6.1000e-05, 6.1000e-05, 6.1000e-05, 6.1000e-05,\n",
       "              6.1000e-05, 6.1000e-05, 6.1000e-05, 6.1000e-05, 6.1000e-05, 6.1000e-05,\n",
       "              6.1000e-05, 6.1000e-05, 6.1000e-05, 6.1000e-05, 6.1000e-05, 6.1000e-05,\n",
       "              6.1000e-05, 6.1000e-05, 6.1000e-05, 6.1000e-05, 6.1000e-05, 6.1000e-05,\n",
       "              6.1000e-05, 6.1000e-05, 6.1000e-05, 6.1000e-05, 6.1000e-05, 6.1000e-05,\n",
       "              6.1000e-05, 6.1000e-05, 6.1000e-05, 6.1000e-05, 6.1000e-05, 6.1000e-05,\n",
       "              2.1666e-04, 6.1000e-05, 6.1000e-05, 6.1000e-05, 6.1000e-05, 6.1000e-05,\n",
       "              6.1000e-05, 6.1000e-05, 6.1000e-05, 6.1000e-05, 6.1000e-05, 6.1000e-05,\n",
       "              6.1000e-05, 6.1000e-05, 6.1000e-05, 6.1000e-05, 6.1000e-05, 6.1000e-05,\n",
       "              6.1000e-05, 6.1000e-05, 1.9583e-04, 6.1000e-05, 2.2417e-04, 6.1000e-05,\n",
       "              6.1000e-05, 6.1000e-05, 6.1000e-05, 2.2435e-04, 6.1000e-05, 6.1000e-05,\n",
       "              6.1000e-05, 6.1000e-05, 6.1000e-05, 6.1000e-05, 6.1000e-05, 6.1000e-05,\n",
       "              6.1000e-05, 6.1000e-05, 6.1000e-05, 6.1000e-05, 6.1000e-05, 6.1000e-05,\n",
       "              6.1000e-05, 6.1000e-05, 1.9205e-04, 2.1930e-04, 6.1000e-05, 6.1000e-05,\n",
       "              6.1000e-05, 6.1000e-05, 6.1000e-05, 6.1000e-05, 6.1000e-05, 6.1000e-05,\n",
       "              6.1000e-05, 6.1000e-05, 6.1000e-05, 6.1000e-05, 1.2110e-04, 6.1000e-05,\n",
       "              6.1000e-05, 6.1000e-05, 6.1000e-05, 1.2277e-04, 6.1000e-05, 6.1000e-05,\n",
       "              6.1000e-05, 6.1000e-05, 6.1000e-05, 6.1000e-05, 6.1000e-05, 6.1000e-05,\n",
       "              2.2394e-04, 6.1000e-05, 6.1000e-05, 6.1000e-05, 6.1000e-05, 6.1000e-05,\n",
       "              6.1000e-05, 6.1000e-05, 2.4286e-04, 6.1000e-05, 6.1000e-05, 6.1000e-05,\n",
       "              6.1000e-05, 6.1000e-05, 6.1000e-05, 6.1000e-05, 6.1000e-05, 6.1000e-05,\n",
       "              6.1000e-05, 6.1000e-05, 6.1000e-05, 6.1000e-05, 6.1000e-05, 6.1000e-05,\n",
       "              6.1000e-05, 6.1000e-05, 6.1000e-05, 6.1000e-05, 6.1000e-05, 6.1000e-05,\n",
       "              6.1000e-05, 6.1000e-05, 6.1000e-05, 1.8343e-04, 6.1000e-05, 6.1000e-05,\n",
       "              6.1000e-05, 6.1000e-05, 6.1000e-05, 6.1000e-05, 6.1000e-05, 6.1000e-05,\n",
       "              6.1000e-05, 6.1000e-05, 6.1000e-05, 6.1000e-05, 6.1000e-05, 6.1000e-05,\n",
       "              6.1000e-05, 6.1000e-05, 6.1000e-05, 6.1000e-05, 6.1000e-05, 6.1000e-05,\n",
       "              6.1000e-05, 6.1000e-05, 6.1000e-05, 6.1000e-05, 6.1000e-05, 6.1000e-05,\n",
       "              6.1000e-05, 6.1000e-05, 6.1000e-05, 6.1000e-05, 6.1000e-05, 1.7846e-04,\n",
       "              6.1000e-05, 6.1000e-05, 6.1000e-05, 6.1000e-05, 1.8290e-04, 6.1000e-05,\n",
       "              6.1000e-05, 6.1000e-05, 6.1000e-05, 6.1000e-05, 6.1000e-05, 6.1000e-05,\n",
       "              1.9532e-04, 6.1000e-05, 6.1000e-05, 6.1000e-05, 6.1000e-05, 1.2277e-04,\n",
       "              6.1000e-05, 1.1347e-04, 6.1000e-05, 6.1000e-05, 2.0138e-04, 6.1000e-05,\n",
       "              6.1000e-05, 6.1000e-05, 2.4566e-04, 6.1000e-05, 2.4455e-04, 6.1000e-05,\n",
       "              6.1000e-05, 6.1000e-05, 6.1000e-05, 6.1000e-05, 6.1000e-05, 6.1000e-05,\n",
       "              6.1000e-05, 1.2277e-04, 2.4408e-04, 6.1000e-05, 6.1000e-05, 6.1000e-05,\n",
       "              6.1000e-05, 6.1000e-05, 6.1000e-05, 2.3609e-04, 6.1000e-05, 6.1000e-05,\n",
       "              6.1000e-05, 6.1000e-05, 1.9206e-04, 6.1000e-05, 6.1000e-05, 2.1221e-04,\n",
       "              6.1000e-05, 6.1000e-05, 6.1000e-05, 6.1000e-05, 6.1000e-05, 2.4421e-04,\n",
       "              6.1000e-05, 6.1000e-05, 6.1000e-05, 6.1000e-05, 6.1000e-05, 6.1000e-05,\n",
       "              6.1000e-05, 6.1000e-05, 6.1000e-05, 6.1000e-05, 6.1000e-05, 6.1000e-05,\n",
       "              6.1000e-05, 6.1000e-05, 6.1000e-05, 6.1000e-05, 6.1000e-05, 6.1000e-05,\n",
       "              6.1000e-05, 6.1000e-05, 6.1000e-05, 6.1000e-05, 6.1000e-05, 6.1000e-05,\n",
       "              6.1000e-05, 1.3938e-04, 2.2686e-04, 2.3724e-04, 7.1392e-05, 6.1000e-05,\n",
       "              6.1000e-05, 6.1000e-05, 6.1000e-05, 6.1000e-05, 6.1000e-05, 6.1000e-05,\n",
       "              8.4080e-05, 6.1000e-05, 6.1000e-05, 1.3947e-04, 6.1000e-05, 6.1000e-05,\n",
       "              6.1000e-05, 6.1000e-05, 6.1000e-05, 6.1000e-05, 1.2109e-04, 6.1000e-05,\n",
       "              6.1000e-05, 6.1000e-05, 6.1000e-05, 6.1000e-05, 6.1000e-05, 6.1000e-05,\n",
       "              6.1000e-05, 6.1000e-05, 6.1000e-05, 6.1000e-05, 6.1000e-05, 6.1000e-05,\n",
       "              6.1000e-05, 6.1000e-05, 6.1000e-05, 6.1000e-05, 6.1000e-05, 6.1000e-05,\n",
       "              1.1346e-04, 6.1000e-05, 6.1000e-05, 6.1000e-05, 1.2109e-04, 2.4038e-04,\n",
       "              9.3548e-05, 6.1000e-05, 6.1000e-05, 6.1000e-05, 6.1000e-05, 6.1000e-05,\n",
       "              6.1000e-05, 6.1000e-05, 6.1000e-05, 6.1000e-05, 6.1000e-05, 6.1000e-05,\n",
       "              6.1000e-05, 6.1000e-05, 6.1000e-05, 6.1000e-05, 6.1000e-05, 6.1000e-05,\n",
       "              6.1000e-05, 6.1000e-05, 6.1000e-05, 6.1000e-05, 6.1000e-05, 6.1000e-05,\n",
       "              6.1000e-05, 6.1000e-05, 2.1962e-04, 6.1000e-05, 6.1000e-05, 6.1000e-05,\n",
       "              2.0526e-04, 6.1000e-05, 2.4429e-04, 6.1000e-05, 6.1000e-05, 1.1776e-04,\n",
       "              6.1000e-05, 6.1000e-05, 6.1000e-05, 6.1000e-05, 6.1000e-05, 6.1000e-05,\n",
       "              6.1000e-05, 6.1000e-05, 6.1000e-05, 6.1000e-05, 6.1000e-05, 6.1000e-05,\n",
       "              6.1000e-05, 6.1000e-05, 6.1000e-05, 6.1000e-05, 6.1000e-05, 6.1000e-05,\n",
       "              6.1000e-05, 2.3095e-04, 6.1000e-05, 6.1000e-05, 6.1000e-05, 6.1000e-05,\n",
       "              1.6768e-04, 6.1000e-05, 2.4707e-04, 6.1000e-05, 6.1000e-05, 6.1000e-05,\n",
       "              6.1000e-05, 6.1000e-05, 6.1000e-05, 6.1000e-05, 6.1000e-05, 6.1000e-05,\n",
       "              6.1000e-05, 6.1000e-05, 6.1000e-05, 6.1000e-05, 6.1000e-05, 2.4708e-04,\n",
       "              6.1000e-05, 6.1000e-05, 6.1000e-05, 6.1000e-05, 6.1000e-05, 6.1000e-05,\n",
       "              6.1000e-05, 6.1000e-05, 6.1000e-05, 6.1000e-05, 6.1000e-05, 6.1000e-05,\n",
       "              6.1000e-05, 6.1000e-05, 6.1000e-05, 6.1000e-05, 6.1000e-05, 6.1000e-05,\n",
       "              6.1000e-05, 6.1000e-05, 6.1000e-05, 6.1000e-05, 6.1000e-05, 6.1000e-05,\n",
       "              6.1000e-05, 6.1000e-05, 6.1000e-05, 6.1000e-05, 6.1000e-05, 6.1000e-05,\n",
       "              6.1000e-05, 6.1000e-05, 6.1000e-05, 6.1000e-05, 6.1000e-05, 6.1000e-05,\n",
       "              6.1000e-05, 1.3954e-04, 6.1000e-05, 6.1000e-05, 6.1000e-05, 6.1000e-05,\n",
       "              6.1000e-05, 6.1000e-05, 6.1000e-05, 6.1000e-05, 6.1000e-05, 6.1000e-05,\n",
       "              6.1000e-05, 6.1000e-05, 6.1000e-05, 6.1000e-05, 6.1000e-05, 6.1000e-05,\n",
       "              6.5968e-05, 6.1000e-05, 6.1000e-05, 6.1000e-05, 1.0801e-04, 6.1000e-05,\n",
       "              6.1000e-05, 6.1000e-05]), zero_point=tensor([0, 0, 0, 0, 0, 0, 0, 0, 0, 0, 0, 0, 0, 0, 0, 0, 0, 0, 0, 0, 0, 0, 0, 0,\n",
       "              0, 0, 0, 0, 0, 0, 0, 0, 0, 0, 0, 0, 0, 0, 0, 0, 0, 0, 0, 0, 0, 0, 0, 0,\n",
       "              0, 0, 0, 0, 0, 0, 0, 0, 0, 0, 0, 0, 0, 0, 0, 0, 0, 0, 0, 0, 0, 0, 0, 0,\n",
       "              0, 0, 0, 0, 0, 0, 0, 0, 0, 0, 0, 0, 0, 0, 0, 0, 0, 0, 0, 0, 0, 0, 0, 0,\n",
       "              0, 0, 0, 0, 0, 0, 0, 0, 0, 0, 0, 0, 0, 0, 0, 0, 0, 0, 0, 0, 0, 0, 0, 0,\n",
       "              0, 0, 0, 0, 0, 0, 0, 0, 0, 0, 0, 0, 0, 0, 0, 0, 0, 0, 0, 0, 0, 0, 0, 0,\n",
       "              0, 0, 0, 0, 0, 0, 0, 0, 0, 0, 0, 0, 0, 0, 0, 0, 0, 0, 0, 0, 0, 0, 0, 0,\n",
       "              0, 0, 0, 0, 0, 0, 0, 0, 0, 0, 0, 0, 0, 0, 0, 0, 0, 0, 0, 0, 0, 0, 0, 0,\n",
       "              0, 0, 0, 0, 0, 0, 0, 0, 0, 0, 0, 0, 0, 0, 0, 0, 0, 0, 0, 0, 0, 0, 0, 0,\n",
       "              0, 0, 0, 0, 0, 0, 0, 0, 0, 0, 0, 0, 0, 0, 0, 0, 0, 0, 0, 0, 0, 0, 0, 0,\n",
       "              0, 0, 0, 0, 0, 0, 0, 0, 0, 0, 0, 0, 0, 0, 0, 0, 0, 0, 0, 0, 0, 0, 0, 0,\n",
       "              0, 0, 0, 0, 0, 0, 0, 0, 0, 0, 0, 0, 0, 0, 0, 0, 0, 0, 0, 0, 0, 0, 0, 0,\n",
       "              0, 0, 0, 0, 0, 0, 0, 0, 0, 0, 0, 0, 0, 0, 0, 0, 0, 0, 0, 0, 0, 0, 0, 0,\n",
       "              0, 0, 0, 0, 0, 0, 0, 0, 0, 0, 0, 0, 0, 0, 0, 0, 0, 0, 0, 0, 0, 0, 0, 0,\n",
       "              0, 0, 0, 0, 0, 0, 0, 0, 0, 0, 0, 0, 0, 0, 0, 0, 0, 0, 0, 0, 0, 0, 0, 0,\n",
       "              0, 0, 0, 0, 0, 0, 0, 0, 0, 0, 0, 0, 0, 0, 0, 0, 0, 0, 0, 0, 0, 0, 0, 0,\n",
       "              0, 0, 0, 0, 0, 0, 0, 0, 0, 0, 0, 0, 0, 0, 0, 0, 0, 0, 0, 0, 0, 0, 0, 0,\n",
       "              0, 0, 0, 0, 0, 0, 0, 0, 0, 0, 0, 0, 0, 0, 0, 0, 0, 0, 0, 0, 0, 0, 0, 0,\n",
       "              0, 0, 0, 0, 0, 0, 0, 0, 0, 0, 0, 0, 0, 0, 0, 0, 0, 0, 0, 0, 0, 0, 0, 0,\n",
       "              0, 0, 0, 0, 0, 0, 0, 0, 0, 0, 0, 0, 0, 0, 0, 0, 0, 0, 0, 0, 0, 0, 0, 0,\n",
       "              0, 0, 0, 0, 0, 0, 0, 0, 0, 0, 0, 0, 0, 0, 0, 0, 0, 0, 0, 0, 0, 0, 0, 0,\n",
       "              0, 0, 0, 0, 0, 0, 0, 0], dtype=torch.int32), dtype=torch.qint8, quant_min=-128, quant_max=127, qscheme=torch.per_channel_symmetric, reduce_range=False\n",
       "      (activation_post_process): MovingAveragePerChannelMinMaxObserver(\n",
       "        min_val=tensor([-4.6764e-13, -1.7536e-31, -2.6170e-31, -4.5930e-12, -2.6023e-31,\n",
       "                -2.6181e-31, -5.0588e-13, -2.6352e-31, -2.6274e-31, -2.6312e-28,\n",
       "                -1.7672e-28, -2.5096e-31, -4.6741e-32, -3.3744e-32, -3.3721e-32,\n",
       "                -2.6009e-31, -2.4136e-31, -4.1289e-31, -2.6803e-31, -2.6514e-31,\n",
       "                -1.4365e-31, -1.7781e-31, -3.5018e-13, -2.5581e-31, -1.2640e-23,\n",
       "                -2.6151e-31, -3.3655e-32, -2.4949e-31, -2.5723e-31, -2.3491e-31,\n",
       "                -2.5279e-31, -2.6914e-12, -2.5813e-31, -3.8060e-13, -2.5705e-31,\n",
       "                -2.5820e-31, -2.5870e-31, -5.0931e-13, -1.8585e-12, -1.2579e-31,\n",
       "                -2.5998e-31, -1.9118e-12, -9.0179e-32, -3.3658e-32, -2.6222e-31,\n",
       "                -7.9879e-32, -2.5056e-31, -2.5407e-31, -1.1804e-31, -2.6386e-31,\n",
       "                -2.5540e-31, -2.5223e-31, -2.0112e-12, -3.3728e-32, -2.6103e-31,\n",
       "                -2.5756e-23, -2.5100e-31, -1.5616e-31, -1.2840e-31, -3.3486e-23,\n",
       "                -2.6241e-31, -4.7067e-13, -2.6223e-31, -4.0150e-31, -3.3411e-32,\n",
       "                -1.7517e-31, -2.6423e-31, -5.0784e-13, -2.5774e-31, -2.6353e-31,\n",
       "                -1.4519e-31, -3.3674e-32, -2.2330e-31, -1.0816e-31, -2.5772e-31,\n",
       "                -2.5939e-31, -2.5332e-31, -2.2672e-31, -2.5964e-31, -2.6043e-31,\n",
       "                -4.0935e-31, -3.3636e-32, -3.3693e-32, -3.6156e-13, -3.3713e-32,\n",
       "                -4.1049e-13, -2.5629e-31, -4.7418e-31, -2.5483e-31, -2.9739e-18,\n",
       "                -4.5623e-31, -2.5575e-31, -1.6092e-31, -4.8988e-31, -2.5015e-31,\n",
       "                -2.6441e-31, -1.3414e-14, -2.5662e-31, -2.6439e-31, -1.9990e-31,\n",
       "                -1.4581e-23, -2.6594e-31, -1.1913e-11, -2.6408e-31, -2.4465e-31,\n",
       "                -2.5945e-31, -2.5524e-31, -2.5978e-31, -1.5174e-31, -2.6121e-31,\n",
       "                -4.1945e-31, -3.3702e-32, -2.5807e-31, -8.6656e-32, -3.3732e-32,\n",
       "                -2.6513e-31, -2.5380e-31, -2.6012e-31, -3.3733e-32, -2.2750e-31,\n",
       "                -2.6291e-31, -2.1400e-31, -3.3539e-12, -3.3745e-32, -1.5264e-11,\n",
       "                -2.4118e-31, -1.1552e-31, -2.6201e-31, -2.5026e-31, -1.2938e-11,\n",
       "                -1.7366e-31, -1.4964e-23, -1.6920e-28, -5.0872e-13, -2.5087e-31,\n",
       "                -3.3748e-32, -2.2585e-31, -2.6403e-31, -3.2093e-18, -2.0300e-31,\n",
       "                -1.9884e-31, -2.7088e-18, -2.6103e-31, -1.3539e-31, -2.5222e-31,\n",
       "                -4.5283e-19, -3.1310e-12, -1.3670e-11, -3.3747e-32, -2.6017e-31,\n",
       "                -3.1134e-23, -2.0767e-31, -1.5831e-31, -2.4477e-31, -3.3693e-32,\n",
       "                -2.6021e-31, -2.5028e-31, -4.6401e-13, -2.4355e-31, -2.5865e-31,\n",
       "                -2.1120e-12, -2.6321e-31, -2.2665e-31, -1.2710e-28, -4.5707e-31,\n",
       "                -2.0539e-12, -3.3640e-32, -1.4342e-31, -2.5656e-31, -3.3618e-32,\n",
       "                -3.3687e-32, -5.5005e-20, -3.3746e-32, -1.3239e-31, -1.4856e-11,\n",
       "                -2.6411e-31, -2.3197e-31, -4.1956e-31, -7.7251e-32, -3.3602e-23,\n",
       "                -2.3976e-31, -2.4857e-31, -1.2944e-11, -1.5968e-31, -2.1517e-31,\n",
       "                -4.4534e-31, -3.3637e-32, -2.6313e-31, -3.3760e-32, -2.6315e-31,\n",
       "                -2.0152e-31, -1.2928e-23, -1.5688e-31, -2.5704e-31, -2.3398e-31,\n",
       "                -4.0551e-31, -2.5512e-31, -2.0693e-31, -2.5899e-31, -2.6521e-31,\n",
       "                -1.3969e-31, -3.3753e-32, -2.5583e-31, -1.6588e-28, -1.8176e-31,\n",
       "                -4.7852e-31, -1.9534e-31, -2.5713e-12, -1.9191e-31, -2.4005e-31,\n",
       "                -5.0537e-13, -1.3327e-31, -3.3712e-32, -2.4804e-31, -5.3998e-15,\n",
       "                -4.2833e-13, -3.3681e-32, -2.4736e-31, -2.6062e-31, -5.1149e-13,\n",
       "                -2.2323e-31, -2.0160e-31, -4.2117e-13, -1.5595e-31, -2.6499e-31,\n",
       "                -2.2239e-31, -1.3235e-31, -2.6379e-31, -2.1832e-28, -1.7813e-31,\n",
       "                -1.0740e-18, -1.7863e-31, -2.6193e-31, -1.7642e-31, -3.3727e-32,\n",
       "                -4.3618e-13, -2.0990e-31, -3.3701e-32, -2.3717e-31, -1.8183e-12,\n",
       "                -2.5485e-31, -2.4812e-31, -2.6166e-31, -2.6463e-31, -1.9299e-12,\n",
       "                -2.6158e-31, -1.3911e-31, -2.6141e-31, -2.3080e-31, -2.7440e-12,\n",
       "                -2.5756e-31, -2.5733e-31, -3.2879e-12, -3.3665e-32, -1.3901e-31,\n",
       "                -2.6211e-31, -2.6241e-31, -2.0925e-12, -2.2684e-31, -2.0000e-12,\n",
       "                -2.4037e-31, -3.3744e-32, -3.4537e-12, -1.3967e-31, -1.0494e-12,\n",
       "                -2.5085e-31, -6.5056e-12, -1.9023e-19, -3.0251e-12, -2.5881e-31,\n",
       "                -2.3353e-31, -1.8970e-31, -2.6437e-31, -2.5118e-31, -2.5988e-31,\n",
       "                -2.1399e-31, -2.6287e-31, -2.0923e-12, -7.9711e-12, -3.3740e-32,\n",
       "                -3.4103e-12, -2.6384e-31, -3.3663e-32, -3.3746e-32, -2.5397e-31,\n",
       "                -1.5685e-11, -2.6313e-31, -2.6252e-31, -2.6237e-31, -2.0348e-31,\n",
       "                -2.9445e-12, -1.6255e-13, -2.3356e-31, -7.0804e-12, -2.6031e-31,\n",
       "                -2.6296e-31, -2.6098e-31, -2.5697e-31, -2.5442e-31, -3.9969e-12,\n",
       "                -1.9441e-31, -2.2769e-31, -2.4286e-31, -2.6349e-31, -2.2091e-31,\n",
       "                -1.8263e-31, -3.3414e-32, -1.7241e-31, -2.6297e-31, -4.3820e-12,\n",
       "                -2.3142e-31, -2.4881e-31, -2.6185e-31, -2.6206e-31, -3.3574e-32,\n",
       "                -2.4929e-31, -1.4347e-31, -2.5993e-31, -2.5864e-31, -2.2693e-31,\n",
       "                -2.5642e-31, -2.5241e-31, -2.6048e-31, -2.5015e-31, -4.2879e-31,\n",
       "                -1.8663e-12, -1.4958e-11, -5.8251e-12, -5.8789e-12, -7.9322e-32,\n",
       "                -2.6408e-31, -4.5581e-13, -7.1468e-13, -3.3647e-32, -3.3656e-32,\n",
       "                -5.1132e-13, -5.9332e-12, -3.9353e-13, -2.5148e-31, -1.8629e-12,\n",
       "                -6.3452e-13, -2.6423e-31, -1.9793e-31, -1.8879e-31, -2.5901e-31,\n",
       "                -2.5861e-31, -2.1307e-12, -3.3504e-32, -3.3749e-32, -2.6319e-31,\n",
       "                -2.5574e-31, -2.5918e-31, -2.6133e-31, -2.5711e-31, -2.5880e-31,\n",
       "                -2.4970e-31, -2.5057e-31, -5.0495e-13, -1.9873e-28, -1.3468e-31,\n",
       "                -1.5588e-31, -3.3718e-32, -2.6453e-31, -2.4740e-31, -9.1879e-32,\n",
       "                -2.3730e-31, -2.0114e-12, -1.5642e-28, -1.7852e-31, -3.8149e-13,\n",
       "                -2.1289e-12, -8.2982e-12, -5.0498e-12, -3.3744e-32, -2.5803e-31,\n",
       "                -2.5503e-31, -4.0915e-13, -3.3705e-32, -2.6085e-31, -3.3760e-32,\n",
       "                -2.5103e-31, -2.5745e-31, -3.3752e-32, -2.4086e-31, -2.0432e-31,\n",
       "                -2.5580e-31, -1.0184e-31, -2.5183e-31, -2.4917e-31, -1.4805e-23,\n",
       "                -1.3597e-31, -2.6520e-31, -2.6452e-31, -2.5704e-31, -2.6373e-31,\n",
       "                -3.3761e-32, -2.4720e-14, -1.4608e-28, -1.2853e-11, -2.0011e-28,\n",
       "                -2.5825e-31, -2.6163e-31, -6.1824e-12, -1.2870e-31, -3.0426e-12,\n",
       "                -2.6422e-31, -2.3190e-31, -2.0059e-12, -2.6139e-31, -2.4750e-31,\n",
       "                -2.5153e-31, -4.4839e-12, -2.5202e-31, -2.6569e-31, -1.4467e-23,\n",
       "                -2.6238e-31, -2.4726e-31, -4.8547e-13, -1.9450e-31, -2.6029e-12,\n",
       "                -3.0921e-23, -4.0080e-13, -2.5609e-31, -3.7984e-13, -2.1612e-31,\n",
       "                -5.1130e-13, -2.5075e-31, -1.5405e-11, -4.3659e-13, -3.7017e-13,\n",
       "                -2.5687e-31, -2.6239e-31, -1.0087e-12, -2.5885e-31, -8.4236e-12,\n",
       "                -2.5313e-31, -4.9559e-13, -2.6353e-31, -3.3733e-32, -3.2025e-12,\n",
       "                -3.2977e-18, -3.3547e-32, -1.8282e-31, -2.6239e-31, -3.3736e-32,\n",
       "                -1.9704e-31, -1.8990e-28, -2.5399e-31, -1.8735e-31, -7.6889e-12,\n",
       "                -2.0638e-31, -4.1798e-31, -3.3756e-32, -2.5059e-31, -2.0514e-31,\n",
       "                -3.3728e-32, -1.7736e-31, -2.2679e-31, -2.5393e-31, -2.4205e-31,\n",
       "                -2.3339e-31, -2.5183e-31, -1.5956e-13, -3.3691e-32, -2.6047e-31,\n",
       "                -2.3711e-12, -2.5526e-31, -2.4775e-31, -2.6192e-31, -2.6151e-31,\n",
       "                -2.5734e-31, -2.4123e-31, -2.5611e-31, -2.3551e-31, -2.9757e-23,\n",
       "                -2.5413e-31, -1.0247e-31, -2.5846e-31, -2.3939e-31, -2.5731e-31,\n",
       "                -2.5988e-31, -2.6313e-31, -3.3750e-32, -2.6238e-31, -2.6134e-31,\n",
       "                -2.5586e-31, -2.2588e-31, -1.4682e-12, -2.6037e-31, -2.6271e-31,\n",
       "                -2.3444e-31, -4.5508e-12, -3.3757e-32, -2.5513e-31, -9.0413e-32,\n",
       "                -2.6216e-31, -2.3390e-31, -2.5756e-31, -1.4236e-23, -3.3383e-18,\n",
       "                -2.6407e-31, -1.8797e-31, -4.2219e-13, -2.5395e-31, -5.7336e-12,\n",
       "                -1.9401e-31, -2.6065e-31, -2.4317e-31, -2.1285e-12, -5.0437e-19,\n",
       "                -5.1053e-13, -3.3733e-32]), max_val=tensor([4.6239e-13, 3.7281e-31, 1.8526e-31, 5.0070e-12, 1.8270e-31, 2.0529e-31,\n",
       "                3.6610e-13, 2.3036e-31, 2.3322e-31, 3.6975e-28, 1.7521e-28, 1.8197e-31,\n",
       "                4.1590e-32, 3.3752e-32, 3.3695e-32, 1.8218e-31, 1.6860e-31, 3.5079e-30,\n",
       "                6.2676e-31, 2.3408e-31, 1.1279e-31, 6.1800e-31, 3.1756e-13, 2.0230e-31,\n",
       "                1.2974e-23, 2.1461e-31, 3.3715e-32, 2.4466e-31, 1.7732e-31, 2.0512e-31,\n",
       "                1.7805e-31, 5.7097e-03, 2.4656e-31, 4.3815e-13, 1.9199e-31, 2.3837e-31,\n",
       "                2.0459e-31, 3.6010e-13, 1.7710e-02, 1.9663e-31, 2.1635e-31, 1.4203e-02,\n",
       "                1.2985e-31, 3.3753e-32, 1.8569e-31, 1.0568e-31, 2.4823e-31, 2.5011e-31,\n",
       "                1.0216e-31, 1.8057e-31, 1.7466e-31, 2.4773e-31, 1.4409e-02, 3.3537e-32,\n",
       "                1.8051e-31, 2.1359e-23, 1.7355e-31, 1.8056e-31, 1.9307e-31, 5.6678e-04,\n",
       "                1.8194e-31, 4.4955e-13, 2.1068e-31, 3.3473e-30, 3.3558e-32, 4.0067e-31,\n",
       "                2.4084e-31, 3.6974e-13, 2.4669e-31, 1.9065e-31, 1.0341e-31, 3.3695e-32,\n",
       "                1.5993e-31, 8.0911e-32, 2.4304e-31, 1.8054e-31, 1.7556e-31, 2.6889e-31,\n",
       "                2.5298e-31, 2.0703e-31, 4.9740e-30, 3.3754e-32, 3.3673e-32, 3.2347e-13,\n",
       "                3.3704e-32, 4.5735e-13, 2.4028e-31, 3.3579e-30, 1.8061e-31, 2.8084e-18,\n",
       "                2.8501e-30, 2.4298e-31, 2.3136e-31, 2.8425e-30, 1.7502e-31, 2.5661e-31,\n",
       "                5.6461e-04, 2.3344e-31, 2.1919e-31, 1.7634e-31, 1.1573e-23, 2.4980e-31,\n",
       "                2.7516e-02, 2.3736e-31, 1.6356e-31, 2.2154e-31, 2.5256e-31, 2.1083e-31,\n",
       "                2.3482e-31, 2.2676e-31, 3.3410e-30, 3.3632e-32, 1.9545e-31, 1.1136e-31,\n",
       "                3.3622e-32, 2.4110e-31, 1.9811e-31, 2.5859e-31, 3.3708e-32, 3.9536e-31,\n",
       "                2.0948e-31, 1.4787e-31, 2.4870e-02, 3.3735e-32, 2.8470e-02, 1.6810e-31,\n",
       "                1.6724e-31, 2.4301e-31, 1.8460e-31, 2.8493e-02, 4.8789e-31, 1.4349e-23,\n",
       "                1.9501e-28, 3.6403e-13, 2.0911e-31, 3.3696e-32, 3.0507e-31, 1.8235e-31,\n",
       "                2.7298e-18, 5.6569e-31, 6.4739e-31, 2.7109e-18, 2.5308e-31, 1.8903e-31,\n",
       "                2.4327e-31, 5.6428e-04, 2.4391e-02, 2.7851e-02, 3.3691e-32, 1.7888e-31,\n",
       "                2.1820e-23, 2.2732e-31, 2.7075e-31, 1.7841e-31, 3.3206e-32, 2.3313e-31,\n",
       "                1.7491e-31, 4.3967e-13, 7.4542e-31, 2.2161e-31, 1.5380e-02, 2.2932e-31,\n",
       "                1.6115e-31, 1.6699e-28, 3.5106e-30, 1.5592e-02, 3.3594e-32, 1.7261e-31,\n",
       "                1.9687e-31, 3.3595e-32, 3.3643e-32, 5.6700e-04, 3.3753e-32, 9.7972e-32,\n",
       "                2.8440e-02, 2.4580e-31, 2.6127e-31, 2.9949e-30, 7.3282e-32, 5.6686e-04,\n",
       "                1.7341e-31, 2.0968e-31, 3.0844e-02, 2.5362e-31, 2.3878e-31, 2.9362e-30,\n",
       "                3.3738e-32, 2.4646e-31, 3.3710e-32, 2.3702e-31, 2.3834e-31, 1.2819e-23,\n",
       "                2.2765e-31, 2.3426e-31, 4.1518e-31, 3.0440e-30, 2.5676e-31, 1.6090e-31,\n",
       "                1.9294e-31, 2.5382e-31, 1.9970e-31, 3.3689e-32, 1.7873e-31, 1.9479e-28,\n",
       "                3.1461e-31, 2.8070e-30, 5.3009e-31, 2.3296e-02, 7.6563e-31, 1.7452e-31,\n",
       "                3.9594e-13, 2.0612e-31, 3.3693e-32, 2.4560e-31, 1.8457e-03, 4.7340e-13,\n",
       "                3.3628e-32, 2.0213e-31, 2.3620e-31, 3.6355e-13, 1.5259e-31, 7.6487e-31,\n",
       "                2.7426e-03, 2.3847e-31, 2.6270e-31, 2.6154e-31, 1.0748e-31, 2.1423e-31,\n",
       "                1.9468e-28, 3.9784e-31, 1.8458e-03, 3.8624e-31, 1.9854e-31, 4.1892e-31,\n",
       "                3.3759e-32, 4.3088e-13, 1.4346e-31, 3.3747e-32, 3.5660e-31, 2.2664e-02,\n",
       "                2.2406e-31, 1.9278e-31, 2.2745e-31, 2.4427e-31, 2.3228e-02, 1.8627e-31,\n",
       "                2.0302e-31, 1.8366e-31, 1.8572e-31, 5.7091e-03, 1.7808e-31, 2.2020e-31,\n",
       "                2.4806e-02, 3.3593e-32, 1.4700e-31, 2.1376e-31, 2.3926e-31, 1.5592e-02,\n",
       "                2.3681e-31, 1.4411e-02, 1.7329e-31, 3.3744e-32, 2.5576e-02, 1.8289e-31,\n",
       "                1.2913e-12, 3.1966e-31, 3.1199e-02, 5.6674e-04, 3.1058e-02, 1.9482e-31,\n",
       "                1.6921e-31, 1.3032e-31, 2.4101e-31, 2.2992e-31, 2.3492e-31, 1.5580e-31,\n",
       "                1.9459e-31, 1.5592e-02, 3.0998e-02, 3.3749e-32, 4.3760e-12, 2.3815e-31,\n",
       "                3.3740e-32, 3.3742e-32, 2.3218e-31, 2.9983e-02, 2.2734e-31, 1.8086e-31,\n",
       "                2.1616e-31, 1.4045e-31, 2.4392e-02, 2.0102e-03, 3.5646e-31, 2.6950e-02,\n",
       "                2.5887e-31, 2.0739e-31, 1.8275e-31, 1.7747e-31, 2.5757e-31, 3.1015e-02,\n",
       "                1.4251e-31, 1.6483e-31, 2.1806e-31, 2.5474e-31, 1.6030e-31, 1.4337e-31,\n",
       "                3.3658e-32, 1.2831e-31, 1.9860e-31, 7.0147e-03, 3.3316e-31, 1.7442e-31,\n",
       "                2.1061e-31, 2.4132e-31, 3.3685e-32, 1.8850e-31, 2.0571e-31, 2.3624e-31,\n",
       "                1.8073e-31, 1.7175e-31, 2.3488e-31, 1.7462e-31, 1.7824e-31, 2.3215e-31,\n",
       "                5.1886e-30, 1.7701e-02, 2.8812e-02, 3.0129e-02, 9.0667e-03, 6.4570e-32,\n",
       "                2.2795e-31, 4.3066e-13, 3.1032e-03, 3.3645e-32, 3.3521e-32, 3.7600e-13,\n",
       "                1.0678e-02, 3.9836e-13, 1.7390e-31, 1.7713e-02, 3.1017e-03, 2.2507e-31,\n",
       "                1.5565e-31, 6.2527e-31, 2.5739e-31, 1.7525e-31, 1.5379e-02, 3.3697e-32,\n",
       "                3.3742e-32, 2.3647e-31, 2.2182e-31, 1.8557e-31, 2.3642e-31, 2.3110e-31,\n",
       "                1.8232e-31, 1.7066e-31, 1.8342e-31, 3.8914e-13, 1.9454e-28, 1.8649e-31,\n",
       "                2.2311e-31, 3.3598e-32, 2.3370e-31, 2.1069e-31, 1.1670e-31, 1.6656e-31,\n",
       "                1.4410e-02, 1.8150e-28, 2.2695e-31, 5.0349e-13, 1.5379e-02, 3.0528e-02,\n",
       "                1.1881e-02, 3.3711e-32, 2.2359e-31, 1.8240e-31, 3.1025e-03, 3.3752e-32,\n",
       "                1.8050e-31, 3.3665e-32, 2.5041e-31, 2.4609e-31, 3.3695e-32, 1.7498e-31,\n",
       "                1.5439e-31, 1.7720e-31, 1.4289e-31, 2.3557e-31, 2.4318e-31, 1.1172e-23,\n",
       "                1.4986e-31, 2.5635e-31, 2.3587e-31, 1.8751e-31, 2.5287e-31, 3.3731e-32,\n",
       "                5.6258e-04, 1.5076e-28, 2.7891e-02, 3.5023e-28, 2.2920e-31, 1.8145e-31,\n",
       "                2.6068e-02, 1.7773e-31, 3.1025e-02, 2.1039e-31, 1.7581e-31, 1.4955e-02,\n",
       "                2.3436e-31, 2.3562e-31, 2.5323e-31, 6.8635e-03, 2.4434e-31, 2.4094e-31,\n",
       "                1.3203e-23, 1.8598e-31, 3.0640e-31, 3.1017e-03, 2.5085e-31, 5.7093e-03,\n",
       "                1.8570e-23, 4.3644e-13, 1.7435e-31, 3.7919e-13, 1.5816e-31, 3.5610e-13,\n",
       "                2.4693e-31, 2.9330e-02, 4.3420e-13, 3.3379e-13, 2.3732e-31, 2.4169e-31,\n",
       "                2.1295e-02, 1.9321e-31, 3.1378e-02, 2.1814e-31, 3.1031e-03, 2.0138e-31,\n",
       "                3.3735e-32, 6.2717e-03, 3.0560e-18, 3.3691e-32, 3.9499e-31, 1.8303e-31,\n",
       "                3.3648e-32, 1.5413e-31, 1.8506e-28, 2.4397e-31, 6.2209e-31, 3.1379e-02,\n",
       "                2.5985e-31, 3.3682e-30, 3.3733e-32, 2.5893e-31, 6.2499e-31, 3.3619e-32,\n",
       "                2.5693e-31, 1.6769e-31, 1.8763e-31, 2.4998e-31, 1.6814e-31, 1.8603e-31,\n",
       "                5.5292e-04, 3.3647e-32, 2.4607e-31, 5.6856e-03, 1.7907e-31, 2.0911e-31,\n",
       "                2.4436e-31, 2.5907e-31, 2.4576e-31, 1.6789e-31, 2.5022e-31, 2.4933e-31,\n",
       "                2.2096e-23, 1.7959e-31, 1.0488e-31, 2.6748e-31, 1.8802e-31, 2.2156e-31,\n",
       "                1.7865e-31, 1.8952e-31, 3.3642e-32, 2.5729e-31, 1.9406e-31, 1.8619e-31,\n",
       "                1.4799e-31, 1.7721e-02, 2.2572e-31, 2.4406e-31, 2.4370e-31, 5.0572e-12,\n",
       "                3.3746e-32, 2.1937e-31, 1.0400e-31, 2.3004e-31, 1.5714e-31, 1.8418e-31,\n",
       "                1.1147e-23, 2.9536e-18, 2.1693e-31, 3.5551e-31, 3.3067e-13, 2.4597e-31,\n",
       "                8.3779e-03, 1.4328e-31, 2.1442e-31, 2.2120e-31, 1.3717e-02, 5.6345e-04,\n",
       "                3.8168e-13, 3.3738e-32])\n",
       "      )\n",
       "    )\n",
       "    (activation_post_process): FusedMovingAvgObsFakeQuantize(\n",
       "      fake_quant_enabled=tensor([1]), observer_enabled=tensor([1]), scale=tensor([0.0332]), zero_point=tensor([0], dtype=torch.int32), dtype=torch.quint8, quant_min=0, quant_max=127, qscheme=torch.per_tensor_affine, reduce_range=True\n",
       "      (activation_post_process): MovingAverageMinMaxObserver(min_val=-1.6682477881752034e-13, max_val=4.221776962280273)\n",
       "    )\n",
       "  )\n",
       "  (layer2): Linear(\n",
       "    in_features=512, out_features=128, bias=True\n",
       "    (weight_fake_quant): FusedMovingAvgObsFakeQuantize(\n",
       "      fake_quant_enabled=tensor([1]), observer_enabled=tensor([1]), scale=tensor([1.6433e-04, 6.1000e-05, 6.1000e-05, 6.1000e-05, 6.1000e-05, 6.1000e-05,\n",
       "              1.6517e-04, 1.6506e-04, 1.6457e-04, 1.5547e-04, 6.1000e-05, 1.6428e-04,\n",
       "              6.1000e-05, 6.1000e-05, 6.1000e-05, 1.6257e-04, 6.1000e-05, 1.6424e-04,\n",
       "              6.1000e-05, 6.1000e-05, 1.6413e-04, 6.1000e-05, 6.1000e-05, 1.6151e-04,\n",
       "              1.6467e-04, 6.1000e-05, 1.3620e-04, 1.4894e-04, 1.6403e-04, 1.6413e-04,\n",
       "              1.6256e-04, 1.6432e-04, 1.0666e-04, 6.1000e-05, 1.6516e-04, 6.1000e-05,\n",
       "              1.2825e-04, 6.1000e-05, 1.5251e-04, 6.1000e-05, 1.6511e-04, 1.4145e-04,\n",
       "              1.6413e-04, 6.1000e-05, 1.6444e-04, 1.6507e-04, 6.1000e-05, 6.1000e-05,\n",
       "              1.2589e-04, 6.1000e-05, 8.6527e-05, 6.1000e-05, 6.1000e-05, 1.0941e-04,\n",
       "              6.1000e-05, 1.6411e-04, 1.6414e-04, 1.6502e-04, 6.1000e-05, 1.6504e-04,\n",
       "              6.1000e-05, 6.1000e-05, 6.1000e-05, 6.1000e-05, 8.5953e-05, 1.6522e-04,\n",
       "              6.1000e-05, 1.6438e-04, 6.1000e-05, 1.5277e-04, 1.2676e-04, 1.6505e-04,\n",
       "              6.1000e-05, 1.3349e-04, 1.6409e-04, 6.1000e-05, 6.1000e-05, 1.1947e-04,\n",
       "              6.1000e-05, 1.6400e-04, 6.1000e-05, 7.1629e-05, 1.6429e-04, 6.1000e-05,\n",
       "              1.6506e-04, 6.1000e-05, 1.6431e-04, 6.1000e-05, 6.1000e-05, 1.1606e-04,\n",
       "              1.2998e-04, 1.6312e-04, 6.1000e-05, 1.0394e-04, 6.1000e-05, 6.1000e-05,\n",
       "              6.1000e-05, 6.1000e-05, 6.1000e-05, 6.1000e-05, 6.1000e-05, 1.6504e-04,\n",
       "              1.6434e-04, 1.2090e-04, 6.1000e-05, 6.1000e-05, 6.1000e-05, 6.1000e-05,\n",
       "              6.1000e-05, 6.1000e-05, 6.1000e-05, 1.6412e-04, 1.6517e-04, 6.1000e-05,\n",
       "              1.2974e-04, 6.1000e-05, 6.1000e-05, 1.6412e-04, 6.1000e-05, 6.1000e-05,\n",
       "              6.1000e-05, 6.1000e-05, 6.1000e-05, 6.1000e-05, 1.6512e-04, 6.1000e-05,\n",
       "              6.1000e-05, 6.1000e-05]), zero_point=tensor([0, 0, 0, 0, 0, 0, 0, 0, 0, 0, 0, 0, 0, 0, 0, 0, 0, 0, 0, 0, 0, 0, 0, 0,\n",
       "              0, 0, 0, 0, 0, 0, 0, 0, 0, 0, 0, 0, 0, 0, 0, 0, 0, 0, 0, 0, 0, 0, 0, 0,\n",
       "              0, 0, 0, 0, 0, 0, 0, 0, 0, 0, 0, 0, 0, 0, 0, 0, 0, 0, 0, 0, 0, 0, 0, 0,\n",
       "              0, 0, 0, 0, 0, 0, 0, 0, 0, 0, 0, 0, 0, 0, 0, 0, 0, 0, 0, 0, 0, 0, 0, 0,\n",
       "              0, 0, 0, 0, 0, 0, 0, 0, 0, 0, 0, 0, 0, 0, 0, 0, 0, 0, 0, 0, 0, 0, 0, 0,\n",
       "              0, 0, 0, 0, 0, 0, 0, 0], dtype=torch.int32), dtype=torch.qint8, quant_min=-128, quant_max=127, qscheme=torch.per_channel_symmetric, reduce_range=False\n",
       "      (activation_post_process): MovingAveragePerChannelMinMaxObserver(\n",
       "        min_val=tensor([-2.8428e-12, -3.6520e-31, -3.7860e-31, -3.8799e-31, -3.8387e-31,\n",
       "                -3.8224e-31, -7.1483e-13, -3.0251e-12, -3.0925e-12, -1.1348e-12,\n",
       "                -3.7485e-31, -1.5013e-12, -3.8582e-31, -3.6394e-31, -3.9123e-31,\n",
       "                -2.7196e-12, -2.9185e-31, -1.2921e-12, -3.9097e-31, -3.8206e-31,\n",
       "                -3.1221e-12, -5.1487e-32, -3.7726e-31, -4.3836e-13, -1.7555e-12,\n",
       "                -3.4235e-31, -2.1141e-12, -2.7842e-12, -3.8864e-13, -2.8839e-12,\n",
       "                -1.2452e-12, -2.2733e-12, -2.0934e-12, -3.2790e-31, -3.1025e-12,\n",
       "                -2.6906e-31, -1.2741e-12, -3.3821e-31, -1.0217e-12, -3.4710e-31,\n",
       "                -3.1281e-12, -2.4849e-12, -3.0349e-12, -3.7858e-31, -4.7020e-13,\n",
       "                -3.1365e-12, -2.4589e-31, -3.8351e-31, -2.6045e-13, -8.0543e-32,\n",
       "                -6.3836e-13, -3.8685e-31, -3.8894e-31, -4.4974e-13, -3.8726e-31,\n",
       "                -3.0380e-12, -3.1220e-12, -1.3294e-12, -5.1489e-32, -2.6210e-12,\n",
       "                -3.1150e-31, -5.1135e-32, -2.7293e-31, -3.7349e-31, -3.5407e-13,\n",
       "                -3.1205e-12, -5.1474e-32, -3.8867e-13, -3.7576e-31, -1.8437e-12,\n",
       "                -3.0211e-13, -3.0680e-12, -3.8918e-31, -5.5797e-13, -9.5012e-13,\n",
       "                -3.8740e-31, -3.8481e-31, -2.8069e-13, -5.0935e-32, -3.7837e-13,\n",
       "                -3.7973e-31, -2.0485e-13, -3.0875e-12, -3.8320e-31, -3.0112e-12,\n",
       "                -3.8547e-31, -3.0627e-12, -5.1397e-32, -3.7908e-31, -4.7096e-13,\n",
       "                -1.2719e-12, -3.4459e-13, -3.9003e-31, -2.0781e-12, -3.8356e-31,\n",
       "                -3.8221e-31, -3.5135e-31, -3.8227e-31, -5.1492e-32, -5.1450e-32,\n",
       "                -3.8588e-31, -3.0516e-12, -2.2218e-12, -3.0023e-13, -1.6052e-31,\n",
       "                -3.7071e-31, -3.7363e-31, -3.3557e-31, -3.8627e-31, -3.6541e-31,\n",
       "                -3.7659e-31, -2.9591e-12, -3.1649e-12, -3.8343e-31, -5.3643e-13,\n",
       "                -3.4862e-31, -2.3961e-31, -2.1561e-12, -3.5621e-31, -7.6697e-32,\n",
       "                -5.0745e-32, -3.8936e-31, -3.8591e-31, -3.8529e-31, -3.1335e-12,\n",
       "                -3.8922e-31, -5.0890e-32, -3.8907e-31]), max_val=tensor([2.0870e-02, 3.4274e-31, 2.9467e-31, 3.4450e-31, 3.7015e-31, 2.8796e-31,\n",
       "                2.0976e-02, 2.0962e-02, 2.0900e-02, 1.9745e-02, 3.1489e-31, 2.0863e-02,\n",
       "                3.0112e-31, 2.7959e-31, 2.9577e-31, 2.0646e-02, 2.0959e-31, 2.0859e-02,\n",
       "                2.9998e-31, 2.9696e-31, 2.0844e-02, 5.1413e-32, 2.8538e-31, 2.0512e-02,\n",
       "                2.0913e-02, 2.7433e-31, 1.7297e-02, 1.8916e-02, 2.0832e-02, 2.0844e-02,\n",
       "                2.0645e-02, 2.0869e-02, 1.3545e-02, 3.6604e-31, 2.0975e-02, 3.6801e-31,\n",
       "                1.6288e-02, 2.7257e-31, 1.9368e-02, 2.4286e-31, 2.0969e-02, 1.7964e-02,\n",
       "                2.0845e-02, 3.3297e-31, 2.0884e-02, 2.0963e-02, 2.1855e-31, 3.2024e-31,\n",
       "                1.5988e-02, 6.8028e-32, 1.0989e-02, 2.7903e-31, 3.5662e-31, 1.3895e-02,\n",
       "                3.2485e-31, 2.0841e-02, 2.0846e-02, 2.0957e-02, 5.1218e-32, 2.0960e-02,\n",
       "                3.6608e-31, 5.1399e-32, 2.2325e-31, 2.8273e-31, 1.0916e-02, 2.0983e-02,\n",
       "                5.1370e-32, 2.0876e-02, 2.8241e-31, 1.9402e-02, 1.6098e-02, 2.0961e-02,\n",
       "                3.2823e-31, 1.6954e-02, 2.0840e-02, 2.9572e-31, 3.0240e-31, 1.5173e-02,\n",
       "                5.1457e-32, 2.0828e-02, 3.3466e-31, 9.0969e-03, 2.0865e-02, 2.8453e-31,\n",
       "                2.0963e-02, 2.9861e-31, 2.0867e-02, 5.1464e-32, 2.9079e-31, 1.4740e-02,\n",
       "                1.6508e-02, 2.0717e-02, 3.4474e-31, 1.3200e-02, 3.7476e-31, 3.4435e-31,\n",
       "                2.7172e-31, 3.1951e-31, 5.1040e-32, 5.1341e-32, 2.7984e-31, 2.0960e-02,\n",
       "                2.0872e-02, 1.5355e-02, 2.5562e-31, 2.7319e-31, 2.7205e-31, 3.5800e-31,\n",
       "                2.9415e-31, 2.7159e-31, 2.7143e-31, 2.0843e-02, 2.0976e-02, 3.4303e-31,\n",
       "                1.6477e-02, 2.4957e-31, 3.1244e-31, 2.0843e-02, 3.5355e-31, 7.7927e-32,\n",
       "                5.1413e-32, 2.8731e-31, 2.8962e-31, 3.5151e-31, 2.0970e-02, 2.8395e-31,\n",
       "                5.1305e-32, 3.5660e-31])\n",
       "      )\n",
       "    )\n",
       "    (activation_post_process): FusedMovingAvgObsFakeQuantize(\n",
       "      fake_quant_enabled=tensor([1]), observer_enabled=tensor([1]), scale=tensor([0.0197]), zero_point=tensor([0], dtype=torch.int32), dtype=torch.quint8, quant_min=0, quant_max=127, qscheme=torch.per_tensor_affine, reduce_range=True\n",
       "      (activation_post_process): MovingAverageMinMaxObserver(min_val=-7.918681846438617e-29, max_val=2.507524013519287)\n",
       "    )\n",
       "  )\n",
       "  (layer3): Linear(\n",
       "    in_features=128, out_features=1, bias=True\n",
       "    (weight_fake_quant): FusedMovingAvgObsFakeQuantize(\n",
       "      fake_quant_enabled=tensor([1]), observer_enabled=tensor([1]), scale=tensor([0.0009]), zero_point=tensor([0], dtype=torch.int32), dtype=torch.qint8, quant_min=-128, quant_max=127, qscheme=torch.per_channel_symmetric, reduce_range=False\n",
       "      (activation_post_process): MovingAveragePerChannelMinMaxObserver(min_val=tensor([-1.1501e-30]), max_val=tensor([0.1081]))\n",
       "    )\n",
       "    (activation_post_process): FusedMovingAvgObsFakeQuantize(\n",
       "      fake_quant_enabled=tensor([1]), observer_enabled=tensor([1]), scale=tensor([0.1063]), zero_point=tensor([0], dtype=torch.int32), dtype=torch.quint8, quant_min=0, quant_max=127, qscheme=torch.per_tensor_affine, reduce_range=True\n",
       "      (activation_post_process): MovingAverageMinMaxObserver(min_val=8.203132629394531, max_val=13.505492210388184)\n",
       "    )\n",
       "  )\n",
       "  (sigmoid): Sigmoid(\n",
       "    (activation_post_process): FixedQParamsFakeQuantize(\n",
       "      fake_quant_enabled=tensor([1], dtype=torch.uint8), observer_enabled=tensor([1], dtype=torch.uint8), scale=tensor([0.0039]), zero_point=tensor([0], dtype=torch.int32), dtype=torch.quint8, quant_min=0, quant_max=255, qscheme=torch.per_tensor_affine\n",
       "      (activation_post_process): FixedQParamsObserver()\n",
       "    )\n",
       "  )\n",
       "  (dequant): DeQuantStub()\n",
       ")"
      ]
     },
     "execution_count": 31,
     "metadata": {},
     "output_type": "execute_result"
    }
   ],
   "source": [
    "model_qat"
   ]
  },
  {
   "cell_type": "code",
   "execution_count": 26,
   "metadata": {},
   "outputs": [
    {
     "name": "stdout",
     "output_type": "stream",
     "text": [
      "Accuracy: 0.62325\n",
      "Predict time: 10.143555164337158\n"
     ]
    }
   ],
   "source": [
    "model_qat.eval()\n",
    "y_pre = []\n",
    "T = []\n",
    "for _ in range(200):\n",
    "    times = 0\n",
    "    with torch.no_grad():\n",
    "        correct = 0\n",
    "        total = 0\n",
    "        for inputs, labels in test_loader:\n",
    "            stt= time.time()\n",
    "            outputs, _, _, _ = model_qat(inputs)\n",
    "            ent = time.time()\n",
    "            times+=ent-stt\n",
    "            predicted = (outputs.squeeze() > 0.5).float()\n",
    "            total += labels.size(0)\n",
    "            correct += (predicted == labels).sum().item()\n",
    "            y_pre.append(predicted)\n",
    "        T.append(times)\n",
    "T= np.array(T)\n",
    "accuracy0 = correct / total\n",
    "\n",
    "print(f'Accuracy: {accuracy0}')\n",
    "print(f'Predict time: {times}')"
   ]
  },
  {
   "cell_type": "code",
   "execution_count": 27,
   "metadata": {},
   "outputs": [],
   "source": [
    "# Save T:\n",
    "np.save('T_qat.npy', T)"
   ]
  },
  {
   "cell_type": "code",
   "execution_count": 28,
   "metadata": {},
   "outputs": [],
   "source": [
    "# load the data\n",
    "T_qat = np.load('T_qat.npy')"
   ]
  },
  {
   "cell_type": "code",
   "execution_count": 69,
   "metadata": {},
   "outputs": [
    {
     "data": {
      "image/png": "[encoded data removed]",
      "text/plain": [
       "<Figure size 640x480 with 1 Axes>"
      ]
     },
     "metadata": {},
     "output_type": "display_data"
    }
   ],
   "source": [
    "# plt.hist([],bins=100,density =False)\n",
    "plt.hist(T_qat,bins=20,density = False, label = 'QAT')\n",
    "# plt.xlim(0,0.2)\n",
    "# plt.xscale('log')\n",
    "plt.title('Inference time')\n",
    "plt.legend()\n",
    "plt.ylabel('Frequency')\n",
    "plt.xlabel('time')\n",
    "plt.savefig('vt_qat.pdf')"
   ]
  },
  {
   "cell_type": "code",
   "execution_count": 30,
   "metadata": {},
   "outputs": [
    {
     "data": {
      "image/png": "[encoded data removed]",
      "text/plain": [
       "<Figure size 640x480 with 1 Axes>"
      ]
     },
     "metadata": {},
     "output_type": "display_data"
    }
   ],
   "source": [
    "import matplotlib.pyplot as plt\n",
    "lss = []\n",
    "for i in range(len(losses)):\n",
    "    lss.append(losses[i])\n",
    "plt.plot(lss)\n",
    "plt.title('BCE Loss')\n",
    "plt.savefig('Loss.pdf')"
   ]
  },
  {
   "cell_type": "code",
   "execution_count": 35,
   "metadata": {},
   "outputs": [
    {
     "name": "stderr",
     "output_type": "stream",
     "text": [
      "/vols/cms/yhe4823/Acc/env/envs/env/lib/python3.11/site-packages/torch/ao/quantization/observer.py:214: UserWarning: Please use quant_min and quant_max to specify the range for observers.                     reduce_range will be deprecated in a future release of PyTorch.\n",
      "  warnings.warn(\n"
     ]
    },
    {
     "data": {
      "text/plain": [
       "BinaryClassificationModelQ(\n",
       "  (quant): Quantize(scale=tensor([0.2662]), zero_point=tensor([30]), dtype=torch.quint8)\n",
       "  (layer0): QuantizedLinear(in_features=140, out_features=1024, scale=0.04846855625510216, zero_point=0, qscheme=torch.per_channel_affine)\n",
       "  (layer1): QuantizedLinear(in_features=1024, out_features=512, scale=0.03324233740568161, zero_point=0, qscheme=torch.per_channel_affine)\n",
       "  (layer2): QuantizedLinear(in_features=512, out_features=128, scale=0.019744284451007843, zero_point=0, qscheme=torch.per_channel_affine)\n",
       "  (layer3): QuantizedLinear(in_features=128, out_features=1, scale=0.10634245723485947, zero_point=0, qscheme=torch.per_channel_affine)\n",
       "  (sigmoid): Sigmoid()\n",
       "  (dequant): DeQuantize()\n",
       ")"
      ]
     },
     "execution_count": 35,
     "metadata": {},
     "output_type": "execute_result"
    }
   ],
   "source": [
    "model_qat.eval()\n",
    "model_qat.qconfig = torch.quantization.get_default_qconfig('fbgemm')\n",
    "model_qat_prepared = torch.quantization.prepare(model_qat, inplace=False)\n",
    "quantized_model = torch.quantization.convert(model_qat_prepared, inplace=False)\n",
    "quantized_model.eval()"
   ]
  },
  {
   "cell_type": "code",
   "execution_count": 36,
   "metadata": {},
   "outputs": [
    {
     "name": "stdout",
     "output_type": "stream",
     "text": [
      "Accuracy = 0.62325\n",
      "Predict time: 0.0633857250213623\n"
     ]
    }
   ],
   "source": [
    "\n",
    "for _ in range(200):\n",
    "    correct = 0\n",
    "    total = 0\n",
    "    Qtimes = 0\n",
    "    with torch.no_grad():\n",
    "        for inputs, labels in test_loader:\n",
    "            stt = time.time()\n",
    "            outputs, _,  _ , _ = quantized_model(inputs)\n",
    "            ent = time.time()\n",
    "            Qtimes+=ent-stt\n",
    "            predicted = (outputs.squeeze() > 0.5).float()\n",
    "            total += labels.size(0)\n",
    "            correct += (predicted == labels).sum().item()\n",
    "    QT.append(Qtimes)\n",
    "QT=np.array(QT)\n",
    "accuracy2 = correct / total\n",
    "print(f'Accuracy = {accuracy2}')\n",
    "print(f'Predict time: {Qtimes}')"
   ]
  },
  {
   "cell_type": "code",
   "execution_count": 37,
   "metadata": {},
   "outputs": [],
   "source": [
    "# Save T:\n",
    "np.save('T_qq.npy', QT)"
   ]
  },
  {
   "cell_type": "code",
   "execution_count": null,
   "metadata": {},
   "outputs": [],
   "source": [
    "# load the data\n",
    "T_qq = np.load('T_qq.npy')"
   ]
  },
  {
   "cell_type": "code",
   "execution_count": 66,
   "metadata": {},
   "outputs": [
    {
     "ename": "NameError",
     "evalue": "name 'T_qq' is not defined",
     "output_type": "error",
     "traceback": [
      "\u001b[0;31m---------------------------------------------------------------------------\u001b[0m",
      "\u001b[0;31mNameError\u001b[0m                                 Traceback (most recent call last)",
      "Cell \u001b[0;32mIn[66], line 2\u001b[0m\n\u001b[1;32m      1\u001b[0m plt\u001b[38;5;241m.\u001b[39mhist([],bins\u001b[38;5;241m=\u001b[39m\u001b[38;5;241m100\u001b[39m,density \u001b[38;5;241m=\u001b[39m\u001b[38;5;28;01mFalse\u001b[39;00m)\n\u001b[0;32m----> 2\u001b[0m plt\u001b[38;5;241m.\u001b[39mhist(\u001b[43mT_qq\u001b[49m,bins\u001b[38;5;241m=\u001b[39m\u001b[38;5;241m20\u001b[39m,density \u001b[38;5;241m=\u001b[39m \u001b[38;5;28;01mFalse\u001b[39;00m, label \u001b[38;5;241m=\u001b[39m \u001b[38;5;124m'\u001b[39m\u001b[38;5;124mQAT\u001b[39m\u001b[38;5;124m'\u001b[39m)\n\u001b[1;32m      3\u001b[0m \u001b[38;5;66;03m# plt.xlim(0,0.2)\u001b[39;00m\n\u001b[1;32m      4\u001b[0m \u001b[38;5;66;03m# plt.xscale('log')\u001b[39;00m\n\u001b[1;32m      5\u001b[0m plt\u001b[38;5;241m.\u001b[39mtitle(\u001b[38;5;124m'\u001b[39m\u001b[38;5;124mInference time\u001b[39m\u001b[38;5;124m'\u001b[39m)\n",
      "\u001b[0;31mNameError\u001b[0m: name 'T_qq' is not defined"
     ]
    },
    {
     "data": {
      "image/png": "[encoded data removed]",
      "text/plain": [
       "<Figure size 640x480 with 1 Axes>"
      ]
     },
     "metadata": {},
     "output_type": "display_data"
    }
   ],
   "source": [
    "plt.hist([],bins=100,density =False)\n",
    "plt.hist(T_qq,bins=20,density = False, label = 'QAT')\n",
    "# plt.xlim(0,0.2)\n",
    "# plt.xscale('log')\n",
    "plt.title('Inference time')\n",
    "plt.legend()\n",
    "plt.ylabel('Frequency')\n",
    "plt.xlabel('time')\n",
    "plt.savefig('vt_qat.pdf')"
   ]
  },
  {
   "cell_type": "code",
   "execution_count": 32,
   "metadata": {},
   "outputs": [
    {
     "name": "stderr",
     "output_type": "stream",
     "text": [
      "/vols/cms/yhe4823/Acc/env/envs/env/lib/python3.11/site-packages/torch/ao/quantization/observer.py:214: UserWarning: Please use quant_min and quant_max to specify the range for observers.                     reduce_range will be deprecated in a future release of PyTorch.\n",
      "  warnings.warn(\n"
     ]
    }
   ],
   "source": [
    "model_qat.eval()\n",
    "quantized_model = torch.quantization.quantize_dynamic(\n",
    "    model_qat,  \n",
    "    {nn.Linear},  \n",
    "    dtype=torch.qint8\n",
    ")\n",
    "quantized_model.eval()\n",
    "QT = []"
   ]
  },
  {
   "cell_type": "code",
   "execution_count": 34,
   "metadata": {},
   "outputs": [
    {
     "ename": "AttributeError",
     "evalue": "'FusedMovingAvgObsFakeQuantize' object has no attribute 'activation_post_process'",
     "output_type": "error",
     "traceback": [
      "\u001b[0;31m---------------------------------------------------------------------------\u001b[0m",
      "\u001b[0;31mAttributeError\u001b[0m                            Traceback (most recent call last)",
      "Cell \u001b[0;32mIn[34], line 8\u001b[0m\n\u001b[1;32m      6\u001b[0m \u001b[38;5;28;01mfor\u001b[39;00m inputs, labels \u001b[38;5;129;01min\u001b[39;00m test_loader:\n\u001b[1;32m      7\u001b[0m     stt \u001b[38;5;241m=\u001b[39m time\u001b[38;5;241m.\u001b[39mtime()\n\u001b[0;32m----> 8\u001b[0m     outputs, _,  _ , _ \u001b[38;5;241m=\u001b[39m \u001b[43mquantized_model\u001b[49m\u001b[43m(\u001b[49m\u001b[43minputs\u001b[49m\u001b[43m)\u001b[49m\n\u001b[1;32m      9\u001b[0m     ent \u001b[38;5;241m=\u001b[39m time\u001b[38;5;241m.\u001b[39mtime()\n\u001b[1;32m     10\u001b[0m     Qtimes\u001b[38;5;241m+\u001b[39m\u001b[38;5;241m=\u001b[39ment\u001b[38;5;241m-\u001b[39mstt\n",
      "File \u001b[0;32m/vols/cms/yhe4823/Acc/env/envs/env/lib/python3.11/site-packages/torch/nn/modules/module.py:1501\u001b[0m, in \u001b[0;36mModule._call_impl\u001b[0;34m(self, *args, **kwargs)\u001b[0m\n\u001b[1;32m   1496\u001b[0m \u001b[38;5;66;03m# If we don't have any hooks, we want to skip the rest of the logic in\u001b[39;00m\n\u001b[1;32m   1497\u001b[0m \u001b[38;5;66;03m# this function, and just call forward.\u001b[39;00m\n\u001b[1;32m   1498\u001b[0m \u001b[38;5;28;01mif\u001b[39;00m \u001b[38;5;129;01mnot\u001b[39;00m (\u001b[38;5;28mself\u001b[39m\u001b[38;5;241m.\u001b[39m_backward_hooks \u001b[38;5;129;01mor\u001b[39;00m \u001b[38;5;28mself\u001b[39m\u001b[38;5;241m.\u001b[39m_backward_pre_hooks \u001b[38;5;129;01mor\u001b[39;00m \u001b[38;5;28mself\u001b[39m\u001b[38;5;241m.\u001b[39m_forward_hooks \u001b[38;5;129;01mor\u001b[39;00m \u001b[38;5;28mself\u001b[39m\u001b[38;5;241m.\u001b[39m_forward_pre_hooks\n\u001b[1;32m   1499\u001b[0m         \u001b[38;5;129;01mor\u001b[39;00m _global_backward_pre_hooks \u001b[38;5;129;01mor\u001b[39;00m _global_backward_hooks\n\u001b[1;32m   1500\u001b[0m         \u001b[38;5;129;01mor\u001b[39;00m _global_forward_hooks \u001b[38;5;129;01mor\u001b[39;00m _global_forward_pre_hooks):\n\u001b[0;32m-> 1501\u001b[0m     \u001b[38;5;28;01mreturn\u001b[39;00m \u001b[43mforward_call\u001b[49m\u001b[43m(\u001b[49m\u001b[38;5;241;43m*\u001b[39;49m\u001b[43margs\u001b[49m\u001b[43m,\u001b[49m\u001b[43m \u001b[49m\u001b[38;5;241;43m*\u001b[39;49m\u001b[38;5;241;43m*\u001b[39;49m\u001b[43mkwargs\u001b[49m\u001b[43m)\u001b[49m\n\u001b[1;32m   1502\u001b[0m \u001b[38;5;66;03m# Do not call functions when jit is used\u001b[39;00m\n\u001b[1;32m   1503\u001b[0m full_backward_hooks, non_full_backward_hooks \u001b[38;5;241m=\u001b[39m [], []\n",
      "Cell \u001b[0;32mIn[18], line 20\u001b[0m, in \u001b[0;36mBinaryClassificationModelQ.forward\u001b[0;34m(self, x)\u001b[0m\n\u001b[1;32m     17\u001b[0m timings[\u001b[38;5;124m'\u001b[39m\u001b[38;5;124mquant_time\u001b[39m\u001b[38;5;124m'\u001b[39m] \u001b[38;5;241m=\u001b[39m time\u001b[38;5;241m.\u001b[39mtime() \u001b[38;5;241m-\u001b[39m start_time\n\u001b[1;32m     19\u001b[0m start_time \u001b[38;5;241m=\u001b[39m time\u001b[38;5;241m.\u001b[39mtime()\n\u001b[0;32m---> 20\u001b[0m x \u001b[38;5;241m=\u001b[39m torch\u001b[38;5;241m.\u001b[39mrelu(\u001b[38;5;28;43mself\u001b[39;49m\u001b[38;5;241;43m.\u001b[39;49m\u001b[43mlayer0\u001b[49m\u001b[43m(\u001b[49m\u001b[43mx\u001b[49m\u001b[43m)\u001b[49m)\n\u001b[1;32m     21\u001b[0m x \u001b[38;5;241m=\u001b[39m torch\u001b[38;5;241m.\u001b[39mrelu(\u001b[38;5;28mself\u001b[39m\u001b[38;5;241m.\u001b[39mlayer1(x))\n\u001b[1;32m     22\u001b[0m x \u001b[38;5;241m=\u001b[39m torch\u001b[38;5;241m.\u001b[39mrelu(\u001b[38;5;28mself\u001b[39m\u001b[38;5;241m.\u001b[39mlayer2(x))\n",
      "File \u001b[0;32m/vols/cms/yhe4823/Acc/env/envs/env/lib/python3.11/site-packages/torch/nn/modules/module.py:1501\u001b[0m, in \u001b[0;36mModule._call_impl\u001b[0;34m(self, *args, **kwargs)\u001b[0m\n\u001b[1;32m   1496\u001b[0m \u001b[38;5;66;03m# If we don't have any hooks, we want to skip the rest of the logic in\u001b[39;00m\n\u001b[1;32m   1497\u001b[0m \u001b[38;5;66;03m# this function, and just call forward.\u001b[39;00m\n\u001b[1;32m   1498\u001b[0m \u001b[38;5;28;01mif\u001b[39;00m \u001b[38;5;129;01mnot\u001b[39;00m (\u001b[38;5;28mself\u001b[39m\u001b[38;5;241m.\u001b[39m_backward_hooks \u001b[38;5;129;01mor\u001b[39;00m \u001b[38;5;28mself\u001b[39m\u001b[38;5;241m.\u001b[39m_backward_pre_hooks \u001b[38;5;129;01mor\u001b[39;00m \u001b[38;5;28mself\u001b[39m\u001b[38;5;241m.\u001b[39m_forward_hooks \u001b[38;5;129;01mor\u001b[39;00m \u001b[38;5;28mself\u001b[39m\u001b[38;5;241m.\u001b[39m_forward_pre_hooks\n\u001b[1;32m   1499\u001b[0m         \u001b[38;5;129;01mor\u001b[39;00m _global_backward_pre_hooks \u001b[38;5;129;01mor\u001b[39;00m _global_backward_hooks\n\u001b[1;32m   1500\u001b[0m         \u001b[38;5;129;01mor\u001b[39;00m _global_forward_hooks \u001b[38;5;129;01mor\u001b[39;00m _global_forward_pre_hooks):\n\u001b[0;32m-> 1501\u001b[0m     \u001b[38;5;28;01mreturn\u001b[39;00m \u001b[43mforward_call\u001b[49m\u001b[43m(\u001b[49m\u001b[38;5;241;43m*\u001b[39;49m\u001b[43margs\u001b[49m\u001b[43m,\u001b[49m\u001b[43m \u001b[49m\u001b[38;5;241;43m*\u001b[39;49m\u001b[38;5;241;43m*\u001b[39;49m\u001b[43mkwargs\u001b[49m\u001b[43m)\u001b[49m\n\u001b[1;32m   1502\u001b[0m \u001b[38;5;66;03m# Do not call functions when jit is used\u001b[39;00m\n\u001b[1;32m   1503\u001b[0m full_backward_hooks, non_full_backward_hooks \u001b[38;5;241m=\u001b[39m [], []\n",
      "File \u001b[0;32m/vols/cms/yhe4823/Acc/env/envs/env/lib/python3.11/site-packages/torch/ao/nn/qat/modules/linear.py:41\u001b[0m, in \u001b[0;36mLinear.forward\u001b[0;34m(self, input)\u001b[0m\n\u001b[1;32m     40\u001b[0m \u001b[38;5;28;01mdef\u001b[39;00m \u001b[38;5;21mforward\u001b[39m(\u001b[38;5;28mself\u001b[39m, \u001b[38;5;28minput\u001b[39m):\n\u001b[0;32m---> 41\u001b[0m     \u001b[38;5;28;01mreturn\u001b[39;00m F\u001b[38;5;241m.\u001b[39mlinear(\u001b[38;5;28minput\u001b[39m, \u001b[38;5;28;43mself\u001b[39;49m\u001b[38;5;241;43m.\u001b[39;49m\u001b[43mweight_fake_quant\u001b[49m\u001b[43m(\u001b[49m\u001b[38;5;28;43mself\u001b[39;49m\u001b[38;5;241;43m.\u001b[39;49m\u001b[43mweight\u001b[49m\u001b[43m)\u001b[49m, \u001b[38;5;28mself\u001b[39m\u001b[38;5;241m.\u001b[39mbias)\n",
      "File \u001b[0;32m/vols/cms/yhe4823/Acc/env/envs/env/lib/python3.11/site-packages/torch/nn/modules/module.py:1501\u001b[0m, in \u001b[0;36mModule._call_impl\u001b[0;34m(self, *args, **kwargs)\u001b[0m\n\u001b[1;32m   1496\u001b[0m \u001b[38;5;66;03m# If we don't have any hooks, we want to skip the rest of the logic in\u001b[39;00m\n\u001b[1;32m   1497\u001b[0m \u001b[38;5;66;03m# this function, and just call forward.\u001b[39;00m\n\u001b[1;32m   1498\u001b[0m \u001b[38;5;28;01mif\u001b[39;00m \u001b[38;5;129;01mnot\u001b[39;00m (\u001b[38;5;28mself\u001b[39m\u001b[38;5;241m.\u001b[39m_backward_hooks \u001b[38;5;129;01mor\u001b[39;00m \u001b[38;5;28mself\u001b[39m\u001b[38;5;241m.\u001b[39m_backward_pre_hooks \u001b[38;5;129;01mor\u001b[39;00m \u001b[38;5;28mself\u001b[39m\u001b[38;5;241m.\u001b[39m_forward_hooks \u001b[38;5;129;01mor\u001b[39;00m \u001b[38;5;28mself\u001b[39m\u001b[38;5;241m.\u001b[39m_forward_pre_hooks\n\u001b[1;32m   1499\u001b[0m         \u001b[38;5;129;01mor\u001b[39;00m _global_backward_pre_hooks \u001b[38;5;129;01mor\u001b[39;00m _global_backward_hooks\n\u001b[1;32m   1500\u001b[0m         \u001b[38;5;129;01mor\u001b[39;00m _global_forward_hooks \u001b[38;5;129;01mor\u001b[39;00m _global_forward_pre_hooks):\n\u001b[0;32m-> 1501\u001b[0m     \u001b[38;5;28;01mreturn\u001b[39;00m \u001b[43mforward_call\u001b[49m\u001b[43m(\u001b[49m\u001b[38;5;241;43m*\u001b[39;49m\u001b[43margs\u001b[49m\u001b[43m,\u001b[49m\u001b[43m \u001b[49m\u001b[38;5;241;43m*\u001b[39;49m\u001b[38;5;241;43m*\u001b[39;49m\u001b[43mkwargs\u001b[49m\u001b[43m)\u001b[49m\n\u001b[1;32m   1502\u001b[0m \u001b[38;5;66;03m# Do not call functions when jit is used\u001b[39;00m\n\u001b[1;32m   1503\u001b[0m full_backward_hooks, non_full_backward_hooks \u001b[38;5;241m=\u001b[39m [], []\n",
      "File \u001b[0;32m/vols/cms/yhe4823/Acc/env/envs/env/lib/python3.11/site-packages/torch/ao/quantization/fake_quantize.py:346\u001b[0m, in \u001b[0;36mFusedMovingAvgObsFakeQuantize.forward\u001b[0;34m(self, X)\u001b[0m\n\u001b[1;32m    341\u001b[0m \u001b[38;5;28;01mdef\u001b[39;00m \u001b[38;5;21mforward\u001b[39m(\u001b[38;5;28mself\u001b[39m, X: torch\u001b[38;5;241m.\u001b[39mTensor) \u001b[38;5;241m-\u001b[39m\u001b[38;5;241m>\u001b[39m torch\u001b[38;5;241m.\u001b[39mTensor:\n\u001b[1;32m    342\u001b[0m     \u001b[38;5;28;01mreturn\u001b[39;00m torch\u001b[38;5;241m.\u001b[39mfused_moving_avg_obs_fake_quant(\n\u001b[1;32m    343\u001b[0m         X,\n\u001b[1;32m    344\u001b[0m         \u001b[38;5;28mself\u001b[39m\u001b[38;5;241m.\u001b[39mobserver_enabled,\n\u001b[1;32m    345\u001b[0m         \u001b[38;5;28mself\u001b[39m\u001b[38;5;241m.\u001b[39mfake_quant_enabled,\n\u001b[0;32m--> 346\u001b[0m         \u001b[38;5;28;43mself\u001b[39;49m\u001b[38;5;241;43m.\u001b[39;49m\u001b[43mactivation_post_process\u001b[49m\u001b[38;5;241m.\u001b[39mmin_val,\n\u001b[1;32m    347\u001b[0m         \u001b[38;5;28mself\u001b[39m\u001b[38;5;241m.\u001b[39mactivation_post_process\u001b[38;5;241m.\u001b[39mmax_val,\n\u001b[1;32m    348\u001b[0m         \u001b[38;5;28mself\u001b[39m\u001b[38;5;241m.\u001b[39mscale,\n\u001b[1;32m    349\u001b[0m         \u001b[38;5;28mself\u001b[39m\u001b[38;5;241m.\u001b[39mzero_point,\n\u001b[1;32m    350\u001b[0m         \u001b[38;5;28mself\u001b[39m\u001b[38;5;241m.\u001b[39mactivation_post_process\u001b[38;5;241m.\u001b[39maveraging_constant,\n\u001b[1;32m    351\u001b[0m         \u001b[38;5;28mself\u001b[39m\u001b[38;5;241m.\u001b[39mactivation_post_process\u001b[38;5;241m.\u001b[39mquant_min,\n\u001b[1;32m    352\u001b[0m         \u001b[38;5;28mself\u001b[39m\u001b[38;5;241m.\u001b[39mactivation_post_process\u001b[38;5;241m.\u001b[39mquant_max,\n\u001b[1;32m    353\u001b[0m         \u001b[38;5;28mself\u001b[39m\u001b[38;5;241m.\u001b[39mch_axis,\n\u001b[1;32m    354\u001b[0m         \u001b[38;5;28mself\u001b[39m\u001b[38;5;241m.\u001b[39mis_per_channel,\n\u001b[1;32m    355\u001b[0m         \u001b[38;5;28mself\u001b[39m\u001b[38;5;241m.\u001b[39mis_symmetric_quant,\n\u001b[1;32m    356\u001b[0m     )\n",
      "File \u001b[0;32m/vols/cms/yhe4823/Acc/env/envs/env/lib/python3.11/site-packages/torch/nn/modules/module.py:1614\u001b[0m, in \u001b[0;36mModule.__getattr__\u001b[0;34m(self, name)\u001b[0m\n\u001b[1;32m   1612\u001b[0m     \u001b[38;5;28;01mif\u001b[39;00m name \u001b[38;5;129;01min\u001b[39;00m modules:\n\u001b[1;32m   1613\u001b[0m         \u001b[38;5;28;01mreturn\u001b[39;00m modules[name]\n\u001b[0;32m-> 1614\u001b[0m \u001b[38;5;28;01mraise\u001b[39;00m \u001b[38;5;167;01mAttributeError\u001b[39;00m(\u001b[38;5;124m\"\u001b[39m\u001b[38;5;124m'\u001b[39m\u001b[38;5;132;01m{}\u001b[39;00m\u001b[38;5;124m'\u001b[39m\u001b[38;5;124m object has no attribute \u001b[39m\u001b[38;5;124m'\u001b[39m\u001b[38;5;132;01m{}\u001b[39;00m\u001b[38;5;124m'\u001b[39m\u001b[38;5;124m\"\u001b[39m\u001b[38;5;241m.\u001b[39mformat(\n\u001b[1;32m   1615\u001b[0m     \u001b[38;5;28mtype\u001b[39m(\u001b[38;5;28mself\u001b[39m)\u001b[38;5;241m.\u001b[39m\u001b[38;5;18m__name__\u001b[39m, name))\n",
      "\u001b[0;31mAttributeError\u001b[0m: 'FusedMovingAvgObsFakeQuantize' object has no attribute 'activation_post_process'"
     ]
    }
   ],
   "source": [
    "\n",
    "for _ in range(200):\n",
    "    correct = 0\n",
    "    total = 0\n",
    "    Qtimes = 0\n",
    "    with torch.no_grad():\n",
    "        for inputs, labels in test_loader:\n",
    "            stt = time.time()\n",
    "            outputs, _,  _ , _ = quantized_model(inputs)\n",
    "            ent = time.time()\n",
    "            Qtimes+=ent-stt\n",
    "            predicted = (outputs.squeeze() > 0.5).float()\n",
    "            total += labels.size(0)\n",
    "            correct += (predicted == labels).sum().item()\n",
    "    QT.append(Qtimes)\n",
    "QT=np.array(QT)\n",
    "accuracy2 = correct / total\n",
    "print(f'Accuracy = {accuracy2}')\n",
    "print(f'Predict time: {Qtimes}')"
   ]
  },
  {
   "cell_type": "code",
   "execution_count": 62,
   "metadata": {},
   "outputs": [],
   "source": [
    "batch = 1024\n",
    "\n",
    "df = pd.read_parquet('df.parquet')\n",
    "X = pd.read_parquet('x.parquet').values  \n",
    "df['proc'] = df['proc'].apply(lambda x: 1 if x != 0 else 0)\n",
    "y = df['proc'].values  \n",
    "\n",
    "X_tensor = torch.tensor(X, dtype=torch.float32)\n",
    "y_tensor = torch.tensor(y, dtype=torch.float32)\n",
    "\n",
    "X_train, X_test, y_train, y_test = train_test_split(X_tensor, y_tensor, test_size=0.2, random_state=42)\n",
    "\n",
    "train_data = TensorDataset(X_train, y_train)\n",
    "test_data = TensorDataset(X_test, y_test)\n",
    "\n",
    "train_loader = DataLoader(train_data, batch_size=batch, shuffle=True)\n",
    "test_loader = DataLoader(test_data, batch_size=batch, shuffle=False)\n"
   ]
  },
  {
   "cell_type": "code",
   "execution_count": 63,
   "metadata": {},
   "outputs": [],
   "source": [
    "num_epochs = 20\n",
    "layers = [1024, 512, 128]\n",
    "lr = 0.001"
   ]
  },
  {
   "cell_type": "code",
   "execution_count": 64,
   "metadata": {},
   "outputs": [
    {
     "name": "stderr",
     "output_type": "stream",
     "text": [
      "/vols/cms/yhe4823/Acc/env/envs/env/lib/python3.11/site-packages/torch/ao/quantization/observer.py:214: UserWarning: Please use quant_min and quant_max to specify the range for observers.                     reduce_range will be deprecated in a future release of PyTorch.\n",
      "  warnings.warn(\n"
     ]
    },
    {
     "data": {
      "text/plain": [
       "BinaryClassificationModelQ(\n",
       "  (quant): QuantStub(\n",
       "    (activation_post_process): FusedMovingAvgObsFakeQuantize(\n",
       "      fake_quant_enabled=tensor([1]), observer_enabled=tensor([1]), scale=tensor([1.]), zero_point=tensor([0], dtype=torch.int32), dtype=torch.quint8, quant_min=0, quant_max=127, qscheme=torch.per_tensor_affine, reduce_range=True\n",
       "      (activation_post_process): MovingAverageMinMaxObserver(min_val=inf, max_val=-inf)\n",
       "    )\n",
       "  )\n",
       "  (layer0): Linear(\n",
       "    in_features=140, out_features=1024, bias=True\n",
       "    (weight_fake_quant): FusedMovingAvgObsFakeQuantize(\n",
       "      fake_quant_enabled=tensor([1]), observer_enabled=tensor([1]), scale=tensor([1.]), zero_point=tensor([0], dtype=torch.int32), dtype=torch.qint8, quant_min=-128, quant_max=127, qscheme=torch.per_channel_symmetric, reduce_range=False\n",
       "      (activation_post_process): MovingAveragePerChannelMinMaxObserver(min_val=tensor([]), max_val=tensor([]))\n",
       "    )\n",
       "    (activation_post_process): FusedMovingAvgObsFakeQuantize(\n",
       "      fake_quant_enabled=tensor([1]), observer_enabled=tensor([1]), scale=tensor([1.]), zero_point=tensor([0], dtype=torch.int32), dtype=torch.quint8, quant_min=0, quant_max=127, qscheme=torch.per_tensor_affine, reduce_range=True\n",
       "      (activation_post_process): MovingAverageMinMaxObserver(min_val=inf, max_val=-inf)\n",
       "    )\n",
       "  )\n",
       "  (layer1): Linear(\n",
       "    in_features=1024, out_features=512, bias=True\n",
       "    (weight_fake_quant): FusedMovingAvgObsFakeQuantize(\n",
       "      fake_quant_enabled=tensor([1]), observer_enabled=tensor([1]), scale=tensor([1.]), zero_point=tensor([0], dtype=torch.int32), dtype=torch.qint8, quant_min=-128, quant_max=127, qscheme=torch.per_channel_symmetric, reduce_range=False\n",
       "      (activation_post_process): MovingAveragePerChannelMinMaxObserver(min_val=tensor([]), max_val=tensor([]))\n",
       "    )\n",
       "    (activation_post_process): FusedMovingAvgObsFakeQuantize(\n",
       "      fake_quant_enabled=tensor([1]), observer_enabled=tensor([1]), scale=tensor([1.]), zero_point=tensor([0], dtype=torch.int32), dtype=torch.quint8, quant_min=0, quant_max=127, qscheme=torch.per_tensor_affine, reduce_range=True\n",
       "      (activation_post_process): MovingAverageMinMaxObserver(min_val=inf, max_val=-inf)\n",
       "    )\n",
       "  )\n",
       "  (layer2): Linear(\n",
       "    in_features=512, out_features=128, bias=True\n",
       "    (weight_fake_quant): FusedMovingAvgObsFakeQuantize(\n",
       "      fake_quant_enabled=tensor([1]), observer_enabled=tensor([1]), scale=tensor([1.]), zero_point=tensor([0], dtype=torch.int32), dtype=torch.qint8, quant_min=-128, quant_max=127, qscheme=torch.per_channel_symmetric, reduce_range=False\n",
       "      (activation_post_process): MovingAveragePerChannelMinMaxObserver(min_val=tensor([]), max_val=tensor([]))\n",
       "    )\n",
       "    (activation_post_process): FusedMovingAvgObsFakeQuantize(\n",
       "      fake_quant_enabled=tensor([1]), observer_enabled=tensor([1]), scale=tensor([1.]), zero_point=tensor([0], dtype=torch.int32), dtype=torch.quint8, quant_min=0, quant_max=127, qscheme=torch.per_tensor_affine, reduce_range=True\n",
       "      (activation_post_process): MovingAverageMinMaxObserver(min_val=inf, max_val=-inf)\n",
       "    )\n",
       "  )\n",
       "  (layer3): Linear(\n",
       "    in_features=128, out_features=1, bias=True\n",
       "    (weight_fake_quant): FusedMovingAvgObsFakeQuantize(\n",
       "      fake_quant_enabled=tensor([1]), observer_enabled=tensor([1]), scale=tensor([1.]), zero_point=tensor([0], dtype=torch.int32), dtype=torch.qint8, quant_min=-128, quant_max=127, qscheme=torch.per_channel_symmetric, reduce_range=False\n",
       "      (activation_post_process): MovingAveragePerChannelMinMaxObserver(min_val=tensor([]), max_val=tensor([]))\n",
       "    )\n",
       "    (activation_post_process): FusedMovingAvgObsFakeQuantize(\n",
       "      fake_quant_enabled=tensor([1]), observer_enabled=tensor([1]), scale=tensor([1.]), zero_point=tensor([0], dtype=torch.int32), dtype=torch.quint8, quant_min=0, quant_max=127, qscheme=torch.per_tensor_affine, reduce_range=True\n",
       "      (activation_post_process): MovingAverageMinMaxObserver(min_val=inf, max_val=-inf)\n",
       "    )\n",
       "  )\n",
       "  (sigmoid): Sigmoid(\n",
       "    (activation_post_process): FixedQParamsFakeQuantize(\n",
       "      fake_quant_enabled=tensor([1], dtype=torch.uint8), observer_enabled=tensor([1], dtype=torch.uint8), scale=tensor([0.0039]), zero_point=tensor([0], dtype=torch.int32), dtype=torch.quint8, quant_min=0, quant_max=255, qscheme=torch.per_tensor_affine\n",
       "      (activation_post_process): FixedQParamsObserver()\n",
       "    )\n",
       "  )\n",
       "  (dequant): DeQuantStub()\n",
       ")"
      ]
     },
     "execution_count": 64,
     "metadata": {},
     "output_type": "execute_result"
    }
   ],
   "source": [
    "class BinaryClassificationModelQ(nn.Module):\n",
    "    def __init__(self):\n",
    "        super(BinaryClassificationModelQ, self).__init__()\n",
    "        self.quant = torch.quantization.QuantStub()\n",
    "        self.layer0 = nn.Linear(X.shape[1], layers[0])\n",
    "        self.layer1 = nn.Linear(layers[0], layers[1])\n",
    "        self.layer2 = nn.Linear(layers[1], layers[2])\n",
    "        self.layer3 = nn.Linear(layers[2], 1)\n",
    "        self.sigmoid = nn.Sigmoid()\n",
    "        self.dequant = torch.quantization.DeQuantStub()\n",
    "    \n",
    "    def forward(self, x):\n",
    "        timings = {}\n",
    "        \n",
    "        start_time = time.time()\n",
    "        x = self.quant(x)\n",
    "        timings['quant_time'] = time.time() - start_time\n",
    "\n",
    "        start_time = time.time()\n",
    "        x = torch.relu(self.layer0(x))\n",
    "        x = torch.relu(self.layer1(x))\n",
    "        x = torch.relu(self.layer2(x))\n",
    "        timings['fc_time'] = time.time() - start_time\n",
    "\n",
    "        start_time = time.time()\n",
    "        x = self.sigmoid(self.layer3(x))\n",
    "        x = self.dequant(x)\n",
    "        timings['dequant_time'] = time.time() - start_time\n",
    "\n",
    "        return x, timings['quant_time'], timings['fc_time'], timings['dequant_time']\n",
    "\n",
    "modelQ = BinaryClassificationModelQ()\n",
    "modelQ.qconfig = torch.quantization.get_default_qat_qconfig('fbgemm')\n",
    "torch.quantization.prepare_qat(modelQ, inplace=True)\n"
   ]
  },
  {
   "cell_type": "code",
   "execution_count": 65,
   "metadata": {},
   "outputs": [
    {
     "name": "stderr",
     "output_type": "stream",
     "text": [
      "Epochs:   5%|▌         | 1/20 [00:34<10:47, 34.08s/it]"
     ]
    },
    {
     "name": "stdout",
     "output_type": "stream",
     "text": [
      "Epoch 1, Loss: 0.7136371630303403\n"
     ]
    },
    {
     "name": "stderr",
     "output_type": "stream",
     "text": [
      "Epochs:  10%|█         | 2/20 [01:11<10:46, 35.92s/it]"
     ]
    },
    {
     "name": "stdout",
     "output_type": "stream",
     "text": [
      "Epoch 2, Loss: 1.5702622748435813\n"
     ]
    },
    {
     "name": "stderr",
     "output_type": "stream",
     "text": [
      "Epochs:  15%|█▌        | 3/20 [01:45<09:54, 34.98s/it]"
     ]
    },
    {
     "name": "stdout",
     "output_type": "stream",
     "text": [
      "Epoch 3, Loss: 2.0709333698800267\n"
     ]
    },
    {
     "name": "stderr",
     "output_type": "stream",
     "text": [
      "Epochs:  20%|██        | 4/20 [02:19<09:16, 34.80s/it]"
     ]
    },
    {
     "name": "stdout",
     "output_type": "stream",
     "text": [
      "Epoch 4, Loss: 2.0712458706916648\n"
     ]
    },
    {
     "name": "stderr",
     "output_type": "stream",
     "text": [
      "Epochs:  25%|██▌       | 5/20 [02:55<08:46, 35.07s/it]"
     ]
    },
    {
     "name": "stdout",
     "output_type": "stream",
     "text": [
      "Epoch 5, Loss: 2.07147615513903\n"
     ]
    },
    {
     "name": "stderr",
     "output_type": "stream",
     "text": [
      "Epochs:  30%|███       | 6/20 [03:28<08:04, 34.60s/it]"
     ]
    },
    {
     "name": "stdout",
     "output_type": "stream",
     "text": [
      "Epoch 6, Loss: 2.0717558531050986\n"
     ]
    },
    {
     "name": "stderr",
     "output_type": "stream",
     "text": [
      "Epochs:  35%|███▌      | 7/20 [04:03<07:31, 34.75s/it]"
     ]
    },
    {
     "name": "stdout",
     "output_type": "stream",
     "text": [
      "Epoch 7, Loss: 2.07114729221831\n"
     ]
    },
    {
     "name": "stderr",
     "output_type": "stream",
     "text": [
      "Epochs:  40%|████      | 8/20 [04:37<06:53, 34.50s/it]"
     ]
    },
    {
     "name": "stdout",
     "output_type": "stream",
     "text": [
      "Epoch 8, Loss: 2.071393979356644\n"
     ]
    },
    {
     "name": "stderr",
     "output_type": "stream",
     "text": [
      "Epochs:  45%|████▌     | 9/20 [05:13<06:23, 34.83s/it]"
     ]
    },
    {
     "name": "stdout",
     "output_type": "stream",
     "text": [
      "Epoch 9, Loss: 2.0714104277022343\n"
     ]
    },
    {
     "name": "stderr",
     "output_type": "stream",
     "text": [
      "Epochs:  50%|█████     | 10/20 [05:48<05:48, 34.82s/it]"
     ]
    },
    {
     "name": "stdout",
     "output_type": "stream",
     "text": [
      "Epoch 10, Loss: 2.071772364859885\n"
     ]
    },
    {
     "name": "stderr",
     "output_type": "stream",
     "text": [
      "Epochs:  55%|█████▌    | 11/20 [06:22<05:11, 34.61s/it]"
     ]
    },
    {
     "name": "stdout",
     "output_type": "stream",
     "text": [
      "Epoch 11, Loss: 2.0715255737304688\n"
     ]
    },
    {
     "name": "stderr",
     "output_type": "stream",
     "text": [
      "Epochs:  60%|██████    | 12/20 [06:57<04:38, 34.86s/it]"
     ]
    },
    {
     "name": "stdout",
     "output_type": "stream",
     "text": [
      "Epoch 12, Loss: 2.0709334916256843\n"
     ]
    },
    {
     "name": "stderr",
     "output_type": "stream",
     "text": [
      "Epochs:  65%|██████▌   | 13/20 [07:33<04:04, 34.97s/it]"
     ]
    },
    {
     "name": "stdout",
     "output_type": "stream",
     "text": [
      "Epoch 13, Loss: 2.0717229335866074\n"
     ]
    },
    {
     "name": "stderr",
     "output_type": "stream",
     "text": [
      "Epochs:  65%|██████▌   | 13/20 [07:58<04:17, 36.79s/it]\n"
     ]
    },
    {
     "ename": "KeyboardInterrupt",
     "evalue": "",
     "output_type": "error",
     "traceback": [
      "\u001b[0;31m---------------------------------------------------------------------------\u001b[0m",
      "\u001b[0;31mKeyboardInterrupt\u001b[0m                         Traceback (most recent call last)",
      "Cell \u001b[0;32mIn[65], line 3\u001b[0m\n\u001b[1;32m      1\u001b[0m \u001b[38;5;66;03m# Train the model\u001b[39;00m\n\u001b[0;32m----> 3\u001b[0m losses, timing, model_qat \u001b[38;5;241m=\u001b[39m \u001b[43mtrain_model\u001b[49m\u001b[43m(\u001b[49m\u001b[43mmodelQ\u001b[49m\u001b[43m,\u001b[49m\u001b[43m \u001b[49m\u001b[43mtrain_loader\u001b[49m\u001b[43m,\u001b[49m\u001b[43m \u001b[49m\u001b[43mlr\u001b[49m\u001b[38;5;241;43m=\u001b[39;49m\u001b[38;5;241;43m0.001\u001b[39;49m\u001b[43m,\u001b[49m\u001b[43m \u001b[49m\u001b[43mnum_epochs\u001b[49m\u001b[38;5;241;43m=\u001b[39;49m\u001b[38;5;241;43m20\u001b[39;49m\u001b[43m)\u001b[49m\n",
      "Cell \u001b[0;32mIn[60], line 22\u001b[0m, in \u001b[0;36mtrain_model\u001b[0;34m(model, train_loader, lr, num_epochs)\u001b[0m\n\u001b[1;32m     20\u001b[0m \u001b[38;5;66;03m# Compute loss\u001b[39;00m\n\u001b[1;32m     21\u001b[0m loss \u001b[38;5;241m=\u001b[39m criterion(outputs\u001b[38;5;241m.\u001b[39msqueeze(), labels\u001b[38;5;241m.\u001b[39mfloat())\n\u001b[0;32m---> 22\u001b[0m \u001b[43mloss\u001b[49m\u001b[38;5;241;43m.\u001b[39;49m\u001b[43mbackward\u001b[49m\u001b[43m(\u001b[49m\u001b[43m)\u001b[49m\n\u001b[1;32m     23\u001b[0m optimizer\u001b[38;5;241m.\u001b[39mstep()\n\u001b[1;32m     24\u001b[0m epoch_loss \u001b[38;5;241m+\u001b[39m\u001b[38;5;241m=\u001b[39m loss\u001b[38;5;241m.\u001b[39mitem()\n",
      "File \u001b[0;32m/vols/cms/yhe4823/Acc/env/envs/env/lib/python3.11/site-packages/torch/_tensor.py:487\u001b[0m, in \u001b[0;36mTensor.backward\u001b[0;34m(self, gradient, retain_graph, create_graph, inputs)\u001b[0m\n\u001b[1;32m    477\u001b[0m \u001b[38;5;28;01mif\u001b[39;00m has_torch_function_unary(\u001b[38;5;28mself\u001b[39m):\n\u001b[1;32m    478\u001b[0m     \u001b[38;5;28;01mreturn\u001b[39;00m handle_torch_function(\n\u001b[1;32m    479\u001b[0m         Tensor\u001b[38;5;241m.\u001b[39mbackward,\n\u001b[1;32m    480\u001b[0m         (\u001b[38;5;28mself\u001b[39m,),\n\u001b[0;32m   (...)\u001b[0m\n\u001b[1;32m    485\u001b[0m         inputs\u001b[38;5;241m=\u001b[39minputs,\n\u001b[1;32m    486\u001b[0m     )\n\u001b[0;32m--> 487\u001b[0m \u001b[43mtorch\u001b[49m\u001b[38;5;241;43m.\u001b[39;49m\u001b[43mautograd\u001b[49m\u001b[38;5;241;43m.\u001b[39;49m\u001b[43mbackward\u001b[49m\u001b[43m(\u001b[49m\n\u001b[1;32m    488\u001b[0m \u001b[43m    \u001b[49m\u001b[38;5;28;43mself\u001b[39;49m\u001b[43m,\u001b[49m\u001b[43m \u001b[49m\u001b[43mgradient\u001b[49m\u001b[43m,\u001b[49m\u001b[43m \u001b[49m\u001b[43mretain_graph\u001b[49m\u001b[43m,\u001b[49m\u001b[43m \u001b[49m\u001b[43mcreate_graph\u001b[49m\u001b[43m,\u001b[49m\u001b[43m \u001b[49m\u001b[43minputs\u001b[49m\u001b[38;5;241;43m=\u001b[39;49m\u001b[43minputs\u001b[49m\n\u001b[1;32m    489\u001b[0m \u001b[43m\u001b[49m\u001b[43m)\u001b[49m\n",
      "File \u001b[0;32m/vols/cms/yhe4823/Acc/env/envs/env/lib/python3.11/site-packages/torch/autograd/__init__.py:200\u001b[0m, in \u001b[0;36mbackward\u001b[0;34m(tensors, grad_tensors, retain_graph, create_graph, grad_variables, inputs)\u001b[0m\n\u001b[1;32m    195\u001b[0m     retain_graph \u001b[38;5;241m=\u001b[39m create_graph\n\u001b[1;32m    197\u001b[0m \u001b[38;5;66;03m# The reason we repeat same the comment below is that\u001b[39;00m\n\u001b[1;32m    198\u001b[0m \u001b[38;5;66;03m# some Python versions print out the first line of a multi-line function\u001b[39;00m\n\u001b[1;32m    199\u001b[0m \u001b[38;5;66;03m# calls in the traceback and some print out the last line\u001b[39;00m\n\u001b[0;32m--> 200\u001b[0m \u001b[43mVariable\u001b[49m\u001b[38;5;241;43m.\u001b[39;49m\u001b[43m_execution_engine\u001b[49m\u001b[38;5;241;43m.\u001b[39;49m\u001b[43mrun_backward\u001b[49m\u001b[43m(\u001b[49m\u001b[43m  \u001b[49m\u001b[38;5;66;43;03m# Calls into the C++ engine to run the backward pass\u001b[39;49;00m\n\u001b[1;32m    201\u001b[0m \u001b[43m    \u001b[49m\u001b[43mtensors\u001b[49m\u001b[43m,\u001b[49m\u001b[43m \u001b[49m\u001b[43mgrad_tensors_\u001b[49m\u001b[43m,\u001b[49m\u001b[43m \u001b[49m\u001b[43mretain_graph\u001b[49m\u001b[43m,\u001b[49m\u001b[43m \u001b[49m\u001b[43mcreate_graph\u001b[49m\u001b[43m,\u001b[49m\u001b[43m \u001b[49m\u001b[43minputs\u001b[49m\u001b[43m,\u001b[49m\n\u001b[1;32m    202\u001b[0m \u001b[43m    \u001b[49m\u001b[43mallow_unreachable\u001b[49m\u001b[38;5;241;43m=\u001b[39;49m\u001b[38;5;28;43;01mTrue\u001b[39;49;00m\u001b[43m,\u001b[49m\u001b[43m \u001b[49m\u001b[43maccumulate_grad\u001b[49m\u001b[38;5;241;43m=\u001b[39;49m\u001b[38;5;28;43;01mTrue\u001b[39;49;00m\u001b[43m)\u001b[49m\n",
      "\u001b[0;31mKeyboardInterrupt\u001b[0m: "
     ]
    }
   ],
   "source": [
    "# Train the model\n",
    "\n",
    "losses, timing, model_qat = train_model(modelQ, train_loader, lr=0.001, num_epochs=20)"
   ]
  },
  {
   "cell_type": "code",
   "execution_count": 41,
   "metadata": {},
   "outputs": [],
   "source": [
    "def eval(model):\n",
    "    model.eval()  # Set the model to evaluation mode\n",
    "    start_time = time.time()\n",
    "\n",
    "    with torch.no_grad():\n",
    "        correct = 0\n",
    "        total = 0\n",
    "        for inputs, labels in test_loader:\n",
    "            outputs, _, _, _ = model(inputs)\n",
    "            predicted = torch.round(torch.sigmoid(outputs))\n",
    "            total += labels.size(0)\n",
    "            correct += (predicted.squeeze() == labels).sum().item()\n",
    "\n",
    "    end_time = time.time()  # End time\n",
    "    evaluation_time = end_time - start_time\n",
    "\n",
    "    accuracy = correct / total\n",
    "    print(f'Accuracy: {accuracy}')\n",
    "    print(f'Time: {evaluation_time}s')\n",
    "    \n",
    "    return accuracy, evaluation_time"
   ]
  },
  {
   "cell_type": "code",
   "execution_count": 42,
   "metadata": {},
   "outputs": [
    {
     "name": "stdout",
     "output_type": "stream",
     "text": [
      "Accuracy: 0.89975\n",
      "Time: 4.110225439071655s\n"
     ]
    }
   ],
   "source": [
    "accQ, tQ = eval(model_qat)"
   ]
  },
  {
   "cell_type": "code",
   "execution_count": null,
   "metadata": {},
   "outputs": [],
   "source": []
  },
  {
   "cell_type": "markdown",
   "metadata": {},
   "source": [
    "# Quantisation"
   ]
  },
  {
   "cell_type": "code",
   "execution_count": 27,
   "metadata": {},
   "outputs": [
    {
     "data": {
      "text/plain": [
       "BinaryClassificationModelQ(\n",
       "  (quant): QuantStub(\n",
       "    (activation_post_process): FusedMovingAvgObsFakeQuantize(\n",
       "      fake_quant_enabled=tensor([1]), observer_enabled=tensor([1]), scale=tensor([1.]), zero_point=tensor([0], dtype=torch.int32), dtype=torch.quint8, quant_min=0, quant_max=127, qscheme=torch.per_tensor_affine, reduce_range=True\n",
       "      (activation_post_process): MovingAverageMinMaxObserver(min_val=inf, max_val=-inf)\n",
       "    )\n",
       "  )\n",
       "  (layer0): Linear(\n",
       "    in_features=140, out_features=32, bias=True\n",
       "    (weight_fake_quant): FusedMovingAvgObsFakeQuantize(\n",
       "      fake_quant_enabled=tensor([1]), observer_enabled=tensor([1]), scale=tensor([1.]), zero_point=tensor([0], dtype=torch.int32), dtype=torch.qint8, quant_min=-128, quant_max=127, qscheme=torch.per_channel_symmetric, reduce_range=False\n",
       "      (activation_post_process): MovingAveragePerChannelMinMaxObserver(min_val=tensor([]), max_val=tensor([]))\n",
       "    )\n",
       "    (activation_post_process): FusedMovingAvgObsFakeQuantize(\n",
       "      fake_quant_enabled=tensor([1]), observer_enabled=tensor([1]), scale=tensor([1.]), zero_point=tensor([0], dtype=torch.int32), dtype=torch.quint8, quant_min=0, quant_max=127, qscheme=torch.per_tensor_affine, reduce_range=True\n",
       "      (activation_post_process): MovingAverageMinMaxObserver(min_val=inf, max_val=-inf)\n",
       "    )\n",
       "  )\n",
       "  (layer1): Linear(\n",
       "    in_features=32, out_features=16, bias=True\n",
       "    (weight_fake_quant): FusedMovingAvgObsFakeQuantize(\n",
       "      fake_quant_enabled=tensor([1]), observer_enabled=tensor([1]), scale=tensor([1.]), zero_point=tensor([0], dtype=torch.int32), dtype=torch.qint8, quant_min=-128, quant_max=127, qscheme=torch.per_channel_symmetric, reduce_range=False\n",
       "      (activation_post_process): MovingAveragePerChannelMinMaxObserver(min_val=tensor([]), max_val=tensor([]))\n",
       "    )\n",
       "    (activation_post_process): FusedMovingAvgObsFakeQuantize(\n",
       "      fake_quant_enabled=tensor([1]), observer_enabled=tensor([1]), scale=tensor([1.]), zero_point=tensor([0], dtype=torch.int32), dtype=torch.quint8, quant_min=0, quant_max=127, qscheme=torch.per_tensor_affine, reduce_range=True\n",
       "      (activation_post_process): MovingAverageMinMaxObserver(min_val=inf, max_val=-inf)\n",
       "    )\n",
       "  )\n",
       "  (layer2): Linear(\n",
       "    in_features=16, out_features=1, bias=True\n",
       "    (weight_fake_quant): FusedMovingAvgObsFakeQuantize(\n",
       "      fake_quant_enabled=tensor([1]), observer_enabled=tensor([1]), scale=tensor([1.]), zero_point=tensor([0], dtype=torch.int32), dtype=torch.qint8, quant_min=-128, quant_max=127, qscheme=torch.per_channel_symmetric, reduce_range=False\n",
       "      (activation_post_process): MovingAveragePerChannelMinMaxObserver(min_val=tensor([]), max_val=tensor([]))\n",
       "    )\n",
       "    (activation_post_process): FusedMovingAvgObsFakeQuantize(\n",
       "      fake_quant_enabled=tensor([1]), observer_enabled=tensor([1]), scale=tensor([1.]), zero_point=tensor([0], dtype=torch.int32), dtype=torch.quint8, quant_min=0, quant_max=127, qscheme=torch.per_tensor_affine, reduce_range=True\n",
       "      (activation_post_process): MovingAverageMinMaxObserver(min_val=inf, max_val=-inf)\n",
       "    )\n",
       "  )\n",
       "  (sigmoid): Sigmoid(\n",
       "    (activation_post_process): FixedQParamsFakeQuantize(\n",
       "      fake_quant_enabled=tensor([1], dtype=torch.uint8), observer_enabled=tensor([1], dtype=torch.uint8), scale=tensor([0.0039]), zero_point=tensor([0], dtype=torch.int32), dtype=torch.quint8, quant_min=0, quant_max=255, qscheme=torch.per_tensor_affine\n",
       "      (activation_post_process): FixedQParamsObserver()\n",
       "    )\n",
       "  )\n",
       "  (dequant): DeQuantStub()\n",
       ")"
      ]
     },
     "execution_count": 27,
     "metadata": {},
     "output_type": "execute_result"
    }
   ],
   "source": [
    "class BinaryClassificationModelQ(nn.Module):\n",
    "    def __init__(self, num_features, mask_size=None, mask=None):\n",
    "        super(BinaryClassificationModelQ, self).__init__()\n",
    "        self.quant = torch.quantization.QuantStub()\n",
    "        self.layer0 = nn.Linear(num_features, layers[0])\n",
    "        self.layer1 = nn.Linear(layers[0], layers[1])\n",
    "        self.layer2 = nn.Linear(layers[1], 1)\n",
    "        self.sigmoid = nn.Sigmoid()\n",
    "        self.dequant = torch.quantization.DeQuantStub()\n",
    "\n",
    "    def forward(self, x):\n",
    "        timings = {}\n",
    "        \n",
    "        start_time = time.time()\n",
    "        x = self.quant(x)\n",
    "        timings['quant_time'] = time.time() - start_time\n",
    "\n",
    "        start_time = time.time()\n",
    "        x = torch.relu(self.layer0(x))\n",
    "        x = torch.relu(self.layer1(x))\n",
    "        x = self.sigmoid(self.layer2(x))\n",
    "        timings['fc_time'] = time.time() - start_time\n",
    "\n",
    "        start_time = time.time()\n",
    "        x = self.dequant(x)\n",
    "        timings['dequant_time'] = time.time() - start_time\n",
    "\n",
    "        return x, timings['quant_time'], timings['fc_time'], timings['dequant_time']\n",
    "\n",
    "modelQ = BinaryClassificationModelQ(X.shape[1])\n",
    "modelQ.qconfig = torch.quantization.get_default_qat_qconfig('fbgemm')\n",
    "torch.quantization.prepare_qat(modelQ, inplace=True)\n"
   ]
  },
  {
   "cell_type": "code",
   "execution_count": 28,
   "metadata": {},
   "outputs": [],
   "source": [
    "def train_model(model, train_loader, lr=0.001, num_epochs=50):\n",
    "    model.train()\n",
    "    criterion = nn.BCEWithLogitsLoss()  # Combines Sigmoid + BCELoss\n",
    "    optimizer = optim.Adam(model.parameters(), lr=lr, weight_decay=1e-5)\n",
    "    losses = []\n",
    "    timing = {'quant_time': 0, 'fc_time': 0, 'dequant_time': 0}\n",
    "\n",
    "    for epoch in tqdm(range(num_epochs), desc=\"Epochs\"):\n",
    "        epoch_loss = 0\n",
    "        for inputs, labels in tqdm(train_loader, desc=\"Training\", leave=False):\n",
    "            optimizer.zero_grad()\n",
    "            \n",
    "            outputs, quant_time, fc_time,dequant_time = model(inputs)\n",
    "            \n",
    "            # Accumulate the timing information\n",
    "            timing['quant_time'] += quant_time\n",
    "            timing['fc_time'] += fc_time\n",
    "            timing['dequant_time'] += dequant_time\n",
    "\n",
    "            # Compute loss\n",
    "            loss = criterion(outputs.squeeze(), labels.float())\n",
    "            loss.backward()\n",
    "            optimizer.step()\n",
    "            epoch_loss += loss.item()\n",
    "\n",
    "        losses.append(epoch_loss / len(train_loader))\n",
    "        # print(f\"Epoch {epoch+1}, Loss: {epoch_loss / len(train_loader)}\")\n",
    "    \n",
    "    return losses, timing, model"
   ]
  },
  {
   "cell_type": "code",
   "execution_count": 29,
   "metadata": {},
   "outputs": [
    {
     "name": "stderr",
     "output_type": "stream",
     "text": [
      "Epochs: 100%|██████████| 50/50 [07:41<00:00,  9.23s/it]"
     ]
    },
    {
     "name": "stdout",
     "output_type": "stream",
     "text": [
      "Timing: {'quant_time': 47.3816077709198, 'fc_time': 167.51681351661682, 'dequant_time': 0.04328298568725586}\n"
     ]
    },
    {
     "name": "stderr",
     "output_type": "stream",
     "text": [
      "\n"
     ]
    }
   ],
   "source": [
    "# Train the model\n",
    "losses, timing, model_qat = train_model(modelQ, train_loader, lr=0.001, num_epochs=50)"
   ]
  },
  {
   "cell_type": "code",
   "execution_count": 35,
   "metadata": {},
   "outputs": [
    {
     "data": {
      "text/plain": [
       "[<matplotlib.lines.Line2D at 0x7f226616e210>]"
      ]
     },
     "execution_count": 35,
     "metadata": {},
     "output_type": "execute_result"
    },
    {
     "data": {
      "image/png": "[encoded data removed]",
      "text/plain": [
       "<Figure size 640x480 with 1 Axes>"
      ]
     },
     "metadata": {},
     "output_type": "display_data"
    }
   ],
   "source": [
    "plt.plot(losses)"
   ]
  },
  {
   "cell_type": "code",
   "execution_count": 31,
   "metadata": {},
   "outputs": [
    {
     "data": {
      "text/plain": [
       "{'quant_time': 47.3816077709198,\n",
       " 'fc_time': 167.51681351661682,\n",
       " 'dequant_time': 0.04328298568725586}"
      ]
     },
     "execution_count": 31,
     "metadata": {},
     "output_type": "execute_result"
    }
   ],
   "source": [
    "timing"
   ]
  },
  {
   "cell_type": "code",
   "execution_count": 37,
   "metadata": {},
   "outputs": [
    {
     "name": "stderr",
     "output_type": "stream",
     "text": [
      "Evaluating: 100%|██████████| 12/12 [00:02<00:00,  5.03it/s]"
     ]
    },
    {
     "name": "stdout",
     "output_type": "stream",
     "text": [
      "Accuracy: 66.02%\n"
     ]
    },
    {
     "name": "stderr",
     "output_type": "stream",
     "text": [
      "\n"
     ]
    }
   ],
   "source": [
    "model_qat.eval()\n",
    "correct = 0\n",
    "total = 0\n",
    "\n",
    "with torch.no_grad():\n",
    "    for inputs, labels in tqdm(test_loader, desc=\"Evaluating\"):\n",
    "        outputs, _, _, _ =  model_qat(inputs)\n",
    "        predicted = torch.round(torch.sigmoid(outputs))\n",
    "        total += labels.size(0)\n",
    "        correct += (predicted.squeeze() == labels).sum().item()\n",
    "\n",
    "accuracy = correct / total\n",
    "print(f\"Accuracy: {accuracy * 100:.2f}%\")\n"
   ]
  },
  {
   "cell_type": "code",
   "execution_count": 14,
   "metadata": {},
   "outputs": [
    {
     "name": "stdout",
     "output_type": "stream",
     "text": [
      "AUC = 0.8446474577685765\n"
     ]
    }
   ],
   "source": [
    "y_pre = []\n",
    "y_labe = []\n",
    "with torch.no_grad():\n",
    "    correct = 0\n",
    "    total = 0\n",
    "    for inputs, labels in test_loader:\n",
    "        outputs = modelQ(inputs)\n",
    "        y_pre=np.append(y_pre,outputs.numpy())\n",
    "        y_labe=np.append(y_labe,labels.numpy())\n",
    "from sklearn.metrics import roc_auc_score\n",
    "auc = roc_auc_score(y_labe, y_pre)\n",
    "print(f'AUC = {auc}')"
   ]
  },
  {
   "cell_type": "code",
   "execution_count": 38,
   "metadata": {},
   "outputs": [
    {
     "name": "stdout",
     "output_type": "stream",
     "text": [
      "model: fp32 \t Size(KB): 40.564\n",
      "model: int8 \t Size(KB): 40.564\n",
      "1.00 times smaller\n"
     ]
    }
   ],
   "source": [
    "import os\n",
    "def model_size(model, label=' '):\n",
    "    torch.save(model_qat.state_dict(),\"/vols/cms/yhe4823/Acc/mymodel.p\")\n",
    "    size = os.path.getsize(\"/vols/cms/yhe4823/Acc/mymodel.p\")\n",
    "    print(\"model:\",label,'\\t','Size(KB):',size/1e3)\n",
    "    os.remove(\"/vols/cms/yhe4823/Acc/mymodel.p\")\n",
    "    return size\n",
    "# compare the size\n",
    "f = model_size(model, \"fp32\")\n",
    "q = model_size(model_qat, \"int8\")\n",
    "print(\"{0:.2f} times smaller\".format(f/q))"
   ]
  },
  {
   "cell_type": "markdown",
   "metadata": {},
   "source": [
    "# Post\n"
   ]
  },
  {
   "cell_type": "code",
   "execution_count": 27,
   "metadata": {},
   "outputs": [],
   "source": [
    "model_p = BinaryClassificationModel()"
   ]
  },
  {
   "cell_type": "code",
   "execution_count": null,
   "metadata": {},
   "outputs": [],
   "source": [
    "criterion = nn.BCELoss()\n",
    "optimizer = optim.Adam(model.parameters(), lr=lr)\n",
    "\n",
    "losses = []\n",
    "stt = time.time()\n",
    "with tqdm(range(num_epochs)) as t:\n",
    "    for epoch in t:\n",
    "        for inputs, labels in train_loader:\n",
    "            outputs = model(inputs)\n",
    "            loss = criterion(outputs.squeeze(), labels)\n",
    "            \n",
    "            optimizer.zero_grad()\n",
    "            loss.backward()\n",
    "            \n",
    "            optimizer.step()\n",
    "        losses.append(loss)\n",
    "        t.set_postfix(train_loss=loss.item())"
   ]
  },
  {
   "cell_type": "code",
   "execution_count": null,
   "metadata": {},
   "outputs": [],
   "source": []
  },
  {
   "cell_type": "code",
   "execution_count": null,
   "metadata": {},
   "outputs": [],
   "source": []
  },
  {
   "cell_type": "code",
   "execution_count": null,
   "metadata": {},
   "outputs": [],
   "source": []
  },
  {
   "cell_type": "code",
   "execution_count": null,
   "metadata": {},
   "outputs": [],
   "source": []
  },
  {
   "cell_type": "code",
   "execution_count": null,
   "metadata": {},
   "outputs": [],
   "source": []
  },
  {
   "cell_type": "markdown",
   "metadata": {},
   "source": [
    "# Bitwise Encoding:\n"
   ]
  },
  {
   "cell_type": "code",
   "execution_count": 12,
   "metadata": {},
   "outputs": [],
   "source": [
    "class BitMask(nn.Module):\n",
    "    def __init__(self, size, mask=None):\n",
    "        super(BitMask, self).__init__()\n",
    "        if mask is None:\n",
    "            self.mask = torch.ones(size, dtype=torch.float32)\n",
    "        else:\n",
    "            assert mask.size() == size\n",
    "            self.mask = mask\n",
    "\n",
    "    def forward(self, x):\n",
    "        return x * self.mask"
   ]
  },
  {
   "cell_type": "code",
   "execution_count": 17,
   "metadata": {},
   "outputs": [],
   "source": [
    "class BinaryClassificationModelB(nn.Module):\n",
    "    def __init__(self, num_features, mask_size=None, mask=None):\n",
    "        super(BinaryClassificationModelB, self).__init__()\n",
    "        self.layer0 = nn.Linear(num_features, layers[0])\n",
    "        self.layer1 = nn.Linear(layers[0], layers[1])\n",
    "        self.bitmask = BitMask(layers[1], mask)\n",
    "        self.layer2 = nn.Linear(layers[1], 1)\n",
    "        self.sigmoid = nn.Sigmoid()\n",
    "\n",
    "    def forward(self, x):\n",
    "        x = torch.relu(self.layer0(x))\n",
    "        x = self.layer1(x)\n",
    "        x = self.bitmask(x)\n",
    "        x = torch.relu(x)\n",
    "        x = self.sigmoid(self.layer2(x))\n",
    "        return x"
   ]
  },
  {
   "cell_type": "code",
   "execution_count": 18,
   "metadata": {},
   "outputs": [
    {
     "name": "stderr",
     "output_type": "stream",
     "text": [
      "100%|██████████| 40/40 [04:14<00:00,  6.37s/it, train_loss=0.164]\n"
     ]
    },
    {
     "name": "stdout",
     "output_type": "stream",
     "text": [
      "Accuracy: 0.91775\n"
     ]
    }
   ],
   "source": [
    "model_B = BinaryClassificationModelB(X.shape[1])\n",
    "loss_B, model_b = Quantrain(model_B)"
   ]
  },
  {
   "cell_type": "code",
   "execution_count": 19,
   "metadata": {},
   "outputs": [
    {
     "name": "stdout",
     "output_type": "stream",
     "text": [
      "AUC = 0.966748375951078\n"
     ]
    }
   ],
   "source": [
    "y_pre = []\n",
    "y_labe = []\n",
    "with torch.no_grad():\n",
    "    correct = 0\n",
    "    total = 0\n",
    "    for inputs, labels in test_loader:\n",
    "        outputs = model_b(inputs)\n",
    "        y_pre=np.append(y_pre,outputs.numpy())\n",
    "        y_labe=np.append(y_labe,labels.numpy())\n",
    "from sklearn.metrics import roc_auc_score\n",
    "auc = roc_auc_score(y_labe, y_pre)\n",
    "print(f'AUC = {auc}')"
   ]
  },
  {
   "cell_type": "code",
   "execution_count": 21,
   "metadata": {},
   "outputs": [
    {
     "data": {
      "text/plain": [
       "BinaryClassificationModelB(\n",
       "  (layer0): Linear(in_features=140, out_features=32, bias=True)\n",
       "  (layer1): Linear(in_features=32, out_features=16, bias=True)\n",
       "  (bitmask): BitMask()\n",
       "  (layer2): Linear(in_features=16, out_features=1, bias=True)\n",
       "  (sigmoid): Sigmoid()\n",
       ")"
      ]
     },
     "execution_count": 21,
     "metadata": {},
     "output_type": "execute_result"
    }
   ],
   "source": [
    "model_b"
   ]
  },
  {
   "cell_type": "markdown",
   "metadata": {},
   "source": [
    "# Pruning \n",
    "Add pruning to the qunatised model: used to reduce the size of a neural network by removing weights that have little to no effect on the output, potentially improving inference times and reducing the model's memory footprint without significantly impacting its accuracy. "
   ]
  },
  {
   "cell_type": "code",
   "execution_count": 38,
   "metadata": {},
   "outputs": [],
   "source": [
    "def Pruning(model):\n",
    "    # Specify the pruning amount as a fraction of the existing connections\n",
    "    pruning_amount = 0.1\n",
    "    # Apply pruning to layer0 and layer1\n",
    "    prune.l1_unstructured(model.layer0, name='weight', amount=pruning_amount)\n",
    "    prune.l1_unstructured(model.layer1, name='weight', amount=pruning_amount)\n",
    "    print(model.layer0.weight) \n",
    "    \n",
    "    # Make pruning permanent\n",
    "    prune.remove(model.layer0, 'weight')\n",
    "    prune.remove(model.layer1, 'weight')\n",
    "\n",
    "model_P = BinaryClassificationModel()"
   ]
  },
  {
   "cell_type": "code",
   "execution_count": 39,
   "metadata": {},
   "outputs": [
    {
     "name": "stderr",
     "output_type": "stream",
     "text": [
      " 22%|██▎       | 9/40 [01:03<03:40,  7.11s/it, train_loss=0.333]"
     ]
    },
    {
     "name": "stdout",
     "output_type": "stream",
     "text": [
      "++ BinaryClassificationModel(\n",
      "  (layer0): Linear(in_features=140, out_features=32, bias=True)\n",
      "  (layer1): Linear(in_features=32, out_features=16, bias=True)\n",
      "  (layer2): Linear(in_features=16, out_features=1, bias=True)\n",
      "  (sigmoid): Sigmoid()\n",
      ")\n"
     ]
    },
    {
     "name": "stderr",
     "output_type": "stream",
     "text": [
      " 48%|████▊     | 19/40 [02:14<02:26,  6.98s/it, train_loss=0.241]"
     ]
    },
    {
     "name": "stdout",
     "output_type": "stream",
     "text": [
      "++ BinaryClassificationModel(\n",
      "  (layer0): Linear(in_features=140, out_features=32, bias=True)\n",
      "  (layer1): Linear(in_features=32, out_features=16, bias=True)\n",
      "  (layer2): Linear(in_features=16, out_features=1, bias=True)\n",
      "  (sigmoid): Sigmoid()\n",
      ")\n"
     ]
    },
    {
     "name": "stderr",
     "output_type": "stream",
     "text": [
      " 72%|███████▎  | 29/40 [03:21<01:11,  6.48s/it, train_loss=0.183]"
     ]
    },
    {
     "name": "stdout",
     "output_type": "stream",
     "text": [
      "++ BinaryClassificationModel(\n",
      "  (layer0): Linear(in_features=140, out_features=32, bias=True)\n",
      "  (layer1): Linear(in_features=32, out_features=16, bias=True)\n",
      "  (layer2): Linear(in_features=16, out_features=1, bias=True)\n",
      "  (sigmoid): Sigmoid()\n",
      ")\n"
     ]
    },
    {
     "name": "stderr",
     "output_type": "stream",
     "text": [
      " 98%|█████████▊| 39/40 [04:28<00:06,  6.57s/it, train_loss=0.21] "
     ]
    },
    {
     "name": "stdout",
     "output_type": "stream",
     "text": [
      "++ BinaryClassificationModel(\n",
      "  (layer0): Linear(in_features=140, out_features=32, bias=True)\n",
      "  (layer1): Linear(in_features=32, out_features=16, bias=True)\n",
      "  (layer2): Linear(in_features=16, out_features=1, bias=True)\n",
      "  (sigmoid): Sigmoid()\n",
      ")\n"
     ]
    },
    {
     "name": "stderr",
     "output_type": "stream",
     "text": [
      "100%|██████████| 40/40 [04:34<00:00,  6.87s/it, train_loss=0.235]\n"
     ]
    },
    {
     "name": "stdout",
     "output_type": "stream",
     "text": [
      "Accuracy: 0.907\n"
     ]
    }
   ],
   "source": [
    "criterion = nn.BCELoss()\n",
    "optimizer = optim.Adam(model_P.parameters(), lr=lr, weight_decay=1e-5)\n",
    "\n",
    "losses = []\n",
    "stt = time.time()\n",
    "with tqdm(range(num_epochs)) as t:\n",
    "    for epoch in t:\n",
    "        if epoch % 10 == 9:  # Apply pruning at every 10th epoch (epoch number starts from 0)\n",
    "            Pruning(model_P)\n",
    "\n",
    "        for inputs, labels in train_loader:\n",
    "            outputs = model_P(inputs)\n",
    "            loss = criterion(outputs.squeeze(), labels)\n",
    "            \n",
    "            optimizer.zero_grad()\n",
    "            loss.backward()\n",
    "            \n",
    "            optimizer.step()\n",
    "        losses.append(loss)\n",
    "        # print(f'Epoch {epoch+1}, Estimate:{dtt}, Loss: {loss.item()}')\n",
    "        t.set_postfix(train_loss=loss.item())\n",
    "\n",
    "model_P.eval()\n",
    "y_pre = []\n",
    "\n",
    "with torch.no_grad():\n",
    "    correct = 0\n",
    "    total = 0\n",
    "    for inputs, labels in test_loader:\n",
    "        outputs = model_P(inputs)\n",
    "        predicted = (outputs.squeeze() > 0.5).float()\n",
    "        total += labels.size(0)\n",
    "        correct += (predicted == labels).sum().item()\n",
    "        y_pre.append(predicted)\n",
    "        \n",
    "accuracy = correct / total\n",
    "print(f'Accuracy: {accuracy}')"
   ]
  },
  {
   "cell_type": "code",
   "execution_count": 35,
   "metadata": {},
   "outputs": [
    {
     "name": "stdout",
     "output_type": "stream",
     "text": [
      "AUC = 0.9672297799169829\n"
     ]
    }
   ],
   "source": [
    "AUC_P = AUC(model_P,test_loader)"
   ]
  },
  {
   "cell_type": "markdown",
   "metadata": {},
   "source": []
  },
  {
   "cell_type": "markdown",
   "metadata": {},
   "source": [
    "# Pruning + QAT"
   ]
  },
  {
   "cell_type": "markdown",
   "metadata": {},
   "source": [
    "qat frist and then prune again. "
   ]
  },
  {
   "cell_type": "code",
   "execution_count": 14,
   "metadata": {},
   "outputs": [],
   "source": [
    "import torch.nn.utils.prune as prune\n",
    "\n",
    "def apply_pruning(model):\n",
    "    # Apply pruning to layer0 and layer1\n",
    "    # Removing 30% of the connections based on the absolute value of the weights\n",
    "    prune.l1_unstructured(model.layer0, name=\"weight\", amount=0.3)\n",
    "    prune.l1_unstructured(model.layer1, name=\"weight\", amount=0.3)\n",
    "\n",
    "    # Make the pruning permanent\n",
    "    prune.remove(model.layer0, 'weight')\n",
    "    prune.remove(model.layer1, 'weight')\n"
   ]
  },
  {
   "cell_type": "code",
   "execution_count": 17,
   "metadata": {},
   "outputs": [
    {
     "name": "stderr",
     "output_type": "stream",
     "text": [
      "/vols/cms/yhe4823/Acc/env/envs/env/lib/python3.11/site-packages/torch/ao/quantization/observer.py:214: UserWarning: Please use quant_min and quant_max to specify the range for observers.                     reduce_range will be deprecated in a future release of PyTorch.\n",
      "  warnings.warn(\n"
     ]
    },
    {
     "data": {
      "text/plain": [
       "BinaryClassificationModelQAT(\n",
       "  (layer0): LinearReLU(\n",
       "    in_features=140, out_features=32, bias=True\n",
       "    (weight_fake_quant): FusedMovingAvgObsFakeQuantize(\n",
       "      fake_quant_enabled=tensor([1]), observer_enabled=tensor([1]), scale=tensor([1.]), zero_point=tensor([0], dtype=torch.int32), dtype=torch.qint8, quant_min=-128, quant_max=127, qscheme=torch.per_channel_symmetric, reduce_range=False\n",
       "      (activation_post_process): MovingAveragePerChannelMinMaxObserver(min_val=tensor([]), max_val=tensor([]))\n",
       "    )\n",
       "    (activation_post_process): FusedMovingAvgObsFakeQuantize(\n",
       "      fake_quant_enabled=tensor([1]), observer_enabled=tensor([1]), scale=tensor([1.]), zero_point=tensor([0], dtype=torch.int32), dtype=torch.quint8, quant_min=0, quant_max=127, qscheme=torch.per_tensor_affine, reduce_range=True\n",
       "      (activation_post_process): MovingAverageMinMaxObserver(min_val=inf, max_val=-inf)\n",
       "    )\n",
       "  )\n",
       "  (relu0): Identity()\n",
       "  (layer1): LinearReLU(\n",
       "    in_features=32, out_features=16, bias=True\n",
       "    (weight_fake_quant): FusedMovingAvgObsFakeQuantize(\n",
       "      fake_quant_enabled=tensor([1]), observer_enabled=tensor([1]), scale=tensor([1.]), zero_point=tensor([0], dtype=torch.int32), dtype=torch.qint8, quant_min=-128, quant_max=127, qscheme=torch.per_channel_symmetric, reduce_range=False\n",
       "      (activation_post_process): MovingAveragePerChannelMinMaxObserver(min_val=tensor([]), max_val=tensor([]))\n",
       "    )\n",
       "    (activation_post_process): FusedMovingAvgObsFakeQuantize(\n",
       "      fake_quant_enabled=tensor([1]), observer_enabled=tensor([1]), scale=tensor([1.]), zero_point=tensor([0], dtype=torch.int32), dtype=torch.quint8, quant_min=0, quant_max=127, qscheme=torch.per_tensor_affine, reduce_range=True\n",
       "      (activation_post_process): MovingAverageMinMaxObserver(min_val=inf, max_val=-inf)\n",
       "    )\n",
       "  )\n",
       "  (relu1): Identity()\n",
       "  (layer2): Linear(\n",
       "    in_features=16, out_features=1, bias=True\n",
       "    (weight_fake_quant): FusedMovingAvgObsFakeQuantize(\n",
       "      fake_quant_enabled=tensor([1]), observer_enabled=tensor([1]), scale=tensor([1.]), zero_point=tensor([0], dtype=torch.int32), dtype=torch.qint8, quant_min=-128, quant_max=127, qscheme=torch.per_channel_symmetric, reduce_range=False\n",
       "      (activation_post_process): MovingAveragePerChannelMinMaxObserver(min_val=tensor([]), max_val=tensor([]))\n",
       "    )\n",
       "    (activation_post_process): FusedMovingAvgObsFakeQuantize(\n",
       "      fake_quant_enabled=tensor([1]), observer_enabled=tensor([1]), scale=tensor([1.]), zero_point=tensor([0], dtype=torch.int32), dtype=torch.quint8, quant_min=0, quant_max=127, qscheme=torch.per_tensor_affine, reduce_range=True\n",
       "      (activation_post_process): MovingAverageMinMaxObserver(min_val=inf, max_val=-inf)\n",
       "    )\n",
       "  )\n",
       "  (sigmoid): Sigmoid(\n",
       "    (activation_post_process): FixedQParamsFakeQuantize(\n",
       "      fake_quant_enabled=tensor([1], dtype=torch.uint8), observer_enabled=tensor([1], dtype=torch.uint8), scale=tensor([0.0039]), zero_point=tensor([0], dtype=torch.int32), dtype=torch.quint8, quant_min=0, quant_max=255, qscheme=torch.per_tensor_affine\n",
       "      (activation_post_process): FixedQParamsObserver()\n",
       "    )\n",
       "  )\n",
       ")"
      ]
     },
     "execution_count": 17,
     "metadata": {},
     "output_type": "execute_result"
    }
   ],
   "source": [
    "from torch.quantization import QuantStub, DeQuantStub\n",
    "\n",
    "class BinaryClassificationModelQAT(nn.Module):\n",
    "    def __init__(self, input_features, hidden_layers):\n",
    "        super(BinaryClassificationModelQAT, self).__init__()\n",
    "        self.layer0 = nn.Linear(input_features, hidden_layers[0])\n",
    "        self.relu0 = nn.ReLU()  # Explicitly define ReLU as relu0\n",
    "        self.layer1 = nn.Linear(hidden_layers[0], hidden_layers[1])\n",
    "        self.relu1 = nn.ReLU()  # Explicitly define ReLU as relu1\n",
    "        self.layer2 = nn.Linear(hidden_layers[1], 1)\n",
    "        self.sigmoid = nn.Sigmoid()\n",
    "\n",
    "    def forward(self, x):\n",
    "        x = self.relu0(self.layer0(x))\n",
    "        x = self.relu1(self.layer1(x))\n",
    "        x = self.sigmoid(self.layer2(x))\n",
    "        return x\n",
    "\n",
    "    def fuse_model(self):\n",
    "        torch.quantization.fuse_modules(self, [['layer0', 'relu0'], ['layer1', 'relu1']], inplace=True)\n",
    "\n",
    "# Assuming the model instance\n",
    "model_qat = BinaryClassificationModelQAT(input_features=X.shape[1], hidden_layers=[32,16])\n",
    "\n",
    "# Fuse the model to combine convolution and batch normalization layers where applicable\n",
    "model_qat.fuse_model()\n",
    "\n",
    "# Switch to QAT mode\n",
    "model_qat.qconfig = torch.quantization.get_default_qat_qconfig('fbgemm')\n",
    "\n",
    "# Prepare the model for QAT\n",
    "torch.quantization.prepare_qat(model_qat, inplace=True)\n"
   ]
  },
  {
   "cell_type": "code",
   "execution_count": 18,
   "metadata": {},
   "outputs": [],
   "source": [
    "criterion = torch.nn.BCELoss()\n",
    "optimizer = torch.optim.Adam(model.parameters(), lr=0.001)\n"
   ]
  },
  {
   "cell_type": "code",
   "execution_count": 19,
   "metadata": {},
   "outputs": [
    {
     "name": "stdout",
     "output_type": "stream",
     "text": [
      "Epoch 1, Estimate:602.6464347839355, Loss: 0.6445045471191406\n",
      "Epoch 2, Estimate:495.1404836177826, Loss: 0.5911950469017029\n",
      "Epoch 3, Estimate:448.2152536710104, Loss: 0.5419753789901733\n",
      "Epoch 4, Estimate:420.34929299354553, Loss: 0.5422425270080566\n",
      "Epoch 5, Estimate:401.56582474708557, Loss: 0.5179789662361145\n",
      "Epoch 6, Estimate:388.44745572408044, Loss: 0.5270822644233704\n",
      "Epoch 7, Estimate:375.97768797193254, Loss: 0.511357843875885\n",
      "Epoch 8, Estimate:360.4029293060303, Loss: 0.5035499334335327\n",
      "Epoch 9, Estimate:346.72257810168793, Loss: 0.500896155834198\n",
      "Epoch 10, Estimate:335.5594825744629, Loss: 0.517208993434906\n",
      "Epoch 11, Estimate:322.91367723725057, Loss: 0.5052278637886047\n",
      "Epoch 12, Estimate:310.0045808156332, Loss: 0.5045841932296753\n",
      "Epoch 13, Estimate:298.55828899603625, Loss: 0.4895503520965576\n",
      "Epoch 14, Estimate:287.1485148838588, Loss: 0.5005485415458679\n",
      "Epoch 15, Estimate:275.2872506777445, Loss: 0.4787898659706116\n",
      "Epoch 16, Estimate:263.30379831790924, Loss: 0.48470738530158997\n",
      "Epoch 17, Estimate:252.2055320739746, Loss: 0.4704304337501526\n",
      "Epoch 18, Estimate:243.0688228872087, Loss: 0.46758154034614563\n",
      "Epoch 19, Estimate:232.4604617169029, Loss: 0.4521673619747162\n",
      "Epoch 20, Estimate:220.82584357261658, Loss: 0.47294020652770996\n",
      "Epoch 21, Estimate:209.16066082318625, Loss: 0.4835366904735565\n",
      "Epoch 22, Estimate:198.1609426845204, Loss: 0.46378859877586365\n",
      "Epoch 23, Estimate:187.52177822071573, Loss: 0.4456418454647064\n",
      "Epoch 24, Estimate:176.36074574788412, Loss: 0.4327963888645172\n",
      "Epoch 25, Estimate:165.41181135177612, Loss: 0.4488803446292877\n",
      "Epoch 26, Estimate:154.48992841060345, Loss: 0.4022562801837921\n",
      "Epoch 27, Estimate:143.4308492342631, Loss: 0.41650786995887756\n",
      "Epoch 28, Estimate:132.5858063016619, Loss: 0.4213634431362152\n",
      "Epoch 29, Estimate:121.39330980695527, Loss: 0.4384552538394928\n",
      "Epoch 30, Estimate:110.18788488705952, Loss: 0.4086053967475891\n",
      "Epoch 31, Estimate:99.22925986013104, Loss: 0.41303014755249023\n",
      "Epoch 32, Estimate:88.18715995550156, Loss: 0.40944215655326843\n",
      "Epoch 33, Estimate:77.05938280712475, Loss: 0.390974223613739\n",
      "Epoch 34, Estimate:66.26247937539044, Loss: 0.36044177412986755\n",
      "Epoch 35, Estimate:55.55175641604833, Loss: 0.36361899971961975\n",
      "Epoch 36, Estimate:44.40495464536879, Loss: 0.3552436828613281\n",
      "Epoch 37, Estimate:33.254178498242354, Loss: 0.36344578862190247\n",
      "Epoch 38, Estimate:22.16029301442598, Loss: 0.3398391306400299\n",
      "Epoch 39, Estimate:11.062441990925716, Loss: 0.3343983590602875\n",
      "Epoch 40, Estimate:0.0, Loss: 0.3340490460395813\n"
     ]
    },
    {
     "ename": "NotImplementedError",
     "evalue": "Could not run 'quantized::linear_relu' with arguments from the 'CPU' backend. This could be because the operator doesn't exist for this backend, or was omitted during the selective/custom build process (if using custom build). If you are a Facebook employee using PyTorch on mobile, please visit https://fburl.com/ptmfixes for possible resolutions. 'quantized::linear_relu' is only available for these backends: [QuantizedCPU, BackendSelect, Python, FuncTorchDynamicLayerBackMode, Functionalize, Named, Conjugate, Negative, ZeroTensor, ADInplaceOrView, AutogradOther, AutogradCPU, AutogradCUDA, AutogradXLA, AutogradMPS, AutogradXPU, AutogradHPU, AutogradLazy, AutogradMeta, Tracer, AutocastCPU, AutocastCUDA, FuncTorchBatched, FuncTorchVmapMode, Batched, VmapMode, FuncTorchGradWrapper, PythonTLSSnapshot, FuncTorchDynamicLayerFrontMode, PythonDispatcher].\n\nQuantizedCPU: registered at /croot/pytorch_1686931851744/work/aten/src/ATen/native/quantized/cpu/qlinear.cpp:990 [kernel]\nBackendSelect: fallthrough registered at /croot/pytorch_1686931851744/work/aten/src/ATen/core/BackendSelectFallbackKernel.cpp:3 [backend fallback]\nPython: registered at /croot/pytorch_1686931851744/work/aten/src/ATen/core/PythonFallbackKernel.cpp:144 [backend fallback]\nFuncTorchDynamicLayerBackMode: registered at /croot/pytorch_1686931851744/work/aten/src/ATen/functorch/DynamicLayer.cpp:491 [backend fallback]\nFunctionalize: registered at /croot/pytorch_1686931851744/work/aten/src/ATen/FunctionalizeFallbackKernel.cpp:280 [backend fallback]\nNamed: registered at /croot/pytorch_1686931851744/work/aten/src/ATen/core/NamedRegistrations.cpp:7 [backend fallback]\nConjugate: registered at /croot/pytorch_1686931851744/work/aten/src/ATen/ConjugateFallback.cpp:17 [backend fallback]\nNegative: registered at /croot/pytorch_1686931851744/work/aten/src/ATen/native/NegateFallback.cpp:19 [backend fallback]\nZeroTensor: registered at /croot/pytorch_1686931851744/work/aten/src/ATen/ZeroTensorFallback.cpp:86 [backend fallback]\nADInplaceOrView: fallthrough registered at /croot/pytorch_1686931851744/work/aten/src/ATen/core/VariableFallbackKernel.cpp:63 [backend fallback]\nAutogradOther: fallthrough registered at /croot/pytorch_1686931851744/work/aten/src/ATen/core/VariableFallbackKernel.cpp:30 [backend fallback]\nAutogradCPU: fallthrough registered at /croot/pytorch_1686931851744/work/aten/src/ATen/core/VariableFallbackKernel.cpp:34 [backend fallback]\nAutogradCUDA: fallthrough registered at /croot/pytorch_1686931851744/work/aten/src/ATen/core/VariableFallbackKernel.cpp:42 [backend fallback]\nAutogradXLA: fallthrough registered at /croot/pytorch_1686931851744/work/aten/src/ATen/core/VariableFallbackKernel.cpp:46 [backend fallback]\nAutogradMPS: fallthrough registered at /croot/pytorch_1686931851744/work/aten/src/ATen/core/VariableFallbackKernel.cpp:54 [backend fallback]\nAutogradXPU: fallthrough registered at /croot/pytorch_1686931851744/work/aten/src/ATen/core/VariableFallbackKernel.cpp:38 [backend fallback]\nAutogradHPU: fallthrough registered at /croot/pytorch_1686931851744/work/aten/src/ATen/core/VariableFallbackKernel.cpp:67 [backend fallback]\nAutogradLazy: fallthrough registered at /croot/pytorch_1686931851744/work/aten/src/ATen/core/VariableFallbackKernel.cpp:50 [backend fallback]\nAutogradMeta: fallthrough registered at /croot/pytorch_1686931851744/work/aten/src/ATen/core/VariableFallbackKernel.cpp:58 [backend fallback]\nTracer: registered at /croot/pytorch_1686931851744/work/torch/csrc/autograd/TraceTypeManual.cpp:294 [backend fallback]\nAutocastCPU: fallthrough registered at /croot/pytorch_1686931851744/work/aten/src/ATen/autocast_mode.cpp:487 [backend fallback]\nAutocastCUDA: fallthrough registered at /croot/pytorch_1686931851744/work/aten/src/ATen/autocast_mode.cpp:354 [backend fallback]\nFuncTorchBatched: registered at /croot/pytorch_1686931851744/work/aten/src/ATen/functorch/LegacyBatchingRegistrations.cpp:815 [backend fallback]\nFuncTorchVmapMode: fallthrough registered at /croot/pytorch_1686931851744/work/aten/src/ATen/functorch/VmapModeRegistrations.cpp:28 [backend fallback]\nBatched: registered at /croot/pytorch_1686931851744/work/aten/src/ATen/LegacyBatchingRegistrations.cpp:1073 [backend fallback]\nVmapMode: fallthrough registered at /croot/pytorch_1686931851744/work/aten/src/ATen/VmapModeRegistrations.cpp:33 [backend fallback]\nFuncTorchGradWrapper: registered at /croot/pytorch_1686931851744/work/aten/src/ATen/functorch/TensorWrapper.cpp:210 [backend fallback]\nPythonTLSSnapshot: registered at /croot/pytorch_1686931851744/work/aten/src/ATen/core/PythonFallbackKernel.cpp:152 [backend fallback]\nFuncTorchDynamicLayerFrontMode: registered at /croot/pytorch_1686931851744/work/aten/src/ATen/functorch/DynamicLayer.cpp:487 [backend fallback]\nPythonDispatcher: registered at /croot/pytorch_1686931851744/work/aten/src/ATen/core/PythonFallbackKernel.cpp:148 [backend fallback]\n",
     "output_type": "error",
     "traceback": [
      "\u001b[0;31m---------------------------------------------------------------------------\u001b[0m",
      "\u001b[0;31mNotImplementedError\u001b[0m                       Traceback (most recent call last)",
      "Cell \u001b[0;32mIn[19], line 1\u001b[0m\n\u001b[0;32m----> 1\u001b[0m losses, modelQ \u001b[38;5;241m=\u001b[39m \u001b[43mQuantrain\u001b[49m\u001b[43m(\u001b[49m\u001b[43mmodel_qat\u001b[49m\u001b[43m)\u001b[49m\n",
      "Cell \u001b[0;32mIn[9], line 85\u001b[0m, in \u001b[0;36mQuantrain\u001b[0;34m(model)\u001b[0m\n\u001b[1;32m     83\u001b[0m total \u001b[38;5;241m=\u001b[39m \u001b[38;5;241m0\u001b[39m\n\u001b[1;32m     84\u001b[0m \u001b[38;5;28;01mfor\u001b[39;00m inputs, labels \u001b[38;5;129;01min\u001b[39;00m test_loader:\n\u001b[0;32m---> 85\u001b[0m     outputs \u001b[38;5;241m=\u001b[39m \u001b[43mmodel\u001b[49m\u001b[43m(\u001b[49m\u001b[43minputs\u001b[49m\u001b[43m)\u001b[49m\n\u001b[1;32m     86\u001b[0m     predicted \u001b[38;5;241m=\u001b[39m (outputs\u001b[38;5;241m.\u001b[39msqueeze() \u001b[38;5;241m>\u001b[39m \u001b[38;5;241m0.5\u001b[39m)\u001b[38;5;241m.\u001b[39mfloat()\n\u001b[1;32m     87\u001b[0m     total \u001b[38;5;241m+\u001b[39m\u001b[38;5;241m=\u001b[39m labels\u001b[38;5;241m.\u001b[39msize(\u001b[38;5;241m0\u001b[39m)\n",
      "File \u001b[0;32m/vols/cms/yhe4823/Acc/env/envs/env/lib/python3.11/site-packages/torch/nn/modules/module.py:1501\u001b[0m, in \u001b[0;36mModule._call_impl\u001b[0;34m(self, *args, **kwargs)\u001b[0m\n\u001b[1;32m   1496\u001b[0m \u001b[38;5;66;03m# If we don't have any hooks, we want to skip the rest of the logic in\u001b[39;00m\n\u001b[1;32m   1497\u001b[0m \u001b[38;5;66;03m# this function, and just call forward.\u001b[39;00m\n\u001b[1;32m   1498\u001b[0m \u001b[38;5;28;01mif\u001b[39;00m \u001b[38;5;129;01mnot\u001b[39;00m (\u001b[38;5;28mself\u001b[39m\u001b[38;5;241m.\u001b[39m_backward_hooks \u001b[38;5;129;01mor\u001b[39;00m \u001b[38;5;28mself\u001b[39m\u001b[38;5;241m.\u001b[39m_backward_pre_hooks \u001b[38;5;129;01mor\u001b[39;00m \u001b[38;5;28mself\u001b[39m\u001b[38;5;241m.\u001b[39m_forward_hooks \u001b[38;5;129;01mor\u001b[39;00m \u001b[38;5;28mself\u001b[39m\u001b[38;5;241m.\u001b[39m_forward_pre_hooks\n\u001b[1;32m   1499\u001b[0m         \u001b[38;5;129;01mor\u001b[39;00m _global_backward_pre_hooks \u001b[38;5;129;01mor\u001b[39;00m _global_backward_hooks\n\u001b[1;32m   1500\u001b[0m         \u001b[38;5;129;01mor\u001b[39;00m _global_forward_hooks \u001b[38;5;129;01mor\u001b[39;00m _global_forward_pre_hooks):\n\u001b[0;32m-> 1501\u001b[0m     \u001b[38;5;28;01mreturn\u001b[39;00m \u001b[43mforward_call\u001b[49m\u001b[43m(\u001b[49m\u001b[38;5;241;43m*\u001b[39;49m\u001b[43margs\u001b[49m\u001b[43m,\u001b[49m\u001b[43m \u001b[49m\u001b[38;5;241;43m*\u001b[39;49m\u001b[38;5;241;43m*\u001b[39;49m\u001b[43mkwargs\u001b[49m\u001b[43m)\u001b[49m\n\u001b[1;32m   1502\u001b[0m \u001b[38;5;66;03m# Do not call functions when jit is used\u001b[39;00m\n\u001b[1;32m   1503\u001b[0m full_backward_hooks, non_full_backward_hooks \u001b[38;5;241m=\u001b[39m [], []\n",
      "Cell \u001b[0;32mIn[17], line 14\u001b[0m, in \u001b[0;36mBinaryClassificationModelQAT.forward\u001b[0;34m(self, x)\u001b[0m\n\u001b[1;32m     13\u001b[0m \u001b[38;5;28;01mdef\u001b[39;00m \u001b[38;5;21mforward\u001b[39m(\u001b[38;5;28mself\u001b[39m, x):\n\u001b[0;32m---> 14\u001b[0m     x \u001b[38;5;241m=\u001b[39m \u001b[38;5;28mself\u001b[39m\u001b[38;5;241m.\u001b[39mrelu0(\u001b[38;5;28;43mself\u001b[39;49m\u001b[38;5;241;43m.\u001b[39;49m\u001b[43mlayer0\u001b[49m\u001b[43m(\u001b[49m\u001b[43mx\u001b[49m\u001b[43m)\u001b[49m)\n\u001b[1;32m     15\u001b[0m     x \u001b[38;5;241m=\u001b[39m \u001b[38;5;28mself\u001b[39m\u001b[38;5;241m.\u001b[39mrelu1(\u001b[38;5;28mself\u001b[39m\u001b[38;5;241m.\u001b[39mlayer1(x))\n\u001b[1;32m     16\u001b[0m     x \u001b[38;5;241m=\u001b[39m \u001b[38;5;28mself\u001b[39m\u001b[38;5;241m.\u001b[39msigmoid(\u001b[38;5;28mself\u001b[39m\u001b[38;5;241m.\u001b[39mlayer2(x))\n",
      "File \u001b[0;32m/vols/cms/yhe4823/Acc/env/envs/env/lib/python3.11/site-packages/torch/nn/modules/module.py:1501\u001b[0m, in \u001b[0;36mModule._call_impl\u001b[0;34m(self, *args, **kwargs)\u001b[0m\n\u001b[1;32m   1496\u001b[0m \u001b[38;5;66;03m# If we don't have any hooks, we want to skip the rest of the logic in\u001b[39;00m\n\u001b[1;32m   1497\u001b[0m \u001b[38;5;66;03m# this function, and just call forward.\u001b[39;00m\n\u001b[1;32m   1498\u001b[0m \u001b[38;5;28;01mif\u001b[39;00m \u001b[38;5;129;01mnot\u001b[39;00m (\u001b[38;5;28mself\u001b[39m\u001b[38;5;241m.\u001b[39m_backward_hooks \u001b[38;5;129;01mor\u001b[39;00m \u001b[38;5;28mself\u001b[39m\u001b[38;5;241m.\u001b[39m_backward_pre_hooks \u001b[38;5;129;01mor\u001b[39;00m \u001b[38;5;28mself\u001b[39m\u001b[38;5;241m.\u001b[39m_forward_hooks \u001b[38;5;129;01mor\u001b[39;00m \u001b[38;5;28mself\u001b[39m\u001b[38;5;241m.\u001b[39m_forward_pre_hooks\n\u001b[1;32m   1499\u001b[0m         \u001b[38;5;129;01mor\u001b[39;00m _global_backward_pre_hooks \u001b[38;5;129;01mor\u001b[39;00m _global_backward_hooks\n\u001b[1;32m   1500\u001b[0m         \u001b[38;5;129;01mor\u001b[39;00m _global_forward_hooks \u001b[38;5;129;01mor\u001b[39;00m _global_forward_pre_hooks):\n\u001b[0;32m-> 1501\u001b[0m     \u001b[38;5;28;01mreturn\u001b[39;00m \u001b[43mforward_call\u001b[49m\u001b[43m(\u001b[49m\u001b[38;5;241;43m*\u001b[39;49m\u001b[43margs\u001b[49m\u001b[43m,\u001b[49m\u001b[43m \u001b[49m\u001b[38;5;241;43m*\u001b[39;49m\u001b[38;5;241;43m*\u001b[39;49m\u001b[43mkwargs\u001b[49m\u001b[43m)\u001b[49m\n\u001b[1;32m   1502\u001b[0m \u001b[38;5;66;03m# Do not call functions when jit is used\u001b[39;00m\n\u001b[1;32m   1503\u001b[0m full_backward_hooks, non_full_backward_hooks \u001b[38;5;241m=\u001b[39m [], []\n",
      "File \u001b[0;32m/vols/cms/yhe4823/Acc/env/envs/env/lib/python3.11/site-packages/torch/ao/nn/intrinsic/quantized/modules/linear_relu.py:36\u001b[0m, in \u001b[0;36mLinearReLU.forward\u001b[0;34m(self, x)\u001b[0m\n\u001b[1;32m     35\u001b[0m \u001b[38;5;28;01mdef\u001b[39;00m \u001b[38;5;21mforward\u001b[39m(\u001b[38;5;28mself\u001b[39m, x: torch\u001b[38;5;241m.\u001b[39mTensor) \u001b[38;5;241m-\u001b[39m\u001b[38;5;241m>\u001b[39m torch\u001b[38;5;241m.\u001b[39mTensor:\n\u001b[0;32m---> 36\u001b[0m     \u001b[38;5;28;01mreturn\u001b[39;00m \u001b[43mtorch\u001b[49m\u001b[38;5;241;43m.\u001b[39;49m\u001b[43mops\u001b[49m\u001b[38;5;241;43m.\u001b[39;49m\u001b[43mquantized\u001b[49m\u001b[38;5;241;43m.\u001b[39;49m\u001b[43mlinear_relu\u001b[49m\u001b[43m(\u001b[49m\n\u001b[1;32m     37\u001b[0m \u001b[43m        \u001b[49m\u001b[43mx\u001b[49m\u001b[43m,\u001b[49m\u001b[43m \u001b[49m\u001b[38;5;28;43mself\u001b[39;49m\u001b[38;5;241;43m.\u001b[39;49m\u001b[43m_packed_params\u001b[49m\u001b[38;5;241;43m.\u001b[39;49m\u001b[43m_packed_params\u001b[49m\u001b[43m,\u001b[49m\u001b[43m \u001b[49m\u001b[38;5;28;43mself\u001b[39;49m\u001b[38;5;241;43m.\u001b[39;49m\u001b[43mscale\u001b[49m\u001b[43m,\u001b[49m\u001b[43m \u001b[49m\u001b[38;5;28;43mself\u001b[39;49m\u001b[38;5;241;43m.\u001b[39;49m\u001b[43mzero_point\u001b[49m\u001b[43m)\u001b[49m\n",
      "File \u001b[0;32m/vols/cms/yhe4823/Acc/env/envs/env/lib/python3.11/site-packages/torch/_ops.py:502\u001b[0m, in \u001b[0;36mOpOverloadPacket.__call__\u001b[0;34m(self, *args, **kwargs)\u001b[0m\n\u001b[1;32m    497\u001b[0m \u001b[38;5;28;01mdef\u001b[39;00m \u001b[38;5;21m__call__\u001b[39m(\u001b[38;5;28mself\u001b[39m, \u001b[38;5;241m*\u001b[39margs, \u001b[38;5;241m*\u001b[39m\u001b[38;5;241m*\u001b[39mkwargs):\n\u001b[1;32m    498\u001b[0m     \u001b[38;5;66;03m# overloading __call__ to ensure torch.ops.foo.bar()\u001b[39;00m\n\u001b[1;32m    499\u001b[0m     \u001b[38;5;66;03m# is still callable from JIT\u001b[39;00m\n\u001b[1;32m    500\u001b[0m     \u001b[38;5;66;03m# We save the function ptr as the `op` attribute on\u001b[39;00m\n\u001b[1;32m    501\u001b[0m     \u001b[38;5;66;03m# OpOverloadPacket to access it here.\u001b[39;00m\n\u001b[0;32m--> 502\u001b[0m     \u001b[38;5;28;01mreturn\u001b[39;00m \u001b[38;5;28;43mself\u001b[39;49m\u001b[38;5;241;43m.\u001b[39;49m\u001b[43m_op\u001b[49m\u001b[43m(\u001b[49m\u001b[38;5;241;43m*\u001b[39;49m\u001b[43margs\u001b[49m\u001b[43m,\u001b[49m\u001b[43m \u001b[49m\u001b[38;5;241;43m*\u001b[39;49m\u001b[38;5;241;43m*\u001b[39;49m\u001b[43mkwargs\u001b[49m\u001b[43m \u001b[49m\u001b[38;5;129;43;01mor\u001b[39;49;00m\u001b[43m \u001b[49m\u001b[43m{\u001b[49m\u001b[43m}\u001b[49m\u001b[43m)\u001b[49m\n",
      "\u001b[0;31mNotImplementedError\u001b[0m: Could not run 'quantized::linear_relu' with arguments from the 'CPU' backend. This could be because the operator doesn't exist for this backend, or was omitted during the selective/custom build process (if using custom build). If you are a Facebook employee using PyTorch on mobile, please visit https://fburl.com/ptmfixes for possible resolutions. 'quantized::linear_relu' is only available for these backends: [QuantizedCPU, BackendSelect, Python, FuncTorchDynamicLayerBackMode, Functionalize, Named, Conjugate, Negative, ZeroTensor, ADInplaceOrView, AutogradOther, AutogradCPU, AutogradCUDA, AutogradXLA, AutogradMPS, AutogradXPU, AutogradHPU, AutogradLazy, AutogradMeta, Tracer, AutocastCPU, AutocastCUDA, FuncTorchBatched, FuncTorchVmapMode, Batched, VmapMode, FuncTorchGradWrapper, PythonTLSSnapshot, FuncTorchDynamicLayerFrontMode, PythonDispatcher].\n\nQuantizedCPU: registered at /croot/pytorch_1686931851744/work/aten/src/ATen/native/quantized/cpu/qlinear.cpp:990 [kernel]\nBackendSelect: fallthrough registered at /croot/pytorch_1686931851744/work/aten/src/ATen/core/BackendSelectFallbackKernel.cpp:3 [backend fallback]\nPython: registered at /croot/pytorch_1686931851744/work/aten/src/ATen/core/PythonFallbackKernel.cpp:144 [backend fallback]\nFuncTorchDynamicLayerBackMode: registered at /croot/pytorch_1686931851744/work/aten/src/ATen/functorch/DynamicLayer.cpp:491 [backend fallback]\nFunctionalize: registered at /croot/pytorch_1686931851744/work/aten/src/ATen/FunctionalizeFallbackKernel.cpp:280 [backend fallback]\nNamed: registered at /croot/pytorch_1686931851744/work/aten/src/ATen/core/NamedRegistrations.cpp:7 [backend fallback]\nConjugate: registered at /croot/pytorch_1686931851744/work/aten/src/ATen/ConjugateFallback.cpp:17 [backend fallback]\nNegative: registered at /croot/pytorch_1686931851744/work/aten/src/ATen/native/NegateFallback.cpp:19 [backend fallback]\nZeroTensor: registered at /croot/pytorch_1686931851744/work/aten/src/ATen/ZeroTensorFallback.cpp:86 [backend fallback]\nADInplaceOrView: fallthrough registered at /croot/pytorch_1686931851744/work/aten/src/ATen/core/VariableFallbackKernel.cpp:63 [backend fallback]\nAutogradOther: fallthrough registered at /croot/pytorch_1686931851744/work/aten/src/ATen/core/VariableFallbackKernel.cpp:30 [backend fallback]\nAutogradCPU: fallthrough registered at /croot/pytorch_1686931851744/work/aten/src/ATen/core/VariableFallbackKernel.cpp:34 [backend fallback]\nAutogradCUDA: fallthrough registered at /croot/pytorch_1686931851744/work/aten/src/ATen/core/VariableFallbackKernel.cpp:42 [backend fallback]\nAutogradXLA: fallthrough registered at /croot/pytorch_1686931851744/work/aten/src/ATen/core/VariableFallbackKernel.cpp:46 [backend fallback]\nAutogradMPS: fallthrough registered at /croot/pytorch_1686931851744/work/aten/src/ATen/core/VariableFallbackKernel.cpp:54 [backend fallback]\nAutogradXPU: fallthrough registered at /croot/pytorch_1686931851744/work/aten/src/ATen/core/VariableFallbackKernel.cpp:38 [backend fallback]\nAutogradHPU: fallthrough registered at /croot/pytorch_1686931851744/work/aten/src/ATen/core/VariableFallbackKernel.cpp:67 [backend fallback]\nAutogradLazy: fallthrough registered at /croot/pytorch_1686931851744/work/aten/src/ATen/core/VariableFallbackKernel.cpp:50 [backend fallback]\nAutogradMeta: fallthrough registered at /croot/pytorch_1686931851744/work/aten/src/ATen/core/VariableFallbackKernel.cpp:58 [backend fallback]\nTracer: registered at /croot/pytorch_1686931851744/work/torch/csrc/autograd/TraceTypeManual.cpp:294 [backend fallback]\nAutocastCPU: fallthrough registered at /croot/pytorch_1686931851744/work/aten/src/ATen/autocast_mode.cpp:487 [backend fallback]\nAutocastCUDA: fallthrough registered at /croot/pytorch_1686931851744/work/aten/src/ATen/autocast_mode.cpp:354 [backend fallback]\nFuncTorchBatched: registered at /croot/pytorch_1686931851744/work/aten/src/ATen/functorch/LegacyBatchingRegistrations.cpp:815 [backend fallback]\nFuncTorchVmapMode: fallthrough registered at /croot/pytorch_1686931851744/work/aten/src/ATen/functorch/VmapModeRegistrations.cpp:28 [backend fallback]\nBatched: registered at /croot/pytorch_1686931851744/work/aten/src/ATen/LegacyBatchingRegistrations.cpp:1073 [backend fallback]\nVmapMode: fallthrough registered at /croot/pytorch_1686931851744/work/aten/src/ATen/VmapModeRegistrations.cpp:33 [backend fallback]\nFuncTorchGradWrapper: registered at /croot/pytorch_1686931851744/work/aten/src/ATen/functorch/TensorWrapper.cpp:210 [backend fallback]\nPythonTLSSnapshot: registered at /croot/pytorch_1686931851744/work/aten/src/ATen/core/PythonFallbackKernel.cpp:152 [backend fallback]\nFuncTorchDynamicLayerFrontMode: registered at /croot/pytorch_1686931851744/work/aten/src/ATen/functorch/DynamicLayer.cpp:487 [backend fallback]\nPythonDispatcher: registered at /croot/pytorch_1686931851744/work/aten/src/ATen/core/PythonFallbackKernel.cpp:148 [backend fallback]\n"
     ]
    }
   ],
   "source": [
    "losses, modelQ = Quantrain(model_qat)"
   ]
  },
  {
   "cell_type": "code",
   "execution_count": null,
   "metadata": {},
   "outputs": [],
   "source": [
    "y_pre = []\n",
    "y_labe = []\n",
    "with torch.no_grad():\n",
    "    correct = 0\n",
    "    total = 0\n",
    "    for inputs, labels in test_loader:\n",
    "        outputs = model_qat(inputs)\n",
    "        y_pre=np.append(y_pre,outputs.numpy())\n",
    "        y_labe=np.append(y_labe,labels.numpy())\n",
    "from sklearn.metrics import roc_auc_score\n",
    "auc = roc_auc_score(y_labe, y_pre)\n",
    "print(f'AUC = {auc}')"
   ]
  },
  {
   "cell_type": "markdown",
   "metadata": {},
   "source": [
    "Binary nets\n",
    "- Binary Connect: \n",
    "- BNN\n",
    "- XNOR_Net\n",
    "\n",
    "Zeros: \n",
    "- Relu maps the neg values to zeros, then may lead to the some losses\n",
    "\n",
    "TO do:\n",
    "- Enconde bitmask\n",
    "- Run-length encoding\n",
    "- CSC encoding\n"
   ]
  },
  {
   "cell_type": "markdown",
   "metadata": {},
   "source": [
    "compute the time sepeartely, inversion time and computational time \n",
    "plot of number of the parameters and the size / time "
   ]
  },
  {
   "cell_type": "markdown",
   "metadata": {},
   "source": []
  },
  {
   "cell_type": "code",
   "execution_count": 22,
   "metadata": {},
   "outputs": [
    {
     "data": {
      "text/html": [
       "<div>\n",
       "<style scoped>\n",
       "    .dataframe tbody tr th:only-of-type {\n",
       "        vertical-align: middle;\n",
       "    }\n",
       "\n",
       "    .dataframe tbody tr th {\n",
       "        vertical-align: top;\n",
       "    }\n",
       "\n",
       "    .dataframe thead th {\n",
       "        text-align: right;\n",
       "    }\n",
       "</style>\n",
       "<table border=\"1\" class=\"dataframe\">\n",
       "  <thead>\n",
       "    <tr style=\"text-align: right;\">\n",
       "      <th></th>\n",
       "      <th>leadPhotonEn</th>\n",
       "      <th>leadPhotonMass</th>\n",
       "      <th>leadPhotonPt</th>\n",
       "      <th>leadPhotonEta</th>\n",
       "      <th>leadPhotonPhi</th>\n",
       "      <th>leadPhotonIDMVA</th>\n",
       "      <th>leadPhotonSigmaE</th>\n",
       "      <th>leadPhotonHoE</th>\n",
       "      <th>leadPhotonPfRelIsoAll</th>\n",
       "      <th>leadPhotonPfRelIsoChg</th>\n",
       "      <th>...</th>\n",
       "      <th>leadJetDiphoDEta</th>\n",
       "      <th>subleadJetDiphoDPhi</th>\n",
       "      <th>subleadJetDiphoDEta</th>\n",
       "      <th>nSoftJets</th>\n",
       "      <th>metPt</th>\n",
       "      <th>metPhi</th>\n",
       "      <th>metSumET</th>\n",
       "      <th>metSignificance</th>\n",
       "      <th>weight</th>\n",
       "      <th>proc</th>\n",
       "    </tr>\n",
       "  </thead>\n",
       "  <tbody>\n",
       "    <tr>\n",
       "      <th>1111356</th>\n",
       "      <td>77.388908</td>\n",
       "      <td>0.000001</td>\n",
       "      <td>57.133667</td>\n",
       "      <td>0.818970</td>\n",
       "      <td>-1.590332</td>\n",
       "      <td>0.914551</td>\n",
       "      <td>0.937500</td>\n",
       "      <td>0.000000</td>\n",
       "      <td>0.027066</td>\n",
       "      <td>0.027066</td>\n",
       "      <td>...</td>\n",
       "      <td>-1.645295</td>\n",
       "      <td>0.412073</td>\n",
       "      <td>-0.237702</td>\n",
       "      <td>6.0</td>\n",
       "      <td>22.016317</td>\n",
       "      <td>-0.238159</td>\n",
       "      <td>1211.0</td>\n",
       "      <td>0.869141</td>\n",
       "      <td>1.312993e-06</td>\n",
       "      <td>0</td>\n",
       "    </tr>\n",
       "    <tr>\n",
       "      <th>708637</th>\n",
       "      <td>129.196991</td>\n",
       "      <td>-0.000003</td>\n",
       "      <td>129.048645</td>\n",
       "      <td>0.047943</td>\n",
       "      <td>1.322998</td>\n",
       "      <td>0.972168</td>\n",
       "      <td>1.296875</td>\n",
       "      <td>0.000000</td>\n",
       "      <td>0.000000</td>\n",
       "      <td>0.000000</td>\n",
       "      <td>...</td>\n",
       "      <td>0.605590</td>\n",
       "      <td>2.341702</td>\n",
       "      <td>0.726195</td>\n",
       "      <td>6.0</td>\n",
       "      <td>77.595505</td>\n",
       "      <td>0.022762</td>\n",
       "      <td>775.5</td>\n",
       "      <td>21.265625</td>\n",
       "      <td>9.591657e-11</td>\n",
       "      <td>1</td>\n",
       "    </tr>\n",
       "    <tr>\n",
       "      <th>846317</th>\n",
       "      <td>129.661087</td>\n",
       "      <td>0.000002</td>\n",
       "      <td>124.301880</td>\n",
       "      <td>-0.292603</td>\n",
       "      <td>-2.690918</td>\n",
       "      <td>0.744141</td>\n",
       "      <td>1.562500</td>\n",
       "      <td>0.015930</td>\n",
       "      <td>0.021015</td>\n",
       "      <td>0.021015</td>\n",
       "      <td>...</td>\n",
       "      <td>-1.327674</td>\n",
       "      <td>0.620501</td>\n",
       "      <td>0.540246</td>\n",
       "      <td>6.0</td>\n",
       "      <td>17.334482</td>\n",
       "      <td>1.477539</td>\n",
       "      <td>1763.0</td>\n",
       "      <td>0.518555</td>\n",
       "      <td>1.260631e-06</td>\n",
       "      <td>0</td>\n",
       "    </tr>\n",
       "    <tr>\n",
       "      <th>2577373</th>\n",
       "      <td>89.011086</td>\n",
       "      <td>0.000001</td>\n",
       "      <td>89.006615</td>\n",
       "      <td>-0.010021</td>\n",
       "      <td>-2.511719</td>\n",
       "      <td>0.708984</td>\n",
       "      <td>0.890625</td>\n",
       "      <td>0.000000</td>\n",
       "      <td>0.000000</td>\n",
       "      <td>0.000000</td>\n",
       "      <td>...</td>\n",
       "      <td>-999.000000</td>\n",
       "      <td>-999.000000</td>\n",
       "      <td>-999.000000</td>\n",
       "      <td>6.0</td>\n",
       "      <td>20.119852</td>\n",
       "      <td>0.106323</td>\n",
       "      <td>1245.0</td>\n",
       "      <td>0.977051</td>\n",
       "      <td>7.116355e-06</td>\n",
       "      <td>0</td>\n",
       "    </tr>\n",
       "    <tr>\n",
       "      <th>213346</th>\n",
       "      <td>155.278717</td>\n",
       "      <td>0.000000</td>\n",
       "      <td>147.924973</td>\n",
       "      <td>-0.314026</td>\n",
       "      <td>2.483398</td>\n",
       "      <td>0.963379</td>\n",
       "      <td>1.531250</td>\n",
       "      <td>0.000000</td>\n",
       "      <td>0.008058</td>\n",
       "      <td>0.008058</td>\n",
       "      <td>...</td>\n",
       "      <td>-2.512229</td>\n",
       "      <td>-1.419967</td>\n",
       "      <td>3.073708</td>\n",
       "      <td>6.0</td>\n",
       "      <td>108.228378</td>\n",
       "      <td>-1.519043</td>\n",
       "      <td>2620.0</td>\n",
       "      <td>8.085938</td>\n",
       "      <td>6.632386e-11</td>\n",
       "      <td>1</td>\n",
       "    </tr>\n",
       "    <tr>\n",
       "      <th>...</th>\n",
       "      <td>...</td>\n",
       "      <td>...</td>\n",
       "      <td>...</td>\n",
       "      <td>...</td>\n",
       "      <td>...</td>\n",
       "      <td>...</td>\n",
       "      <td>...</td>\n",
       "      <td>...</td>\n",
       "      <td>...</td>\n",
       "      <td>...</td>\n",
       "      <td>...</td>\n",
       "      <td>...</td>\n",
       "      <td>...</td>\n",
       "      <td>...</td>\n",
       "      <td>...</td>\n",
       "      <td>...</td>\n",
       "      <td>...</td>\n",
       "      <td>...</td>\n",
       "      <td>...</td>\n",
       "      <td>...</td>\n",
       "      <td>...</td>\n",
       "    </tr>\n",
       "    <tr>\n",
       "      <th>667971</th>\n",
       "      <td>73.866203</td>\n",
       "      <td>0.000000</td>\n",
       "      <td>73.475899</td>\n",
       "      <td>-0.103027</td>\n",
       "      <td>-1.945801</td>\n",
       "      <td>0.977539</td>\n",
       "      <td>0.757812</td>\n",
       "      <td>0.000000</td>\n",
       "      <td>0.000000</td>\n",
       "      <td>0.000000</td>\n",
       "      <td>...</td>\n",
       "      <td>1.846709</td>\n",
       "      <td>-2.697640</td>\n",
       "      <td>2.885161</td>\n",
       "      <td>6.0</td>\n",
       "      <td>33.445145</td>\n",
       "      <td>-2.115723</td>\n",
       "      <td>2037.0</td>\n",
       "      <td>1.334961</td>\n",
       "      <td>9.410649e-11</td>\n",
       "      <td>1</td>\n",
       "    </tr>\n",
       "    <tr>\n",
       "      <th>316710</th>\n",
       "      <td>107.925034</td>\n",
       "      <td>0.000000</td>\n",
       "      <td>72.095215</td>\n",
       "      <td>-0.959717</td>\n",
       "      <td>-2.927734</td>\n",
       "      <td>0.838379</td>\n",
       "      <td>1.453125</td>\n",
       "      <td>0.011169</td>\n",
       "      <td>0.017436</td>\n",
       "      <td>0.001089</td>\n",
       "      <td>...</td>\n",
       "      <td>-999.000000</td>\n",
       "      <td>-999.000000</td>\n",
       "      <td>-999.000000</td>\n",
       "      <td>6.0</td>\n",
       "      <td>19.165186</td>\n",
       "      <td>-2.899414</td>\n",
       "      <td>1018.0</td>\n",
       "      <td>1.063477</td>\n",
       "      <td>9.897219e-08</td>\n",
       "      <td>1</td>\n",
       "    </tr>\n",
       "    <tr>\n",
       "      <th>298067</th>\n",
       "      <td>149.264282</td>\n",
       "      <td>0.000002</td>\n",
       "      <td>89.225029</td>\n",
       "      <td>-1.103271</td>\n",
       "      <td>1.434570</td>\n",
       "      <td>0.954590</td>\n",
       "      <td>3.406250</td>\n",
       "      <td>0.000000</td>\n",
       "      <td>0.000000</td>\n",
       "      <td>0.000000</td>\n",
       "      <td>...</td>\n",
       "      <td>-999.000000</td>\n",
       "      <td>-999.000000</td>\n",
       "      <td>-999.000000</td>\n",
       "      <td>6.0</td>\n",
       "      <td>39.433796</td>\n",
       "      <td>-2.859375</td>\n",
       "      <td>753.5</td>\n",
       "      <td>4.476562</td>\n",
       "      <td>1.483928e-08</td>\n",
       "      <td>1</td>\n",
       "    </tr>\n",
       "    <tr>\n",
       "      <th>2053454</th>\n",
       "      <td>112.139229</td>\n",
       "      <td>-0.000002</td>\n",
       "      <td>111.939842</td>\n",
       "      <td>0.059677</td>\n",
       "      <td>-3.135254</td>\n",
       "      <td>0.981445</td>\n",
       "      <td>1.375000</td>\n",
       "      <td>0.009338</td>\n",
       "      <td>0.007979</td>\n",
       "      <td>0.000000</td>\n",
       "      <td>...</td>\n",
       "      <td>0.912704</td>\n",
       "      <td>-0.989709</td>\n",
       "      <td>-2.197648</td>\n",
       "      <td>6.0</td>\n",
       "      <td>50.148216</td>\n",
       "      <td>2.472168</td>\n",
       "      <td>2754.0</td>\n",
       "      <td>2.589844</td>\n",
       "      <td>1.436982e-06</td>\n",
       "      <td>0</td>\n",
       "    </tr>\n",
       "    <tr>\n",
       "      <th>646554</th>\n",
       "      <td>354.755737</td>\n",
       "      <td>0.000008</td>\n",
       "      <td>102.843002</td>\n",
       "      <td>1.909668</td>\n",
       "      <td>2.664062</td>\n",
       "      <td>0.968750</td>\n",
       "      <td>8.500000</td>\n",
       "      <td>0.029602</td>\n",
       "      <td>0.024516</td>\n",
       "      <td>0.000000</td>\n",
       "      <td>...</td>\n",
       "      <td>-4.302818</td>\n",
       "      <td>-999.000000</td>\n",
       "      <td>-999.000000</td>\n",
       "      <td>6.0</td>\n",
       "      <td>32.015461</td>\n",
       "      <td>-1.243408</td>\n",
       "      <td>1444.0</td>\n",
       "      <td>1.923828</td>\n",
       "      <td>2.535550e-06</td>\n",
       "      <td>0</td>\n",
       "    </tr>\n",
       "  </tbody>\n",
       "</table>\n",
       "<p>60000 rows × 143 columns</p>\n",
       "</div>"
      ],
      "text/plain": [
       "         leadPhotonEn  leadPhotonMass  leadPhotonPt  leadPhotonEta  \\\n",
       "1111356     77.388908        0.000001     57.133667       0.818970   \n",
       "708637     129.196991       -0.000003    129.048645       0.047943   \n",
       "846317     129.661087        0.000002    124.301880      -0.292603   \n",
       "2577373     89.011086        0.000001     89.006615      -0.010021   \n",
       "213346     155.278717        0.000000    147.924973      -0.314026   \n",
       "...               ...             ...           ...            ...   \n",
       "667971      73.866203        0.000000     73.475899      -0.103027   \n",
       "316710     107.925034        0.000000     72.095215      -0.959717   \n",
       "298067     149.264282        0.000002     89.225029      -1.103271   \n",
       "2053454    112.139229       -0.000002    111.939842       0.059677   \n",
       "646554     354.755737        0.000008    102.843002       1.909668   \n",
       "\n",
       "         leadPhotonPhi  leadPhotonIDMVA  leadPhotonSigmaE  leadPhotonHoE  \\\n",
       "1111356      -1.590332         0.914551          0.937500       0.000000   \n",
       "708637        1.322998         0.972168          1.296875       0.000000   \n",
       "846317       -2.690918         0.744141          1.562500       0.015930   \n",
       "2577373      -2.511719         0.708984          0.890625       0.000000   \n",
       "213346        2.483398         0.963379          1.531250       0.000000   \n",
       "...                ...              ...               ...            ...   \n",
       "667971       -1.945801         0.977539          0.757812       0.000000   \n",
       "316710       -2.927734         0.838379          1.453125       0.011169   \n",
       "298067        1.434570         0.954590          3.406250       0.000000   \n",
       "2053454      -3.135254         0.981445          1.375000       0.009338   \n",
       "646554        2.664062         0.968750          8.500000       0.029602   \n",
       "\n",
       "         leadPhotonPfRelIsoAll  leadPhotonPfRelIsoChg  ...  leadJetDiphoDEta  \\\n",
       "1111356               0.027066               0.027066  ...         -1.645295   \n",
       "708637                0.000000               0.000000  ...          0.605590   \n",
       "846317                0.021015               0.021015  ...         -1.327674   \n",
       "2577373               0.000000               0.000000  ...       -999.000000   \n",
       "213346                0.008058               0.008058  ...         -2.512229   \n",
       "...                        ...                    ...  ...               ...   \n",
       "667971                0.000000               0.000000  ...          1.846709   \n",
       "316710                0.017436               0.001089  ...       -999.000000   \n",
       "298067                0.000000               0.000000  ...       -999.000000   \n",
       "2053454               0.007979               0.000000  ...          0.912704   \n",
       "646554                0.024516               0.000000  ...         -4.302818   \n",
       "\n",
       "         subleadJetDiphoDPhi  subleadJetDiphoDEta  nSoftJets       metPt  \\\n",
       "1111356             0.412073            -0.237702        6.0   22.016317   \n",
       "708637              2.341702             0.726195        6.0   77.595505   \n",
       "846317              0.620501             0.540246        6.0   17.334482   \n",
       "2577373          -999.000000          -999.000000        6.0   20.119852   \n",
       "213346             -1.419967             3.073708        6.0  108.228378   \n",
       "...                      ...                  ...        ...         ...   \n",
       "667971             -2.697640             2.885161        6.0   33.445145   \n",
       "316710           -999.000000          -999.000000        6.0   19.165186   \n",
       "298067           -999.000000          -999.000000        6.0   39.433796   \n",
       "2053454            -0.989709            -2.197648        6.0   50.148216   \n",
       "646554           -999.000000          -999.000000        6.0   32.015461   \n",
       "\n",
       "           metPhi  metSumET  metSignificance        weight  proc  \n",
       "1111356 -0.238159    1211.0         0.869141  1.312993e-06     0  \n",
       "708637   0.022762     775.5        21.265625  9.591657e-11     1  \n",
       "846317   1.477539    1763.0         0.518555  1.260631e-06     0  \n",
       "2577373  0.106323    1245.0         0.977051  7.116355e-06     0  \n",
       "213346  -1.519043    2620.0         8.085938  6.632386e-11     1  \n",
       "...           ...       ...              ...           ...   ...  \n",
       "667971  -2.115723    2037.0         1.334961  9.410649e-11     1  \n",
       "316710  -2.899414    1018.0         1.063477  9.897219e-08     1  \n",
       "298067  -2.859375     753.5         4.476562  1.483928e-08     1  \n",
       "2053454  2.472168    2754.0         2.589844  1.436982e-06     0  \n",
       "646554  -1.243408    1444.0         1.923828  2.535550e-06     0  \n",
       "\n",
       "[60000 rows x 143 columns]"
      ]
     },
     "execution_count": 22,
     "metadata": {},
     "output_type": "execute_result"
    }
   ],
   "source": [
    "df"
   ]
  },
  {
   "cell_type": "code",
   "execution_count": null,
   "metadata": {},
   "outputs": [],
   "source": []
  }
 ],
 "metadata": {
  "kernelspec": {
   "display_name": "Python 3",
   "language": "python",
   "name": "python3"
  },
  "language_info": {
   "codemirror_mode": {
    "name": "ipython",
    "version": 3
   },
   "file_extension": ".py",
   "mimetype": "text/x-python",
   "name": "python",
   "nbconvert_exporter": "python",
   "pygments_lexer": "ipython3",
   "version": "3.11.5"
  }
 },
 "nbformat": 4,
 "nbformat_minor": 2
}
